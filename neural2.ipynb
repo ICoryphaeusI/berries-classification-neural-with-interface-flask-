{
 "cells": [
  {
   "cell_type": "code",
   "execution_count": 5,
   "metadata": {},
   "outputs": [],
   "source": [
    "import os\n",
    "import cv2\n",
    "import numpy as np\n",
    "from sklearn.model_selection import train_test_split\n",
    "from sklearn.preprocessing import LabelEncoder\n",
    "\n",
    "# Путь к папке с данными\n",
    "data_path = r'D:\\diplom_baza\\aug_baza'\n",
    "\n",
    "# Инициализация списков для данных и меток\n",
    "X = []\n",
    "y = []\n",
    "\n",
    "# Целевое разрешение изображений\n",
    "target_resolution = (256, 256)\n",
    "\n",
    "# Словарь для хранения счетчика неправильных файлов для каждой папки\n",
    "invalid_file_counts = {}\n",
    "\n",
    "# Проход по всем классам в папке\n",
    "for class_folder in os.listdir(data_path):\n",
    "    class_path = os.path.join(data_path, class_folder)\n",
    "    \n",
    "    # Инициализация счетчика неправильных файлов для текущей папки\n",
    "    invalid_file_count = 0\n",
    "    \n",
    "    # Проход по изображениям в каждом классе\n",
    "    for image_file in os.listdir(class_path):\n",
    "        image_path = os.path.join(class_path, image_file)\n",
    "        \n",
    "        # Загрузка изображения\n",
    "        img = cv2.imread(image_path)\n",
    "        \n",
    "        # Проверка на успешность загрузки\n",
    "        if img is not None:\n",
    "            # Изменение размера изображения\n",
    "            img = cv2.resize(img, target_resolution)\n",
    "            \n",
    "            # Преобразование изображения в массив и добавление в список X\n",
    "            X.append(img)\n",
    "            \n",
    "            # Добавление метки класса в список y\n",
    "            y.append(class_folder)\n",
    "        else:\n",
    "            # Увеличение счетчика неправильных файлов для текущей папки\n",
    "            invalid_file_count += 1\n",
    "    \n",
    "    # Сохранение счетчика неправильных файлов для текущей папки в словаре\n",
    "    invalid_file_counts[class_folder] = invalid_file_count\n",
    "\n",
    "# Преобразование списков в массивы numpy\n",
    "X = np.array(X)\n",
    "y = np.array(y)\n",
    "\n",
    "# Разделение данных на обучающий и тестовый наборы\n",
    "X_train, X_test, y_train, y_test = train_test_split(X, y, test_size=0.2, random_state=42)\n",
    "\n",
    "# Разделение обучающего набора на обучающий и валидационный\n",
    "X_train, X_val, y_train, y_val = train_test_split(X_train, y_train, test_size=0.1, random_state=42)\n",
    "\n",
    "# Инициализация и обучение label_encoder\n",
    "label_encoder = LabelEncoder()\n",
    "y_train_encoded = label_encoder.fit_transform(y_train)\n",
    "y_val_encoded = label_encoder.transform(y_val)"
   ]
  },
  {
   "cell_type": "code",
   "execution_count": 6,
   "metadata": {},
   "outputs": [
    {
     "name": "stdout",
     "output_type": "stream",
     "text": [
      "Размерности массивов:\n",
      "X_train: (28539, 256, 256, 3)\n",
      "y_train: (28539,)\n",
      "X_val: (7928, 256, 256, 3)\n",
      "y_val: (7928,)\n"
     ]
    }
   ],
   "source": [
    "# Проверка размерностей массивов\n",
    "print(\"Размерности массивов:\")\n",
    "print(\"X_train:\", X_train.shape)\n",
    "print(\"y_train:\", y_train.shape)\n",
    "print(\"X_val:\", X_test.shape)\n",
    "print(\"y_val:\", y_test.shape)"
   ]
  },
  {
   "cell_type": "code",
   "execution_count": 7,
   "metadata": {},
   "outputs": [
    {
     "name": "stdout",
     "output_type": "stream",
     "text": [
      "Epoch 1/20\n",
      "892/892 [==============================] - 72s 76ms/step - loss: 3.1076 - accuracy: 0.2234 - val_loss: 2.5522 - val_accuracy: 0.3002\n",
      "Epoch 2/20\n",
      "892/892 [==============================] - 64s 72ms/step - loss: 2.0618 - accuracy: 0.3939 - val_loss: 2.0873 - val_accuracy: 0.4185\n",
      "Epoch 3/20\n",
      "892/892 [==============================] - 64s 71ms/step - loss: 1.5895 - accuracy: 0.5187 - val_loss: 1.6758 - val_accuracy: 0.5020\n",
      "Epoch 4/20\n",
      "892/892 [==============================] - 63s 71ms/step - loss: 1.2470 - accuracy: 0.6179 - val_loss: 1.5257 - val_accuracy: 0.5588\n",
      "Epoch 5/20\n",
      "892/892 [==============================] - 63s 71ms/step - loss: 0.9514 - accuracy: 0.7055 - val_loss: 1.4512 - val_accuracy: 0.6004\n",
      "Epoch 6/20\n",
      "892/892 [==============================] - 63s 71ms/step - loss: 0.7196 - accuracy: 0.7707 - val_loss: 1.7532 - val_accuracy: 0.5714\n",
      "Epoch 7/20\n",
      "892/892 [==============================] - 63s 71ms/step - loss: 0.5577 - accuracy: 0.8216 - val_loss: 1.3476 - val_accuracy: 0.6619\n",
      "Epoch 8/20\n",
      "892/892 [==============================] - 63s 71ms/step - loss: 0.4615 - accuracy: 0.8549 - val_loss: 1.3015 - val_accuracy: 0.6588\n",
      "Epoch 9/20\n",
      "892/892 [==============================] - 63s 71ms/step - loss: 0.3632 - accuracy: 0.8850 - val_loss: 1.1827 - val_accuracy: 0.7055\n",
      "Epoch 10/20\n",
      "892/892 [==============================] - 63s 71ms/step - loss: 0.3195 - accuracy: 0.9043 - val_loss: 1.3369 - val_accuracy: 0.6865\n",
      "Epoch 11/20\n",
      "892/892 [==============================] - 63s 71ms/step - loss: 0.2814 - accuracy: 0.9119 - val_loss: 1.1701 - val_accuracy: 0.7168\n",
      "Epoch 12/20\n",
      "892/892 [==============================] - 63s 71ms/step - loss: 0.2501 - accuracy: 0.9235 - val_loss: 1.2137 - val_accuracy: 0.7379\n",
      "Epoch 13/20\n",
      "892/892 [==============================] - 63s 71ms/step - loss: 0.2143 - accuracy: 0.9334 - val_loss: 1.1691 - val_accuracy: 0.7367\n",
      "Epoch 14/20\n",
      "892/892 [==============================] - 63s 71ms/step - loss: 0.2008 - accuracy: 0.9386 - val_loss: 1.2851 - val_accuracy: 0.7244\n",
      "Epoch 15/20\n",
      "892/892 [==============================] - 63s 71ms/step - loss: 0.1930 - accuracy: 0.9437 - val_loss: 1.3452 - val_accuracy: 0.7196\n",
      "Epoch 16/20\n",
      "892/892 [==============================] - 63s 71ms/step - loss: 0.1785 - accuracy: 0.9458 - val_loss: 1.4281 - val_accuracy: 0.7196\n",
      "Epoch 17/20\n",
      "892/892 [==============================] - 63s 71ms/step - loss: 0.1634 - accuracy: 0.9520 - val_loss: 1.2962 - val_accuracy: 0.7487\n",
      "Epoch 18/20\n",
      "892/892 [==============================] - 63s 71ms/step - loss: 0.1462 - accuracy: 0.9548 - val_loss: 1.2322 - val_accuracy: 0.7531\n",
      "Epoch 19/20\n",
      "892/892 [==============================] - 63s 71ms/step - loss: 0.1405 - accuracy: 0.9600 - val_loss: 1.0949 - val_accuracy: 0.7840\n",
      "Epoch 20/20\n",
      "892/892 [==============================] - 63s 71ms/step - loss: 0.1218 - accuracy: 0.9649 - val_loss: 1.1405 - val_accuracy: 0.7629\n",
      "248/248 [==============================] - 5s 19ms/step - loss: 1.0973 - accuracy: 0.7650\n",
      "Test accuracy: 0.7650101184844971\n"
     ]
    },
    {
     "data": {
      "image/png": "[encoded data removed]",
      "text/plain": [
       "<Figure size 640x480 with 1 Axes>"
      ]
     },
     "metadata": {},
     "output_type": "display_data"
    },
    {
     "data": {
      "image/png": "[encoded data removed]",
      "text/plain": [
       "<Figure size 640x480 with 1 Axes>"
      ]
     },
     "metadata": {},
     "output_type": "display_data"
    }
   ],
   "source": [
    "import tensorflow as tf\n",
    "from tensorflow.keras import layers, models\n",
    "import matplotlib.pyplot as plt\n",
    "\n",
    "# Создание архитектуры модели\n",
    "model = models.Sequential([\n",
    "    layers.Conv2D(32, (3, 3), activation='relu', input_shape=(256, 256, 3)),\n",
    "    layers.BatchNormalization(),\n",
    "    layers.MaxPooling2D((2, 2)),\n",
    "    layers.Conv2D(64, (3, 3), activation='relu'),\n",
    "    layers.BatchNormalization(),\n",
    "    layers.MaxPooling2D((2, 2)),\n",
    "    layers.Conv2D(128, (3, 3), activation='relu'),\n",
    "    layers.BatchNormalization(),\n",
    "    layers.MaxPooling2D((2, 2)),\n",
    "    layers.Conv2D(128, (3, 3), activation='relu'),\n",
    "    layers.BatchNormalization(),\n",
    "    layers.MaxPooling2D((2, 2)),\n",
    "    layers.Flatten(),\n",
    "    layers.Dropout(0.5),  # Добавляем слой dropout для регуляризации\n",
    "    layers.Dense(512, activation='relu'),\n",
    "    layers.Dense(len(label_encoder.classes_), activation='softmax')\n",
    "])\n",
    "\n",
    "# Компиляция модели\n",
    "model.compile(optimizer='adam',\n",
    "              loss='sparse_categorical_crossentropy',\n",
    "              metrics=['accuracy'])\n",
    "\n",
    "# Обучение модели\n",
    "history = model.fit(X_train, y_train_encoded, epochs=20, validation_data=(X_val, y_val_encoded), verbose=1)\n",
    "\n",
    "# Тестирование модели\n",
    "test_loss, test_acc = model.evaluate(X_test, label_encoder.transform(y_test))\n",
    "print(\"Test accuracy:\", test_acc)\n",
    "\n",
    "# Графики точности и потерь в процессе обучения\n",
    "plt.plot(history.history['accuracy'], label='accuracy')\n",
    "plt.plot(history.history['val_accuracy'], label='val_accuracy')\n",
    "plt.xlabel('Epoch')\n",
    "plt.ylabel('Accuracy')\n",
    "plt.ylim([0, 1])\n",
    "plt.legend(loc='lower right')\n",
    "plt.show()\n",
    "\n",
    "plt.plot(history.history['loss'], label='loss')\n",
    "plt.plot(history.history['val_loss'], label='val_loss')\n",
    "plt.xlabel('Epoch')\n",
    "plt.ylabel('Loss')\n",
    "plt.legend(loc='upper right')\n",
    "plt.show()\n",
    "\n",
    "# Сохранение весов модели\n",
    "model.save_weights('image_classifier_weights2.h5')\n"
   ]
  },
  {
   "cell_type": "code",
   "execution_count": 4,
   "metadata": {},
   "outputs": [
    {
     "name": "stdout",
     "output_type": "stream",
     "text": [
      "Epoch 1/20\n",
      "149/149 [==============================] - 13s 83ms/step - loss: 5.8536 - accuracy: 0.0915 - val_loss: 3.3789 - val_accuracy: 0.1151\n",
      "Epoch 2/20\n",
      "149/149 [==============================] - 11s 73ms/step - loss: 3.0635 - accuracy: 0.2091 - val_loss: 3.2304 - val_accuracy: 0.2113\n",
      "Epoch 3/20\n",
      "149/149 [==============================] - 11s 73ms/step - loss: 2.5260 - accuracy: 0.3086 - val_loss: 3.1245 - val_accuracy: 0.2208\n",
      "Epoch 4/20\n",
      "149/149 [==============================] - 11s 72ms/step - loss: 2.0751 - accuracy: 0.4186 - val_loss: 3.5457 - val_accuracy: 0.2340\n",
      "Epoch 5/20\n",
      "149/149 [==============================] - 11s 72ms/step - loss: 1.5360 - accuracy: 0.5495 - val_loss: 3.0799 - val_accuracy: 0.2717\n",
      "Epoch 6/20\n",
      "149/149 [==============================] - 11s 73ms/step - loss: 1.1699 - accuracy: 0.6534 - val_loss: 3.2683 - val_accuracy: 0.2811\n",
      "Epoch 7/20\n",
      "149/149 [==============================] - 11s 73ms/step - loss: 0.7623 - accuracy: 0.7603 - val_loss: 3.6669 - val_accuracy: 0.2830\n",
      "Epoch 8/20\n",
      "149/149 [==============================] - 11s 73ms/step - loss: 0.5195 - accuracy: 0.8340 - val_loss: 3.9695 - val_accuracy: 0.2830\n",
      "Epoch 9/20\n",
      "149/149 [==============================] - 11s 73ms/step - loss: 0.3682 - accuracy: 0.8862 - val_loss: 4.4355 - val_accuracy: 0.2792\n",
      "Epoch 10/20\n",
      "149/149 [==============================] - 11s 73ms/step - loss: 0.3014 - accuracy: 0.9079 - val_loss: 4.6992 - val_accuracy: 0.3000\n",
      "Epoch 11/20\n",
      "149/149 [==============================] - 11s 73ms/step - loss: 0.2869 - accuracy: 0.9112 - val_loss: 4.8702 - val_accuracy: 0.2679\n",
      "Epoch 12/20\n",
      "149/149 [==============================] - 11s 72ms/step - loss: 0.2117 - accuracy: 0.9343 - val_loss: 4.3561 - val_accuracy: 0.3208\n",
      "Epoch 13/20\n",
      "149/149 [==============================] - 11s 73ms/step - loss: 0.1785 - accuracy: 0.9473 - val_loss: 5.4032 - val_accuracy: 0.2849\n",
      "Epoch 14/20\n",
      "149/149 [==============================] - 11s 77ms/step - loss: 0.2208 - accuracy: 0.9366 - val_loss: 4.8743 - val_accuracy: 0.2774\n",
      "Epoch 15/20\n",
      "149/149 [==============================] - 11s 71ms/step - loss: 0.2545 - accuracy: 0.9301 - val_loss: 5.2294 - val_accuracy: 0.2792\n",
      "Epoch 16/20\n",
      "149/149 [==============================] - 10s 68ms/step - loss: 0.2689 - accuracy: 0.9244 - val_loss: 6.0778 - val_accuracy: 0.2792\n",
      "Epoch 17/20\n",
      "149/149 [==============================] - 11s 73ms/step - loss: 0.2752 - accuracy: 0.9288 - val_loss: 5.9080 - val_accuracy: 0.2491\n",
      "Epoch 18/20\n",
      "149/149 [==============================] - 11s 74ms/step - loss: 0.2695 - accuracy: 0.9309 - val_loss: 6.9602 - val_accuracy: 0.2453\n",
      "Epoch 19/20\n",
      "149/149 [==============================] - 11s 71ms/step - loss: 0.2040 - accuracy: 0.9406 - val_loss: 5.9643 - val_accuracy: 0.2887\n",
      "Epoch 20/20\n",
      "149/149 [==============================] - 11s 71ms/step - loss: 0.1589 - accuracy: 0.9561 - val_loss: 5.7676 - val_accuracy: 0.2981\n",
      "42/42 [==============================] - 1s 23ms/step - loss: 5.7225 - accuracy: 0.2802\n",
      "Test accuracy: 0.280211478471756\n"
     ]
    },
    {
     "data": {
      "image/png": "[encoded data removed]",
      "text/plain": [
       "<Figure size 640x480 with 1 Axes>"
      ]
     },
     "metadata": {},
     "output_type": "display_data"
    },
    {
     "data": {
      "image/png": "[encoded data removed]",
      "text/plain": [
       "<Figure size 640x480 with 1 Axes>"
      ]
     },
     "metadata": {},
     "output_type": "display_data"
    }
   ],
   "source": [
    "import tensorflow as tf\n",
    "from tensorflow.keras import layers, models\n",
    "import matplotlib.pyplot as plt\n",
    "\n",
    "# Создание архитектуры модели\n",
    "model = models.Sequential([\n",
    "    layers.Conv2D(32, (3, 3), activation='relu', input_shape=(256, 256, 3)),\n",
    "    layers.BatchNormalization(),\n",
    "    layers.MaxPooling2D((2, 2)),\n",
    "    layers.Conv2D(64, (3, 3), activation='relu'),\n",
    "    layers.BatchNormalization(),\n",
    "    layers.MaxPooling2D((2, 2)),\n",
    "    layers.Conv2D(128, (3, 3), activation='relu'),\n",
    "    layers.BatchNormalization(),\n",
    "    layers.MaxPooling2D((2, 2)),\n",
    "    layers.Conv2D(128, (3, 3), activation='relu'),\n",
    "    layers.BatchNormalization(),\n",
    "    layers.MaxPooling2D((2, 2)),\n",
    "    layers.Flatten(),\n",
    "    layers.Dropout(0.5),  # Добавляем слой dropout для регуляризации\n",
    "    layers.Dense(512, activation='relu'),\n",
    "    layers.Dense(len(label_encoder.classes_), activation='softmax')\n",
    "])\n",
    "\n",
    "# Компиляция модели\n",
    "model.compile(optimizer='adam',\n",
    "              loss='sparse_categorical_crossentropy',\n",
    "              metrics=['accuracy'])\n",
    "\n",
    "# Обучение модели\n",
    "history = model.fit(X_train, y_train_encoded, epochs=20, validation_data=(X_val, y_val_encoded), verbose=1)\n",
    "\n",
    "# Тестирование модели\n",
    "test_loss, test_acc = model.evaluate(X_test, label_encoder.transform(y_test))\n",
    "print(\"Test accuracy:\", test_acc)\n",
    "\n",
    "# Графики точности и потерь в процессе обучения\n",
    "plt.plot(history.history['accuracy'], label='accuracy')\n",
    "plt.plot(history.history['val_accuracy'], label='val_accuracy')\n",
    "plt.xlabel('Epoch')\n",
    "plt.ylabel('Accuracy')\n",
    "plt.ylim([0, 1])\n",
    "plt.legend(loc='lower right')\n",
    "plt.show()\n",
    "\n",
    "plt.plot(history.history['loss'], label='loss')\n",
    "plt.plot(history.history['val_loss'], label='val_loss')\n",
    "plt.xlabel('Epoch')\n",
    "plt.ylabel('Loss')\n",
    "plt.legend(loc='upper right')\n",
    "plt.show()\n",
    "\n",
    "# Сохранение весов модели\n",
    "model.save_weights('image_classifier_weights.h5')\n"
   ]
  },
  {
   "cell_type": "code",
   "execution_count": 2,
   "metadata": {},
   "outputs": [
    {
     "name": "stdout",
     "output_type": "stream",
     "text": [
      "Trial 6 Complete [01h 03m 35s]\n",
      "val_accuracy: 0.852830171585083\n",
      "\n",
      "Best val_accuracy So Far: 0.8924528360366821\n",
      "Total elapsed time: 04h 27m 23s\n",
      "WARNING:tensorflow:Using a while_loop for converting RngReadAndSkip\n",
      "WARNING:tensorflow:Using a while_loop for converting Bitcast\n",
      "WARNING:tensorflow:Using a while_loop for converting Bitcast\n",
      "WARNING:tensorflow:Using a while_loop for converting StatelessRandomUniformV2\n",
      "WARNING:tensorflow:Using a while_loop for converting RngReadAndSkip\n",
      "WARNING:tensorflow:Using a while_loop for converting Bitcast\n",
      "WARNING:tensorflow:Using a while_loop for converting Bitcast\n",
      "WARNING:tensorflow:Using a while_loop for converting StatelessRandomUniformV2\n",
      "WARNING:tensorflow:Using a while_loop for converting ImageProjectiveTransformV3\n",
      "Epoch 1/10\n",
      "WARNING:tensorflow:Using a while_loop for converting RngReadAndSkip\n",
      "WARNING:tensorflow:Using a while_loop for converting Bitcast\n",
      "WARNING:tensorflow:Using a while_loop for converting Bitcast\n",
      "WARNING:tensorflow:Using a while_loop for converting StatelessRandomUniformV2\n",
      "WARNING:tensorflow:Using a while_loop for converting RngReadAndSkip\n",
      "WARNING:tensorflow:Using a while_loop for converting Bitcast\n",
      "WARNING:tensorflow:Using a while_loop for converting Bitcast\n",
      "WARNING:tensorflow:Using a while_loop for converting StatelessRandomUniformV2\n",
      "WARNING:tensorflow:Using a while_loop for converting ImageProjectiveTransformV3\n",
      "WARNING:tensorflow:Using a while_loop for converting RngReadAndSkip\n",
      "WARNING:tensorflow:Using a while_loop for converting Bitcast\n",
      "WARNING:tensorflow:Using a while_loop for converting Bitcast\n",
      "WARNING:tensorflow:Using a while_loop for converting StatelessRandomUniformV2\n",
      "WARNING:tensorflow:Using a while_loop for converting RngReadAndSkip\n",
      "WARNING:tensorflow:Using a while_loop for converting Bitcast\n",
      "WARNING:tensorflow:Using a while_loop for converting Bitcast\n",
      "WARNING:tensorflow:Using a while_loop for converting StatelessRandomUniformV2\n",
      "WARNING:tensorflow:Using a while_loop for converting ImageProjectiveTransformV3\n",
      "Not enough memory, reduce batch size to 16.\n",
      "Epoch 1/10\n",
      "Not enough memory, reduce batch size to 8.\n",
      "Epoch 1/10\n",
      "596/596 [==============================] - 374s 627ms/step - loss: 3.5223 - accuracy: 0.1824 - val_loss: 2.9151 - val_accuracy: 0.4623\n",
      "Epoch 2/10\n",
      "596/596 [==============================] - 371s 622ms/step - loss: 2.1319 - accuracy: 0.5817 - val_loss: 1.5289 - val_accuracy: 0.7151\n",
      "Epoch 3/10\n",
      "596/596 [==============================] - 369s 620ms/step - loss: 1.0946 - accuracy: 0.7827 - val_loss: 0.9294 - val_accuracy: 0.8075\n",
      "Epoch 4/10\n",
      "596/596 [==============================] - 370s 621ms/step - loss: 0.6206 - accuracy: 0.8774 - val_loss: 0.6825 - val_accuracy: 0.8434\n",
      "Epoch 5/10\n",
      "596/596 [==============================] - 370s 621ms/step - loss: 0.3509 - accuracy: 0.9387 - val_loss: 0.5684 - val_accuracy: 0.8623\n",
      "Epoch 6/10\n",
      "596/596 [==============================] - 370s 621ms/step - loss: 0.1978 - accuracy: 0.9769 - val_loss: 0.4903 - val_accuracy: 0.8755\n",
      "Epoch 7/10\n",
      "596/596 [==============================] - 374s 628ms/step - loss: 0.1140 - accuracy: 0.9927 - val_loss: 0.4530 - val_accuracy: 0.8868\n",
      "Epoch 8/10\n",
      "596/596 [==============================] - 370s 621ms/step - loss: 0.0680 - accuracy: 0.9956 - val_loss: 0.4261 - val_accuracy: 0.8887\n",
      "Epoch 9/10\n",
      "596/596 [==============================] - 370s 621ms/step - loss: 0.0417 - accuracy: 0.9994 - val_loss: 0.4118 - val_accuracy: 0.8755\n",
      "Epoch 10/10\n",
      "596/596 [==============================] - 370s 620ms/step - loss: 0.0279 - accuracy: 0.9987 - val_loss: 0.3924 - val_accuracy: 0.8887\n",
      "WARNING:tensorflow:Using a while_loop for converting RngReadAndSkip\n",
      "WARNING:tensorflow:Using a while_loop for converting Bitcast\n",
      "WARNING:tensorflow:Using a while_loop for converting Bitcast\n",
      "WARNING:tensorflow:Using a while_loop for converting StatelessRandomUniformV2\n",
      "WARNING:tensorflow:Using a while_loop for converting RngReadAndSkip\n",
      "WARNING:tensorflow:Using a while_loop for converting Bitcast\n",
      "WARNING:tensorflow:Using a while_loop for converting Bitcast\n",
      "WARNING:tensorflow:Using a while_loop for converting StatelessRandomUniformV2\n",
      "WARNING:tensorflow:Using a while_loop for converting ImageProjectiveTransformV3\n",
      "WARNING:tensorflow:Using a while_loop for converting RngReadAndSkip\n",
      "WARNING:tensorflow:Using a while_loop for converting Bitcast\n",
      "WARNING:tensorflow:Using a while_loop for converting Bitcast\n",
      "WARNING:tensorflow:Using a while_loop for converting StatelessRandomUniformV2\n",
      "WARNING:tensorflow:Using a while_loop for converting RngReadAndSkip\n",
      "WARNING:tensorflow:Using a while_loop for converting Bitcast\n",
      "WARNING:tensorflow:Using a while_loop for converting Bitcast\n",
      "WARNING:tensorflow:Using a while_loop for converting StatelessRandomUniformV2\n",
      "WARNING:tensorflow:Using a while_loop for converting ImageProjectiveTransformV3\n",
      "WARNING:tensorflow:Using a while_loop for converting RngReadAndSkip\n",
      "WARNING:tensorflow:Using a while_loop for converting Bitcast\n",
      "WARNING:tensorflow:Using a while_loop for converting Bitcast\n",
      "WARNING:tensorflow:Using a while_loop for converting StatelessRandomUniformV2\n",
      "WARNING:tensorflow:Using a while_loop for converting RngReadAndSkip\n",
      "WARNING:tensorflow:Using a while_loop for converting Bitcast\n",
      "WARNING:tensorflow:Using a while_loop for converting Bitcast\n",
      "WARNING:tensorflow:Using a while_loop for converting StatelessRandomUniformV2\n",
      "WARNING:tensorflow:Using a while_loop for converting ImageProjectiveTransformV3\n"
     ]
    },
    {
     "name": "stderr",
     "output_type": "stream",
     "text": [
      "WARNING:absl:Found untraced functions such as _jit_compiled_convolution_op, _jit_compiled_convolution_op, _jit_compiled_convolution_op, _jit_compiled_convolution_op, _jit_compiled_convolution_op while saving (showing 5 of 273). These functions will not be directly callable after loading.\n"
     ]
    },
    {
     "name": "stdout",
     "output_type": "stream",
     "text": [
      "INFO:tensorflow:Assets written to: berries3\\image_classifier\\best_model\\assets\n"
     ]
    },
    {
     "name": "stderr",
     "output_type": "stream",
     "text": [
      "INFO:tensorflow:Assets written to: berries3\\image_classifier\\best_model\\assets\n"
     ]
    },
    {
     "name": "stdout",
     "output_type": "stream",
     "text": [
      "WARNING:tensorflow:Using a while_loop for converting RngReadAndSkip\n"
     ]
    },
    {
     "name": "stderr",
     "output_type": "stream",
     "text": [
      "WARNING:tensorflow:Using a while_loop for converting RngReadAndSkip\n"
     ]
    },
    {
     "name": "stdout",
     "output_type": "stream",
     "text": [
      "WARNING:tensorflow:Using a while_loop for converting Bitcast\n"
     ]
    },
    {
     "name": "stderr",
     "output_type": "stream",
     "text": [
      "WARNING:tensorflow:Using a while_loop for converting Bitcast\n"
     ]
    },
    {
     "name": "stdout",
     "output_type": "stream",
     "text": [
      "WARNING:tensorflow:Using a while_loop for converting Bitcast\n"
     ]
    },
    {
     "name": "stderr",
     "output_type": "stream",
     "text": [
      "WARNING:tensorflow:Using a while_loop for converting Bitcast\n"
     ]
    },
    {
     "name": "stdout",
     "output_type": "stream",
     "text": [
      "WARNING:tensorflow:Using a while_loop for converting StatelessRandomUniformV2\n"
     ]
    },
    {
     "name": "stderr",
     "output_type": "stream",
     "text": [
      "WARNING:tensorflow:Using a while_loop for converting StatelessRandomUniformV2\n"
     ]
    },
    {
     "name": "stdout",
     "output_type": "stream",
     "text": [
      "WARNING:tensorflow:Using a while_loop for converting RngReadAndSkip\n"
     ]
    },
    {
     "name": "stderr",
     "output_type": "stream",
     "text": [
      "WARNING:tensorflow:Using a while_loop for converting RngReadAndSkip\n"
     ]
    },
    {
     "name": "stdout",
     "output_type": "stream",
     "text": [
      "WARNING:tensorflow:Using a while_loop for converting Bitcast\n"
     ]
    },
    {
     "name": "stderr",
     "output_type": "stream",
     "text": [
      "WARNING:tensorflow:Using a while_loop for converting Bitcast\n"
     ]
    },
    {
     "name": "stdout",
     "output_type": "stream",
     "text": [
      "WARNING:tensorflow:Using a while_loop for converting Bitcast\n"
     ]
    },
    {
     "name": "stderr",
     "output_type": "stream",
     "text": [
      "WARNING:tensorflow:Using a while_loop for converting Bitcast\n"
     ]
    },
    {
     "name": "stdout",
     "output_type": "stream",
     "text": [
      "WARNING:tensorflow:Using a while_loop for converting StatelessRandomUniformV2\n"
     ]
    },
    {
     "name": "stderr",
     "output_type": "stream",
     "text": [
      "WARNING:tensorflow:Using a while_loop for converting StatelessRandomUniformV2\n"
     ]
    },
    {
     "name": "stdout",
     "output_type": "stream",
     "text": [
      "WARNING:tensorflow:Using a while_loop for converting ImageProjectiveTransformV3\n"
     ]
    },
    {
     "name": "stderr",
     "output_type": "stream",
     "text": [
      "WARNING:tensorflow:Using a while_loop for converting ImageProjectiveTransformV3\n"
     ]
    },
    {
     "name": "stdout",
     "output_type": "stream",
     "text": [
      "WARNING:tensorflow:Using a while_loop for converting RngReadAndSkip\n"
     ]
    },
    {
     "name": "stderr",
     "output_type": "stream",
     "text": [
      "WARNING:tensorflow:Using a while_loop for converting RngReadAndSkip\n"
     ]
    },
    {
     "name": "stdout",
     "output_type": "stream",
     "text": [
      "WARNING:tensorflow:Using a while_loop for converting Bitcast\n"
     ]
    },
    {
     "name": "stderr",
     "output_type": "stream",
     "text": [
      "WARNING:tensorflow:Using a while_loop for converting Bitcast\n"
     ]
    },
    {
     "name": "stdout",
     "output_type": "stream",
     "text": [
      "WARNING:tensorflow:Using a while_loop for converting Bitcast\n"
     ]
    },
    {
     "name": "stderr",
     "output_type": "stream",
     "text": [
      "WARNING:tensorflow:Using a while_loop for converting Bitcast\n"
     ]
    },
    {
     "name": "stdout",
     "output_type": "stream",
     "text": [
      "WARNING:tensorflow:Using a while_loop for converting StatelessRandomUniformV2\n"
     ]
    },
    {
     "name": "stderr",
     "output_type": "stream",
     "text": [
      "WARNING:tensorflow:Using a while_loop for converting StatelessRandomUniformV2\n"
     ]
    },
    {
     "name": "stdout",
     "output_type": "stream",
     "text": [
      "WARNING:tensorflow:Using a while_loop for converting RngReadAndSkip\n"
     ]
    },
    {
     "name": "stderr",
     "output_type": "stream",
     "text": [
      "WARNING:tensorflow:Using a while_loop for converting RngReadAndSkip\n"
     ]
    },
    {
     "name": "stdout",
     "output_type": "stream",
     "text": [
      "WARNING:tensorflow:Using a while_loop for converting Bitcast\n"
     ]
    },
    {
     "name": "stderr",
     "output_type": "stream",
     "text": [
      "WARNING:tensorflow:Using a while_loop for converting Bitcast\n"
     ]
    },
    {
     "name": "stdout",
     "output_type": "stream",
     "text": [
      "WARNING:tensorflow:Using a while_loop for converting Bitcast\n"
     ]
    },
    {
     "name": "stderr",
     "output_type": "stream",
     "text": [
      "WARNING:tensorflow:Using a while_loop for converting Bitcast\n"
     ]
    },
    {
     "name": "stdout",
     "output_type": "stream",
     "text": [
      "WARNING:tensorflow:Using a while_loop for converting StatelessRandomUniformV2\n"
     ]
    },
    {
     "name": "stderr",
     "output_type": "stream",
     "text": [
      "WARNING:tensorflow:Using a while_loop for converting StatelessRandomUniformV2\n"
     ]
    },
    {
     "name": "stdout",
     "output_type": "stream",
     "text": [
      "WARNING:tensorflow:Using a while_loop for converting ImageProjectiveTransformV3\n"
     ]
    },
    {
     "name": "stderr",
     "output_type": "stream",
     "text": [
      "WARNING:tensorflow:Using a while_loop for converting ImageProjectiveTransformV3\n"
     ]
    },
    {
     "name": "stdout",
     "output_type": "stream",
     "text": [
      "WARNING:tensorflow:Using a while_loop for converting RngReadAndSkip\n"
     ]
    },
    {
     "name": "stderr",
     "output_type": "stream",
     "text": [
      "WARNING:tensorflow:Using a while_loop for converting RngReadAndSkip\n"
     ]
    },
    {
     "name": "stdout",
     "output_type": "stream",
     "text": [
      "WARNING:tensorflow:Using a while_loop for converting Bitcast\n"
     ]
    },
    {
     "name": "stderr",
     "output_type": "stream",
     "text": [
      "WARNING:tensorflow:Using a while_loop for converting Bitcast\n"
     ]
    },
    {
     "name": "stdout",
     "output_type": "stream",
     "text": [
      "WARNING:tensorflow:Using a while_loop for converting Bitcast\n"
     ]
    },
    {
     "name": "stderr",
     "output_type": "stream",
     "text": [
      "WARNING:tensorflow:Using a while_loop for converting Bitcast\n"
     ]
    },
    {
     "name": "stdout",
     "output_type": "stream",
     "text": [
      "WARNING:tensorflow:Using a while_loop for converting StatelessRandomUniformV2\n"
     ]
    },
    {
     "name": "stderr",
     "output_type": "stream",
     "text": [
      "WARNING:tensorflow:Using a while_loop for converting StatelessRandomUniformV2\n"
     ]
    },
    {
     "name": "stdout",
     "output_type": "stream",
     "text": [
      "WARNING:tensorflow:Using a while_loop for converting RngReadAndSkip\n"
     ]
    },
    {
     "name": "stderr",
     "output_type": "stream",
     "text": [
      "WARNING:tensorflow:Using a while_loop for converting RngReadAndSkip\n"
     ]
    },
    {
     "name": "stdout",
     "output_type": "stream",
     "text": [
      "WARNING:tensorflow:Using a while_loop for converting Bitcast\n"
     ]
    },
    {
     "name": "stderr",
     "output_type": "stream",
     "text": [
      "WARNING:tensorflow:Using a while_loop for converting Bitcast\n"
     ]
    },
    {
     "name": "stdout",
     "output_type": "stream",
     "text": [
      "WARNING:tensorflow:Using a while_loop for converting Bitcast\n"
     ]
    },
    {
     "name": "stderr",
     "output_type": "stream",
     "text": [
      "WARNING:tensorflow:Using a while_loop for converting Bitcast\n"
     ]
    },
    {
     "name": "stdout",
     "output_type": "stream",
     "text": [
      "WARNING:tensorflow:Using a while_loop for converting StatelessRandomUniformV2\n"
     ]
    },
    {
     "name": "stderr",
     "output_type": "stream",
     "text": [
      "WARNING:tensorflow:Using a while_loop for converting StatelessRandomUniformV2\n"
     ]
    },
    {
     "name": "stdout",
     "output_type": "stream",
     "text": [
      "WARNING:tensorflow:Using a while_loop for converting ImageProjectiveTransformV3\n"
     ]
    },
    {
     "name": "stderr",
     "output_type": "stream",
     "text": [
      "WARNING:tensorflow:Using a while_loop for converting ImageProjectiveTransformV3\n",
      "WARNING:absl:Found untraced functions such as _jit_compiled_convolution_op, _jit_compiled_convolution_op, _jit_compiled_convolution_op, _jit_compiled_convolution_op, _jit_compiled_convolution_op while saving (showing 5 of 273). These functions will not be directly callable after loading.\n"
     ]
    },
    {
     "name": "stdout",
     "output_type": "stream",
     "text": [
      "INFO:tensorflow:Assets written to: best_autokeras_model\\assets\n"
     ]
    },
    {
     "name": "stderr",
     "output_type": "stream",
     "text": [
      "INFO:tensorflow:Assets written to: best_autokeras_model\\assets\n"
     ]
    }
   ],
   "source": [
    "import autokeras as ak\n",
    "import pickle\n",
    "\n",
    "clf = ak.ImageClassifier(\n",
    "    max_trials=6,\n",
    "    objective='val_accuracy',\n",
    "    directory='berries3',\n",
    "    overwrite=True)\n",
    "\n",
    "# Обучение с использованием валидационного набора\n",
    "clf.fit(X_train, y_train_encoded, epochs=10, validation_data=(X_val, y_val_encoded), verbose=1)\n",
    "\n",
    "# Сохранение label_encoder в файл\n",
    "with open('label_encoder.pkl', 'wb') as le_file:\n",
    "    pickle.dump(label_encoder, le_file)\n",
    "\n",
    "# Сохранение словаря invalid_file_counts в файл\n",
    "with open('invalid_file_counts.pkl', 'wb') as ifc_file:\n",
    "    pickle.dump(invalid_file_counts, ifc_file)\n",
    "\n",
    "# Сохранение лучшей модели\n",
    "best_model = clf.export_model()\n",
    "best_model.save('best_autokeras_model')\n",
    "best_model.save('best_model3.h5')"
   ]
  },
  {
   "cell_type": "code",
   "execution_count": 6,
   "metadata": {},
   "outputs": [
    {
     "name": "stdout",
     "output_type": "stream",
     "text": [
      "Model: \"model\"\n",
      "_________________________________________________________________\n",
      " Layer (type)                Output Shape              Param #   \n",
      "=================================================================\n",
      " input_1 (InputLayer)        [(None, 256, 256, 3)]     0         \n",
      "                                                                 \n",
      " cast_to_float32 (CastToFloa  (None, 256, 256, 3)      0         \n",
      " t32)                                                            \n",
      "                                                                 \n",
      " random_translation (RandomT  (None, 256, 256, 3)      0         \n",
      " ranslation)                                                     \n",
      "                                                                 \n",
      " random_flip (RandomFlip)    (None, 256, 256, 3)       0         \n",
      "                                                                 \n",
      " efficientnetb7 (Functional)  (None, None, None, 2560)  64097687 \n",
      "                                                                 \n",
      " global_average_pooling2d (G  (None, 2560)             0         \n",
      " lobalAveragePooling2D)                                          \n",
      "                                                                 \n",
      " dense (Dense)               (None, 46)                117806    \n",
      "                                                                 \n",
      " classification_head_1 (Soft  (None, 46)               0         \n",
      " max)                                                            \n",
      "                                                                 \n",
      "=================================================================\n",
      "Total params: 64,215,493\n",
      "Trainable params: 63,904,766\n",
      "Non-trainable params: 310,727\n",
      "_________________________________________________________________\n"
     ]
    }
   ],
   "source": [
    "import pickle\n",
    "from tensorflow.keras.models import load_model\n",
    "import cv2\n",
    "import numpy as np\n",
    "import autokeras as ak\n",
    "\n",
    "with open('label_encoder.pkl', 'rb') as le_file:\n",
    "    label_encoder = pickle.load(le_file)\n",
    "\n",
    "with open('invalid_file_counts.pkl', 'rb') as ifc_file:\n",
    "    invalid_file_counts = pickle.load(ifc_file)\n",
    "\n",
    "loaded_model = load_model('best_autokeras_model', custom_objects=ak.CUSTOM_OBJECTS)\n",
    "loaded_model.summary()"
   ]
  },
  {
   "cell_type": "code",
   "execution_count": 6,
   "metadata": {},
   "outputs": [
    {
     "name": "stdout",
     "output_type": "stream",
     "text": [
      "42/42 [==============================] - 22s 397ms/step - loss: 0.3211 - accuracy: 0.9139\n",
      "Test Accuracy: 0.9138972759246826\n"
     ]
    }
   ],
   "source": [
    "# Преобразование строковых меток тестового набора в числовые\n",
    "y_test_encoded = label_encoder.transform(y_test)\n",
    "\n",
    "# Оценка производительности на тестовых данных\n",
    "evaluation = clf.evaluate(X_test, y_test_encoded)\n",
    "print(\"Test Accuracy:\", evaluation[1])\n"
   ]
  },
  {
   "cell_type": "code",
   "execution_count": 1,
   "metadata": {},
   "outputs": [
    {
     "name": "stdout",
     "output_type": "stream",
     "text": [
      "Using TensorFlow backend\n",
      "1/1 [==============================] - 9s 9s/step\n",
      "Предсказанный класс: paslen_chern\n"
     ]
    }
   ],
   "source": [
    "import pickle\n",
    "from tensorflow.keras.models import load_model\n",
    "import cv2\n",
    "import numpy as np\n",
    "import autokeras as ak\n",
    "\n",
    "with open('91_version/label_encoder.pkl', 'rb') as le_file:\n",
    "    label_encoder = pickle.load(le_file)\n",
    "\n",
    "with open('91_version/invalid_file_counts.pkl', 'rb') as ifc_file:\n",
    "    invalid_file_counts = pickle.load(ifc_file)\n",
    "\n",
    "loaded_model = load_model('91_version/best_autokeras_model', custom_objects=ak.CUSTOM_OBJECTS)\n",
    "\n",
    "# Пример загрузки нового изображения\n",
    "new_image_path = 'ex/9.jpg'\n",
    "new_img = cv2.imread(new_image_path)\n",
    "new_img = cv2.resize(new_img, (256, 256))\n",
    "new_img_array = np.expand_dims(new_img, axis=0)\n",
    "\n",
    "# Получение предсказанных вероятностей\n",
    "predictions = loaded_model.predict(new_img_array)\n",
    "\n",
    "# Преобразование вероятностей в исходные метки\n",
    "predicted_class = np.argmax(predictions)\n",
    "decoded_class = label_encoder.inverse_transform([predicted_class])[0]\n",
    "\n",
    "print(f\"Предсказанный класс: {decoded_class}\")"
   ]
  },
  {
   "cell_type": "code",
   "execution_count": 4,
   "metadata": {},
   "outputs": [
    {
     "name": "stdout",
     "output_type": "stream",
     "text": [
      "WARNING:tensorflow:Using a while_loop for converting RngReadAndSkip\n",
      "WARNING:tensorflow:Using a while_loop for converting Bitcast\n",
      "WARNING:tensorflow:Using a while_loop for converting Bitcast\n",
      "WARNING:tensorflow:Using a while_loop for converting StatelessRandomUniformV2\n",
      "WARNING:tensorflow:Using a while_loop for converting RngReadAndSkip\n",
      "WARNING:tensorflow:Using a while_loop for converting Bitcast\n",
      "WARNING:tensorflow:Using a while_loop for converting Bitcast\n",
      "WARNING:tensorflow:Using a while_loop for converting StatelessRandomUniformV2\n",
      "WARNING:tensorflow:Using a while_loop for converting ImageProjectiveTransformV3\n",
      "Downloading data from https://github.com/Callidior/keras-applications/releases/download/efficientnet/efficientnet-b7_weights_tf_dim_ordering_tf_kernels_autoaugment_notop.h5\n",
      "258434480/258434480 [==============================] - 23s 0us/step\n",
      "Model: \"manual_model\"\n",
      "_________________________________________________________________\n",
      " Layer (type)                Output Shape              Param #   \n",
      "=================================================================\n",
      " input_1 (InputLayer)        [(None, 256, 256, 3)]     0         \n",
      "                                                                 \n",
      " rescaling (Rescaling)       (None, 256, 256, 3)       0         \n",
      "                                                                 \n",
      " random_translation (RandomT  (None, 256, 256, 3)      0         \n",
      " ranslation)                                                     \n",
      "                                                                 \n",
      " random_flip (RandomFlip)    (None, 256, 256, 3)       0         \n",
      "                                                                 \n",
      " efficientnet-b7 (Functional  (None, None, None, 2560)  64097680 \n",
      " )                                                               \n",
      "                                                                 \n",
      " global_average_pooling2d (G  (None, 2560)             0         \n",
      " lobalAveragePooling2D)                                          \n",
      "                                                                 \n",
      " dense (Dense)               (None, 46)                117806    \n",
      "                                                                 \n",
      "=================================================================\n",
      "Total params: 64,215,486\n",
      "Trainable params: 63,904,766\n",
      "Non-trainable params: 310,720\n",
      "_________________________________________________________________\n",
      "Epoch 1/10\n",
      "WARNING:tensorflow:Using a while_loop for converting RngReadAndSkip\n",
      "WARNING:tensorflow:Using a while_loop for converting Bitcast\n",
      "WARNING:tensorflow:Using a while_loop for converting Bitcast\n",
      "WARNING:tensorflow:Using a while_loop for converting StatelessRandomUniformV2\n",
      "WARNING:tensorflow:Using a while_loop for converting RngReadAndSkip\n",
      "WARNING:tensorflow:Using a while_loop for converting Bitcast\n",
      "WARNING:tensorflow:Using a while_loop for converting Bitcast\n",
      "WARNING:tensorflow:Using a while_loop for converting StatelessRandomUniformV2\n",
      "WARNING:tensorflow:Using a while_loop for converting ImageProjectiveTransformV3\n",
      "WARNING:tensorflow:Using a while_loop for converting RngReadAndSkip\n",
      "WARNING:tensorflow:Using a while_loop for converting Bitcast\n",
      "WARNING:tensorflow:Using a while_loop for converting Bitcast\n",
      "WARNING:tensorflow:Using a while_loop for converting StatelessRandomUniformV2\n",
      "WARNING:tensorflow:Using a while_loop for converting RngReadAndSkip\n",
      "WARNING:tensorflow:Using a while_loop for converting Bitcast\n",
      "WARNING:tensorflow:Using a while_loop for converting Bitcast\n",
      "WARNING:tensorflow:Using a while_loop for converting StatelessRandomUniformV2\n",
      "WARNING:tensorflow:Using a while_loop for converting ImageProjectiveTransformV3\n"
     ]
    },
    {
     "ename": "ResourceExhaustedError",
     "evalue": "Graph execution error:\n\nDetected at node 'manual_model/efficientnet-b7/block2d_expand_activation/mul' defined at (most recent call last):\n    File \"c:\\Users\\Sorra\\anaconda3\\envs\\gpu\\lib\\runpy.py\", line 197, in _run_module_as_main\n      return _run_code(code, main_globals, None,\n    File \"c:\\Users\\Sorra\\anaconda3\\envs\\gpu\\lib\\runpy.py\", line 87, in _run_code\n      exec(code, run_globals)\n    File \"c:\\Users\\Sorra\\anaconda3\\envs\\gpu\\lib\\site-packages\\ipykernel_launcher.py\", line 18, in <module>\n      app.launch_new_instance()\n    File \"c:\\Users\\Sorra\\anaconda3\\envs\\gpu\\lib\\site-packages\\traitlets\\config\\application.py\", line 1075, in launch_instance\n      app.start()\n    File \"c:\\Users\\Sorra\\anaconda3\\envs\\gpu\\lib\\site-packages\\ipykernel\\kernelapp.py\", line 739, in start\n      self.io_loop.start()\n    File \"c:\\Users\\Sorra\\anaconda3\\envs\\gpu\\lib\\site-packages\\tornado\\platform\\asyncio.py\", line 215, in start\n      self.asyncio_loop.run_forever()\n    File \"c:\\Users\\Sorra\\anaconda3\\envs\\gpu\\lib\\asyncio\\base_events.py\", line 601, in run_forever\n      self._run_once()\n    File \"c:\\Users\\Sorra\\anaconda3\\envs\\gpu\\lib\\asyncio\\base_events.py\", line 1905, in _run_once\n      handle._run()\n    File \"c:\\Users\\Sorra\\anaconda3\\envs\\gpu\\lib\\asyncio\\events.py\", line 80, in _run\n      self._context.run(self._callback, *self._args)\n    File \"c:\\Users\\Sorra\\anaconda3\\envs\\gpu\\lib\\site-packages\\ipykernel\\kernelbase.py\", line 542, in dispatch_queue\n      await self.process_one()\n    File \"c:\\Users\\Sorra\\anaconda3\\envs\\gpu\\lib\\site-packages\\ipykernel\\kernelbase.py\", line 531, in process_one\n      await dispatch(*args)\n    File \"c:\\Users\\Sorra\\anaconda3\\envs\\gpu\\lib\\site-packages\\ipykernel\\kernelbase.py\", line 437, in dispatch_shell\n      await result\n    File \"c:\\Users\\Sorra\\anaconda3\\envs\\gpu\\lib\\site-packages\\ipykernel\\ipkernel.py\", line 359, in execute_request\n      await super().execute_request(stream, ident, parent)\n    File \"c:\\Users\\Sorra\\anaconda3\\envs\\gpu\\lib\\site-packages\\ipykernel\\kernelbase.py\", line 775, in execute_request\n      reply_content = await reply_content\n    File \"c:\\Users\\Sorra\\anaconda3\\envs\\gpu\\lib\\site-packages\\ipykernel\\ipkernel.py\", line 446, in do_execute\n      res = shell.run_cell(\n    File \"c:\\Users\\Sorra\\anaconda3\\envs\\gpu\\lib\\site-packages\\ipykernel\\zmqshell.py\", line 549, in run_cell\n      return super().run_cell(*args, **kwargs)\n    File \"c:\\Users\\Sorra\\anaconda3\\envs\\gpu\\lib\\site-packages\\IPython\\core\\interactiveshell.py\", line 3006, in run_cell\n      result = self._run_cell(\n    File \"c:\\Users\\Sorra\\anaconda3\\envs\\gpu\\lib\\site-packages\\IPython\\core\\interactiveshell.py\", line 3061, in _run_cell\n      result = runner(coro)\n    File \"c:\\Users\\Sorra\\anaconda3\\envs\\gpu\\lib\\site-packages\\IPython\\core\\async_helpers.py\", line 129, in _pseudo_sync_runner\n      coro.send(None)\n    File \"c:\\Users\\Sorra\\anaconda3\\envs\\gpu\\lib\\site-packages\\IPython\\core\\interactiveshell.py\", line 3266, in run_cell_async\n      has_raised = await self.run_ast_nodes(code_ast.body, cell_name,\n    File \"c:\\Users\\Sorra\\anaconda3\\envs\\gpu\\lib\\site-packages\\IPython\\core\\interactiveshell.py\", line 3445, in run_ast_nodes\n      if await self.run_code(code, result, async_=asy):\n    File \"c:\\Users\\Sorra\\anaconda3\\envs\\gpu\\lib\\site-packages\\IPython\\core\\interactiveshell.py\", line 3505, in run_code\n      exec(code_obj, self.user_global_ns, self.user_ns)\n    File \"C:\\Users\\Sorra\\AppData\\Local\\Temp\\ipykernel_4216\\1600148728.py\", line 44, in <module>\n      model.fit(X_train, y_train_encoded, epochs=10, validation_data=(X_val, y_val_encoded), verbose=1)\n    File \"c:\\Users\\Sorra\\anaconda3\\envs\\gpu\\lib\\site-packages\\keras\\utils\\traceback_utils.py\", line 64, in error_handler\n      return fn(*args, **kwargs)\n    File \"c:\\Users\\Sorra\\anaconda3\\envs\\gpu\\lib\\site-packages\\keras\\engine\\training.py\", line 1409, in fit\n      tmp_logs = self.train_function(iterator)\n    File \"c:\\Users\\Sorra\\anaconda3\\envs\\gpu\\lib\\site-packages\\keras\\engine\\training.py\", line 1051, in train_function\n      return step_function(self, iterator)\n    File \"c:\\Users\\Sorra\\anaconda3\\envs\\gpu\\lib\\site-packages\\keras\\engine\\training.py\", line 1040, in step_function\n      outputs = model.distribute_strategy.run(run_step, args=(data,))\n    File \"c:\\Users\\Sorra\\anaconda3\\envs\\gpu\\lib\\site-packages\\keras\\engine\\training.py\", line 1030, in run_step\n      outputs = model.train_step(data)\n    File \"c:\\Users\\Sorra\\anaconda3\\envs\\gpu\\lib\\site-packages\\keras\\engine\\training.py\", line 889, in train_step\n      y_pred = self(x, training=True)\n    File \"c:\\Users\\Sorra\\anaconda3\\envs\\gpu\\lib\\site-packages\\keras\\utils\\traceback_utils.py\", line 64, in error_handler\n      return fn(*args, **kwargs)\n    File \"c:\\Users\\Sorra\\anaconda3\\envs\\gpu\\lib\\site-packages\\keras\\engine\\training.py\", line 490, in __call__\n      return super().__call__(*args, **kwargs)\n    File \"c:\\Users\\Sorra\\anaconda3\\envs\\gpu\\lib\\site-packages\\keras\\utils\\traceback_utils.py\", line 64, in error_handler\n      return fn(*args, **kwargs)\n    File \"c:\\Users\\Sorra\\anaconda3\\envs\\gpu\\lib\\site-packages\\keras\\engine\\base_layer.py\", line 1014, in __call__\n      outputs = call_fn(inputs, *args, **kwargs)\n    File \"c:\\Users\\Sorra\\anaconda3\\envs\\gpu\\lib\\site-packages\\keras\\utils\\traceback_utils.py\", line 92, in error_handler\n      return fn(*args, **kwargs)\n    File \"c:\\Users\\Sorra\\anaconda3\\envs\\gpu\\lib\\site-packages\\keras\\engine\\functional.py\", line 458, in call\n      return self._run_internal_graph(\n    File \"c:\\Users\\Sorra\\anaconda3\\envs\\gpu\\lib\\site-packages\\keras\\engine\\functional.py\", line 596, in _run_internal_graph\n      outputs = node.layer(*args, **kwargs)\n    File \"c:\\Users\\Sorra\\anaconda3\\envs\\gpu\\lib\\site-packages\\keras\\utils\\traceback_utils.py\", line 64, in error_handler\n      return fn(*args, **kwargs)\n    File \"c:\\Users\\Sorra\\anaconda3\\envs\\gpu\\lib\\site-packages\\keras\\engine\\training.py\", line 490, in __call__\n      return super().__call__(*args, **kwargs)\n    File \"c:\\Users\\Sorra\\anaconda3\\envs\\gpu\\lib\\site-packages\\keras\\utils\\traceback_utils.py\", line 64, in error_handler\n      return fn(*args, **kwargs)\n    File \"c:\\Users\\Sorra\\anaconda3\\envs\\gpu\\lib\\site-packages\\keras\\engine\\base_layer.py\", line 1014, in __call__\n      outputs = call_fn(inputs, *args, **kwargs)\n    File \"c:\\Users\\Sorra\\anaconda3\\envs\\gpu\\lib\\site-packages\\keras\\utils\\traceback_utils.py\", line 92, in error_handler\n      return fn(*args, **kwargs)\n    File \"c:\\Users\\Sorra\\anaconda3\\envs\\gpu\\lib\\site-packages\\keras\\engine\\functional.py\", line 458, in call\n      return self._run_internal_graph(\n    File \"c:\\Users\\Sorra\\anaconda3\\envs\\gpu\\lib\\site-packages\\keras\\engine\\functional.py\", line 596, in _run_internal_graph\n      outputs = node.layer(*args, **kwargs)\n    File \"c:\\Users\\Sorra\\anaconda3\\envs\\gpu\\lib\\site-packages\\keras\\utils\\traceback_utils.py\", line 64, in error_handler\n      return fn(*args, **kwargs)\n    File \"c:\\Users\\Sorra\\anaconda3\\envs\\gpu\\lib\\site-packages\\keras\\engine\\base_layer.py\", line 1014, in __call__\n      outputs = call_fn(inputs, *args, **kwargs)\n    File \"c:\\Users\\Sorra\\anaconda3\\envs\\gpu\\lib\\site-packages\\keras\\utils\\traceback_utils.py\", line 92, in error_handler\n      return fn(*args, **kwargs)\n    File \"c:\\Users\\Sorra\\anaconda3\\envs\\gpu\\lib\\site-packages\\keras\\layers\\core\\activation.py\", line 57, in call\n      return self.activation(inputs)\n    File \"c:\\Users\\Sorra\\anaconda3\\envs\\gpu\\lib\\site-packages\\efficientnet\\model.py\", line 115, in swish\n      return x * backend.sigmoid(x)\nNode: 'manual_model/efficientnet-b7/block2d_expand_activation/mul'\nfailed to allocate memory\n\t [[{{node manual_model/efficientnet-b7/block2d_expand_activation/mul}}]]\nHint: If you want to see a list of allocated tensors when OOM happens, add report_tensor_allocations_upon_oom to RunOptions for current allocation info. This isn't available when running in Eager mode.\n [Op:__inference_train_function_64937]",
     "output_type": "error",
     "traceback": [
      "\u001b[1;31m---------------------------------------------------------------------------\u001b[0m",
      "\u001b[1;31mResourceExhaustedError\u001b[0m                    Traceback (most recent call last)",
      "Cell \u001b[1;32mIn[4], line 44\u001b[0m\n\u001b[0;32m     41\u001b[0m model\u001b[38;5;241m.\u001b[39msummary()\n\u001b[0;32m     43\u001b[0m \u001b[38;5;66;03m# Обучение модели\u001b[39;00m\n\u001b[1;32m---> 44\u001b[0m \u001b[43mmodel\u001b[49m\u001b[38;5;241;43m.\u001b[39;49m\u001b[43mfit\u001b[49m\u001b[43m(\u001b[49m\u001b[43mX_train\u001b[49m\u001b[43m,\u001b[49m\u001b[43m \u001b[49m\u001b[43my_train_encoded\u001b[49m\u001b[43m,\u001b[49m\u001b[43m \u001b[49m\u001b[43mepochs\u001b[49m\u001b[38;5;241;43m=\u001b[39;49m\u001b[38;5;241;43m10\u001b[39;49m\u001b[43m,\u001b[49m\u001b[43m \u001b[49m\u001b[43mvalidation_data\u001b[49m\u001b[38;5;241;43m=\u001b[39;49m\u001b[43m(\u001b[49m\u001b[43mX_val\u001b[49m\u001b[43m,\u001b[49m\u001b[43m \u001b[49m\u001b[43my_val_encoded\u001b[49m\u001b[43m)\u001b[49m\u001b[43m,\u001b[49m\u001b[43m \u001b[49m\u001b[43mverbose\u001b[49m\u001b[38;5;241;43m=\u001b[39;49m\u001b[38;5;241;43m1\u001b[39;49m\u001b[43m)\u001b[49m\n\u001b[0;32m     46\u001b[0m \u001b[38;5;66;03m# Сохранение модели\u001b[39;00m\n\u001b[0;32m     47\u001b[0m model\u001b[38;5;241m.\u001b[39msave(\u001b[38;5;124m'\u001b[39m\u001b[38;5;124mmanual_model.h5\u001b[39m\u001b[38;5;124m'\u001b[39m)\n",
      "File \u001b[1;32mc:\\Users\\Sorra\\anaconda3\\envs\\gpu\\lib\\site-packages\\keras\\utils\\traceback_utils.py:67\u001b[0m, in \u001b[0;36mfilter_traceback.<locals>.error_handler\u001b[1;34m(*args, **kwargs)\u001b[0m\n\u001b[0;32m     65\u001b[0m \u001b[38;5;28;01mexcept\u001b[39;00m \u001b[38;5;167;01mException\u001b[39;00m \u001b[38;5;28;01mas\u001b[39;00m e:  \u001b[38;5;66;03m# pylint: disable=broad-except\u001b[39;00m\n\u001b[0;32m     66\u001b[0m   filtered_tb \u001b[38;5;241m=\u001b[39m _process_traceback_frames(e\u001b[38;5;241m.\u001b[39m__traceback__)\n\u001b[1;32m---> 67\u001b[0m   \u001b[38;5;28;01mraise\u001b[39;00m e\u001b[38;5;241m.\u001b[39mwith_traceback(filtered_tb) \u001b[38;5;28;01mfrom\u001b[39;00m \u001b[38;5;28;01mNone\u001b[39;00m\n\u001b[0;32m     68\u001b[0m \u001b[38;5;28;01mfinally\u001b[39;00m:\n\u001b[0;32m     69\u001b[0m   \u001b[38;5;28;01mdel\u001b[39;00m filtered_tb\n",
      "File \u001b[1;32mc:\\Users\\Sorra\\anaconda3\\envs\\gpu\\lib\\site-packages\\tensorflow\\python\\eager\\execute.py:54\u001b[0m, in \u001b[0;36mquick_execute\u001b[1;34m(op_name, num_outputs, inputs, attrs, ctx, name)\u001b[0m\n\u001b[0;32m     52\u001b[0m \u001b[38;5;28;01mtry\u001b[39;00m:\n\u001b[0;32m     53\u001b[0m   ctx\u001b[38;5;241m.\u001b[39mensure_initialized()\n\u001b[1;32m---> 54\u001b[0m   tensors \u001b[38;5;241m=\u001b[39m pywrap_tfe\u001b[38;5;241m.\u001b[39mTFE_Py_Execute(ctx\u001b[38;5;241m.\u001b[39m_handle, device_name, op_name,\n\u001b[0;32m     55\u001b[0m                                       inputs, attrs, num_outputs)\n\u001b[0;32m     56\u001b[0m \u001b[38;5;28;01mexcept\u001b[39;00m core\u001b[38;5;241m.\u001b[39m_NotOkStatusException \u001b[38;5;28;01mas\u001b[39;00m e:\n\u001b[0;32m     57\u001b[0m   \u001b[38;5;28;01mif\u001b[39;00m name \u001b[38;5;129;01mis\u001b[39;00m \u001b[38;5;129;01mnot\u001b[39;00m \u001b[38;5;28;01mNone\u001b[39;00m:\n",
      "\u001b[1;31mResourceExhaustedError\u001b[0m: Graph execution error:\n\nDetected at node 'manual_model/efficientnet-b7/block2d_expand_activation/mul' defined at (most recent call last):\n    File \"c:\\Users\\Sorra\\anaconda3\\envs\\gpu\\lib\\runpy.py\", line 197, in _run_module_as_main\n      return _run_code(code, main_globals, None,\n    File \"c:\\Users\\Sorra\\anaconda3\\envs\\gpu\\lib\\runpy.py\", line 87, in _run_code\n      exec(code, run_globals)\n    File \"c:\\Users\\Sorra\\anaconda3\\envs\\gpu\\lib\\site-packages\\ipykernel_launcher.py\", line 18, in <module>\n      app.launch_new_instance()\n    File \"c:\\Users\\Sorra\\anaconda3\\envs\\gpu\\lib\\site-packages\\traitlets\\config\\application.py\", line 1075, in launch_instance\n      app.start()\n    File \"c:\\Users\\Sorra\\anaconda3\\envs\\gpu\\lib\\site-packages\\ipykernel\\kernelapp.py\", line 739, in start\n      self.io_loop.start()\n    File \"c:\\Users\\Sorra\\anaconda3\\envs\\gpu\\lib\\site-packages\\tornado\\platform\\asyncio.py\", line 215, in start\n      self.asyncio_loop.run_forever()\n    File \"c:\\Users\\Sorra\\anaconda3\\envs\\gpu\\lib\\asyncio\\base_events.py\", line 601, in run_forever\n      self._run_once()\n    File \"c:\\Users\\Sorra\\anaconda3\\envs\\gpu\\lib\\asyncio\\base_events.py\", line 1905, in _run_once\n      handle._run()\n    File \"c:\\Users\\Sorra\\anaconda3\\envs\\gpu\\lib\\asyncio\\events.py\", line 80, in _run\n      self._context.run(self._callback, *self._args)\n    File \"c:\\Users\\Sorra\\anaconda3\\envs\\gpu\\lib\\site-packages\\ipykernel\\kernelbase.py\", line 542, in dispatch_queue\n      await self.process_one()\n    File \"c:\\Users\\Sorra\\anaconda3\\envs\\gpu\\lib\\site-packages\\ipykernel\\kernelbase.py\", line 531, in process_one\n      await dispatch(*args)\n    File \"c:\\Users\\Sorra\\anaconda3\\envs\\gpu\\lib\\site-packages\\ipykernel\\kernelbase.py\", line 437, in dispatch_shell\n      await result\n    File \"c:\\Users\\Sorra\\anaconda3\\envs\\gpu\\lib\\site-packages\\ipykernel\\ipkernel.py\", line 359, in execute_request\n      await super().execute_request(stream, ident, parent)\n    File \"c:\\Users\\Sorra\\anaconda3\\envs\\gpu\\lib\\site-packages\\ipykernel\\kernelbase.py\", line 775, in execute_request\n      reply_content = await reply_content\n    File \"c:\\Users\\Sorra\\anaconda3\\envs\\gpu\\lib\\site-packages\\ipykernel\\ipkernel.py\", line 446, in do_execute\n      res = shell.run_cell(\n    File \"c:\\Users\\Sorra\\anaconda3\\envs\\gpu\\lib\\site-packages\\ipykernel\\zmqshell.py\", line 549, in run_cell\n      return super().run_cell(*args, **kwargs)\n    File \"c:\\Users\\Sorra\\anaconda3\\envs\\gpu\\lib\\site-packages\\IPython\\core\\interactiveshell.py\", line 3006, in run_cell\n      result = self._run_cell(\n    File \"c:\\Users\\Sorra\\anaconda3\\envs\\gpu\\lib\\site-packages\\IPython\\core\\interactiveshell.py\", line 3061, in _run_cell\n      result = runner(coro)\n    File \"c:\\Users\\Sorra\\anaconda3\\envs\\gpu\\lib\\site-packages\\IPython\\core\\async_helpers.py\", line 129, in _pseudo_sync_runner\n      coro.send(None)\n    File \"c:\\Users\\Sorra\\anaconda3\\envs\\gpu\\lib\\site-packages\\IPython\\core\\interactiveshell.py\", line 3266, in run_cell_async\n      has_raised = await self.run_ast_nodes(code_ast.body, cell_name,\n    File \"c:\\Users\\Sorra\\anaconda3\\envs\\gpu\\lib\\site-packages\\IPython\\core\\interactiveshell.py\", line 3445, in run_ast_nodes\n      if await self.run_code(code, result, async_=asy):\n    File \"c:\\Users\\Sorra\\anaconda3\\envs\\gpu\\lib\\site-packages\\IPython\\core\\interactiveshell.py\", line 3505, in run_code\n      exec(code_obj, self.user_global_ns, self.user_ns)\n    File \"C:\\Users\\Sorra\\AppData\\Local\\Temp\\ipykernel_4216\\1600148728.py\", line 44, in <module>\n      model.fit(X_train, y_train_encoded, epochs=10, validation_data=(X_val, y_val_encoded), verbose=1)\n    File \"c:\\Users\\Sorra\\anaconda3\\envs\\gpu\\lib\\site-packages\\keras\\utils\\traceback_utils.py\", line 64, in error_handler\n      return fn(*args, **kwargs)\n    File \"c:\\Users\\Sorra\\anaconda3\\envs\\gpu\\lib\\site-packages\\keras\\engine\\training.py\", line 1409, in fit\n      tmp_logs = self.train_function(iterator)\n    File \"c:\\Users\\Sorra\\anaconda3\\envs\\gpu\\lib\\site-packages\\keras\\engine\\training.py\", line 1051, in train_function\n      return step_function(self, iterator)\n    File \"c:\\Users\\Sorra\\anaconda3\\envs\\gpu\\lib\\site-packages\\keras\\engine\\training.py\", line 1040, in step_function\n      outputs = model.distribute_strategy.run(run_step, args=(data,))\n    File \"c:\\Users\\Sorra\\anaconda3\\envs\\gpu\\lib\\site-packages\\keras\\engine\\training.py\", line 1030, in run_step\n      outputs = model.train_step(data)\n    File \"c:\\Users\\Sorra\\anaconda3\\envs\\gpu\\lib\\site-packages\\keras\\engine\\training.py\", line 889, in train_step\n      y_pred = self(x, training=True)\n    File \"c:\\Users\\Sorra\\anaconda3\\envs\\gpu\\lib\\site-packages\\keras\\utils\\traceback_utils.py\", line 64, in error_handler\n      return fn(*args, **kwargs)\n    File \"c:\\Users\\Sorra\\anaconda3\\envs\\gpu\\lib\\site-packages\\keras\\engine\\training.py\", line 490, in __call__\n      return super().__call__(*args, **kwargs)\n    File \"c:\\Users\\Sorra\\anaconda3\\envs\\gpu\\lib\\site-packages\\keras\\utils\\traceback_utils.py\", line 64, in error_handler\n      return fn(*args, **kwargs)\n    File \"c:\\Users\\Sorra\\anaconda3\\envs\\gpu\\lib\\site-packages\\keras\\engine\\base_layer.py\", line 1014, in __call__\n      outputs = call_fn(inputs, *args, **kwargs)\n    File \"c:\\Users\\Sorra\\anaconda3\\envs\\gpu\\lib\\site-packages\\keras\\utils\\traceback_utils.py\", line 92, in error_handler\n      return fn(*args, **kwargs)\n    File \"c:\\Users\\Sorra\\anaconda3\\envs\\gpu\\lib\\site-packages\\keras\\engine\\functional.py\", line 458, in call\n      return self._run_internal_graph(\n    File \"c:\\Users\\Sorra\\anaconda3\\envs\\gpu\\lib\\site-packages\\keras\\engine\\functional.py\", line 596, in _run_internal_graph\n      outputs = node.layer(*args, **kwargs)\n    File \"c:\\Users\\Sorra\\anaconda3\\envs\\gpu\\lib\\site-packages\\keras\\utils\\traceback_utils.py\", line 64, in error_handler\n      return fn(*args, **kwargs)\n    File \"c:\\Users\\Sorra\\anaconda3\\envs\\gpu\\lib\\site-packages\\keras\\engine\\training.py\", line 490, in __call__\n      return super().__call__(*args, **kwargs)\n    File \"c:\\Users\\Sorra\\anaconda3\\envs\\gpu\\lib\\site-packages\\keras\\utils\\traceback_utils.py\", line 64, in error_handler\n      return fn(*args, **kwargs)\n    File \"c:\\Users\\Sorra\\anaconda3\\envs\\gpu\\lib\\site-packages\\keras\\engine\\base_layer.py\", line 1014, in __call__\n      outputs = call_fn(inputs, *args, **kwargs)\n    File \"c:\\Users\\Sorra\\anaconda3\\envs\\gpu\\lib\\site-packages\\keras\\utils\\traceback_utils.py\", line 92, in error_handler\n      return fn(*args, **kwargs)\n    File \"c:\\Users\\Sorra\\anaconda3\\envs\\gpu\\lib\\site-packages\\keras\\engine\\functional.py\", line 458, in call\n      return self._run_internal_graph(\n    File \"c:\\Users\\Sorra\\anaconda3\\envs\\gpu\\lib\\site-packages\\keras\\engine\\functional.py\", line 596, in _run_internal_graph\n      outputs = node.layer(*args, **kwargs)\n    File \"c:\\Users\\Sorra\\anaconda3\\envs\\gpu\\lib\\site-packages\\keras\\utils\\traceback_utils.py\", line 64, in error_handler\n      return fn(*args, **kwargs)\n    File \"c:\\Users\\Sorra\\anaconda3\\envs\\gpu\\lib\\site-packages\\keras\\engine\\base_layer.py\", line 1014, in __call__\n      outputs = call_fn(inputs, *args, **kwargs)\n    File \"c:\\Users\\Sorra\\anaconda3\\envs\\gpu\\lib\\site-packages\\keras\\utils\\traceback_utils.py\", line 92, in error_handler\n      return fn(*args, **kwargs)\n    File \"c:\\Users\\Sorra\\anaconda3\\envs\\gpu\\lib\\site-packages\\keras\\layers\\core\\activation.py\", line 57, in call\n      return self.activation(inputs)\n    File \"c:\\Users\\Sorra\\anaconda3\\envs\\gpu\\lib\\site-packages\\efficientnet\\model.py\", line 115, in swish\n      return x * backend.sigmoid(x)\nNode: 'manual_model/efficientnet-b7/block2d_expand_activation/mul'\nfailed to allocate memory\n\t [[{{node manual_model/efficientnet-b7/block2d_expand_activation/mul}}]]\nHint: If you want to see a list of allocated tensors when OOM happens, add report_tensor_allocations_upon_oom to RunOptions for current allocation info. This isn't available when running in Eager mode.\n [Op:__inference_train_function_64937]"
     ]
    }
   ],
   "source": [
    "import tensorflow as tf\n",
    "from tensorflow.keras.layers import Input, Dense, GlobalAveragePooling2D, RandomTranslation, RandomFlip\n",
    "from tensorflow.keras.optimizers import Adam\n",
    "from tensorflow.keras.losses import SparseCategoricalCrossentropy\n",
    "from tensorflow.keras.metrics import SparseCategoricalAccuracy\n",
    "from efficientnet.tfkeras import EfficientNetB7\n",
    "\n",
    "# Входные данные\n",
    "input_shape = (256, 256, 3)\n",
    "input_layer = Input(shape=input_shape, name='input_1')\n",
    "\n",
    "# Слой приведения к float32\n",
    "cast_to_float32_layer = tf.keras.layers.experimental.preprocessing.Rescaling(scale=1.0 / 255)(input_layer)\n",
    "\n",
    "# Слой случайного смещения\n",
    "random_translation_layer = RandomTranslation(height_factor=0.1, width_factor=0.1, fill_mode='reflect', seed=42)(cast_to_float32_layer)\n",
    "\n",
    "# Слой случайного отражения\n",
    "random_flip_layer = RandomFlip(mode='horizontal', seed=42)(random_translation_layer)\n",
    "\n",
    "# Слой EfficientNetB7\n",
    "efficientnetb7_layer = EfficientNetB7(weights='imagenet', include_top=False)(random_flip_layer)\n",
    "\n",
    "# Глобальное среднее пулингирование\n",
    "global_average_pooling_layer = GlobalAveragePooling2D()(efficientnetb7_layer)\n",
    "\n",
    "# Полносвязный слой\n",
    "dense_layer = Dense(units=46, activation='softmax')(global_average_pooling_layer)\n",
    "\n",
    "# Создание модели\n",
    "model = tf.keras.Model(inputs=input_layer, outputs=dense_layer, name='manual_model')\n",
    "\n",
    "# Компиляция модели\n",
    "model.compile(\n",
    "    optimizer=Adam(learning_rate=0.001),\n",
    "    loss=SparseCategoricalCrossentropy(from_logits=False),\n",
    "    metrics=[SparseCategoricalAccuracy()]\n",
    ")\n",
    "\n",
    "# Вывод информации о модели\n",
    "model.summary()\n",
    "\n",
    "# Обучение модели\n",
    "model.fit(X_train, y_train_encoded, epochs=10, validation_data=(X_val, y_val_encoded), verbose=1)\n",
    "\n",
    "# Сохранение модели\n",
    "model.save('manual_model.h5')\n",
    "\n",
    "# Сохранение label_encoder в файл\n",
    "with open('label_encoder.pkl', 'wb') as le_file:\n",
    "    pickle.dump(label_encoder, le_file)\n",
    "\n",
    "# Сохранение словаря invalid_file_counts в файл\n",
    "with open('invalid_file_counts.pkl', 'wb') as ifc_file:\n",
    "    pickle.dump(invalid_file_counts, ifc_file)\n"
   ]
  },
  {
   "cell_type": "code",
   "execution_count": 2,
   "metadata": {},
   "outputs": [
    {
     "name": "stdout",
     "output_type": "stream",
     "text": [
      "1/1 [==============================] - 4s 4s/step\n",
      "Предсказанный класс: paslen_chern\n"
     ]
    }
   ],
   "source": [
    "import pickle\n",
    "from tensorflow.keras.models import load_model\n",
    "import cv2\n",
    "import numpy as np\n",
    "import autokeras as ak\n",
    "\n",
    "with open('91_version/label_encoder.pkl', 'rb') as le_file:\n",
    "    label_encoder = pickle.load(le_file)\n",
    "\n",
    "with open('91_version/invalid_file_counts.pkl', 'rb') as ifc_file:\n",
    "    invalid_file_counts = pickle.load(ifc_file)\n",
    "\n",
    "loaded_model = load_model('91_version/best_autokeras_model', custom_objects=ak.CUSTOM_OBJECTS)\n",
    "\n",
    "# Пример загрузки нового изображения\n",
    "new_image_path = 'ex/9.jpg'\n",
    "new_img = cv2.imread(new_image_path)\n",
    "new_img = cv2.resize(new_img, (256, 256))\n",
    "new_img_array = np.expand_dims(new_img, axis=0)\n",
    "\n",
    "# Получение предсказанных вероятностей\n",
    "predictions = loaded_model.predict(new_img_array)\n",
    "\n",
    "# Преобразование вероятностей в исходные метки\n",
    "predicted_class = np.argmax(predictions)\n",
    "decoded_class = label_encoder.inverse_transform([predicted_class])[0]\n",
    "\n",
    "print(f\"Предсказанный класс: {decoded_class}\")"
   ]
  }
 ],
 "metadata": {
  "kernelspec": {
   "display_name": "gpu",
   "language": "python",
   "name": "python3"
  },
  "language_info": {
   "codemirror_mode": {
    "name": "ipython",
    "version": 3
   },
   "file_extension": ".py",
   "mimetype": "text/x-python",
   "name": "python",
   "nbconvert_exporter": "python",
   "pygments_lexer": "ipython3",
   "version": "3.9.19"
  }
 },
 "nbformat": 4,
 "nbformat_minor": 2
}
