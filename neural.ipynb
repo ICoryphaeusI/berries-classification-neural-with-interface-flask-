{
 "cells": [
  {
   "cell_type": "code",
   "execution_count": 2,
   "metadata": {},
   "outputs": [
    {
     "name": "stdout",
     "output_type": "stream",
     "text": [
      "Количество неправильных файлов: 122\n"
     ]
    }
   ],
   "source": [
    "import os\n",
    "import cv2\n",
    "import numpy as np\n",
    "from sklearn.model_selection import train_test_split\n",
    "\n",
    "# Путь к вашей папке с данными\n",
    "data_path = r'D:\\diplom_baza\\baza_copy'\n",
    "\n",
    "# Инициализация списков для данных и меток\n",
    "X = []\n",
    "y = []\n",
    "\n",
    "# Целевое разрешение изображений\n",
    "target_resolution = (256, 256)\n",
    "\n",
    "# Счетчик неправильных файлов\n",
    "invalid_file_count = 0\n",
    "\n",
    "# Проход по всем классам в папке\n",
    "for class_folder in os.listdir(data_path):\n",
    "    class_path = os.path.join(data_path, class_folder)\n",
    "    \n",
    "    # Проход по изображениям в каждом классе\n",
    "    for image_file in os.listdir(class_path):\n",
    "        image_path = os.path.join(class_path, image_file)\n",
    "        \n",
    "        # Загрузка изображения с использованием opencv\n",
    "        img = cv2.imread(image_path)\n",
    "        \n",
    "        # Проверка на успешность загрузки\n",
    "        if img is not None:\n",
    "            # Изменение размера изображения\n",
    "            img = cv2.resize(img, target_resolution)\n",
    "            \n",
    "            # Преобразование изображения в массив и добавление в список X\n",
    "            X.append(img)\n",
    "            \n",
    "            # Добавление метки класса в список y\n",
    "            y.append(class_folder)\n",
    "        else:\n",
    "            # Увеличение счетчика неправильных файлов\n",
    "            invalid_file_count += 1\n",
    "\n",
    "# Преобразование списков в массивы numpy\n",
    "X = np.array(X)\n",
    "y = np.array(y)\n",
    "\n",
    "# Разделение данных на обучающий и тестовый наборы\n",
    "X_train, X_test, y_train, y_test = train_test_split(X, y, test_size=0.1, random_state=42)\n",
    "\n",
    "# Вывод счетчика неправильных файлов\n",
    "print(f\"Количество неправильных файлов: {invalid_file_count}\")\n",
    "\n",
    "# Теперь у вас есть X_train, X_test, y_train, y_test с данными и метками для обучения и тестирования\n"
   ]
  },
  {
   "cell_type": "code",
   "execution_count": 3,
   "metadata": {},
   "outputs": [
    {
     "name": "stdout",
     "output_type": "stream",
     "text": [
      "Папка aronnik: 1 неправильных файлов\n",
      "Папка barbaris: 2 неправильных файлов\n",
      "Папка belladonna: 2 неправильных файлов\n",
      "Папка belokrilnik: 4 неправильных файлов\n",
      "Папка beresklet: 1 неправильных файлов\n",
      "Папка biryuchina: 4 неправильных файлов\n",
      "Папка boyaroshnik: 0 неправильных файлов\n",
      "Папка brusnika: 3 неправильных файлов\n",
      "Папка buzina: 4 неправильных файлов\n",
      "Папка buzina_yad: 1 неправильных файлов\n",
      "Папка cheremuha: 1 неправильных файлов\n",
      "Папка chernika: 7 неправильных файлов\n",
      "Папка ezevika: 0 неправильных файлов\n",
      "Папка fitolakka: 5 неправильных файлов\n",
      "Папка gimolost: 6 неправильных файлов\n",
      "Папка gimolost_les: 5 неправильных файлов\n",
      "Папка godgi: 2 неправильных файлов\n",
      "Папка golubika: 2 неправильных файлов\n",
      "Папка irga: 4 неправильных файлов\n",
      "Папка kalina: 1 неправильных файлов\n",
      "Папка klukva: 1 неправильных файлов\n",
      "Папка kostyanika: 3 неправильных файлов\n",
      "Папка krizovnik: 6 неправильных файлов\n",
      "Папка krushina: 3 неправильных файлов\n",
      "Папка kupena: 1 неправильных файлов\n",
      "Папка landish: 3 неправильных файлов\n",
      "Папка magonia: 5 неправильных файлов\n",
      "Папка malina: 2 неправильных файлов\n",
      "Папка mogevelnik: 3 неправильных файлов\n",
      "Папка moroshka: 1 неправильных файлов\n",
      "Папка oblepiha: 3 неправильных файлов\n",
      "Папка paslen_chern: 2 неправильных файлов\n",
      "Папка paslen_slad: 1 неправильных файлов\n",
      "Папка ryabina: 1 неправильных файлов\n",
      "Папка ryabina_cherno: 4 неправильных файлов\n",
      "Папка shelkovica: 3 неправильных файлов\n",
      "Папка shipovnik: 2 неправильных файлов\n",
      "Папка smorodina: 3 неправильных файлов\n",
      "Папка snegno: 2 неправильных файлов\n",
      "Папка tis: 2 неправильных файлов\n",
      "Папка vinograd_dev: 6 неправильных файлов\n",
      "Папка vishnya: 2 неправильных файлов\n",
      "Папка volche_liko: 0 неправильных файлов\n",
      "Папка voronec: 2 неправильных файлов\n",
      "Папка voroniy_glaz: 3 неправильных файлов\n",
      "Папка zemlenika: 3 неправильных файлов\n"
     ]
    }
   ],
   "source": [
    "import os\n",
    "import cv2\n",
    "import numpy as np\n",
    "from sklearn.model_selection import train_test_split\n",
    "from sklearn.preprocessing import LabelEncoder\n",
    "\n",
    "# Путь к вашей папке с данными\n",
    "data_path = r'D:\\diplom_baza\\baza_copy'\n",
    "\n",
    "# Инициализация списков для данных и меток\n",
    "X = []\n",
    "y = []\n",
    "\n",
    "# Целевое разрешение изображений\n",
    "target_resolution = (256, 256)\n",
    "\n",
    "# Словарь для хранения счетчика неправильных файлов для каждой папки\n",
    "invalid_file_counts = {}\n",
    "\n",
    "# Проход по всем классам в папке\n",
    "for class_folder in os.listdir(data_path):\n",
    "    class_path = os.path.join(data_path, class_folder)\n",
    "    \n",
    "    # Инициализация счетчика неправильных файлов для текущей папки\n",
    "    invalid_file_count = 0\n",
    "    \n",
    "    # Проход по изображениям в каждом классе\n",
    "    for image_file in os.listdir(class_path):\n",
    "        image_path = os.path.join(class_path, image_file)\n",
    "        \n",
    "        # Загрузка изображения с использованием opencv\n",
    "        img = cv2.imread(image_path)\n",
    "        \n",
    "        # Проверка на успешность загрузки\n",
    "        if img is not None:\n",
    "            # Изменение размера изображения\n",
    "            img = cv2.resize(img, target_resolution)\n",
    "            \n",
    "            # Преобразование изображения в массив и добавление в список X\n",
    "            X.append(img)\n",
    "            \n",
    "            # Добавление метки класса в список y\n",
    "            y.append(class_folder)\n",
    "        else:\n",
    "            # Увеличение счетчика неправильных файлов для текущей папки\n",
    "            invalid_file_count += 1\n",
    "    \n",
    "    # Сохранение счетчика неправильных файлов для текущей папки в словаре\n",
    "    invalid_file_counts[class_folder] = invalid_file_count\n",
    "\n",
    "# Преобразование списков в массивы numpy\n",
    "X = np.array(X)\n",
    "y = np.array(y)\n",
    "\n",
    "label_encoder = LabelEncoder()\n",
    "y_encoded = label_encoder.fit_transform(y)\n",
    "\n",
    "# Разделение данных на обучающий и тестовый наборы\n",
    "X_train, X_test, y_train, y_test = train_test_split(X, y_encoded, test_size=0.1, random_state=42)\n",
    "\n",
    "# Вывод счетчика неправильных файлов для каждой папки\n",
    "for class_folder, count in invalid_file_counts.items():\n",
    "    print(f\"Папка {class_folder}: {count} неправильных файлов\")\n",
    "\n",
    "# Теперь у вас есть X_train, X_test, y_train, y_test с данными и метками для обучения и тестирования\n"
   ]
  },
  {
   "cell_type": "code",
   "execution_count": 1,
   "metadata": {},
   "outputs": [
    {
     "name": "stdout",
     "output_type": "stream",
     "text": [
      "Размерности массивов:\n"
     ]
    },
    {
     "ename": "NameError",
     "evalue": "name 'X_train' is not defined",
     "output_type": "error",
     "traceback": [
      "\u001b[1;31m---------------------------------------------------------------------------\u001b[0m",
      "\u001b[1;31mNameError\u001b[0m                                 Traceback (most recent call last)",
      "Cell \u001b[1;32mIn[1], line 3\u001b[0m\n\u001b[0;32m      1\u001b[0m \u001b[38;5;66;03m# Проверка размерностей массивов\u001b[39;00m\n\u001b[0;32m      2\u001b[0m \u001b[38;5;28mprint\u001b[39m(\u001b[38;5;124m\"\u001b[39m\u001b[38;5;124mРазмерности массивов:\u001b[39m\u001b[38;5;124m\"\u001b[39m)\n\u001b[1;32m----> 3\u001b[0m \u001b[38;5;28mprint\u001b[39m(\u001b[38;5;124m\"\u001b[39m\u001b[38;5;124mX_train:\u001b[39m\u001b[38;5;124m\"\u001b[39m, \u001b[43mX_train\u001b[49m\u001b[38;5;241m.\u001b[39mshape)\n\u001b[0;32m      4\u001b[0m \u001b[38;5;28mprint\u001b[39m(\u001b[38;5;124m\"\u001b[39m\u001b[38;5;124my_train:\u001b[39m\u001b[38;5;124m\"\u001b[39m, y_train\u001b[38;5;241m.\u001b[39mshape)\n\u001b[0;32m      5\u001b[0m \u001b[38;5;28mprint\u001b[39m(\u001b[38;5;124m\"\u001b[39m\u001b[38;5;124mX_val:\u001b[39m\u001b[38;5;124m\"\u001b[39m, X_test\u001b[38;5;241m.\u001b[39mshape)\n",
      "\u001b[1;31mNameError\u001b[0m: name 'X_train' is not defined"
     ]
    }
   ],
   "source": [
    "# Проверка размерностей массивов\n",
    "print(\"Размерности массивов:\")\n",
    "print(\"X_train:\", X_train.shape)\n",
    "print(\"y_train:\", y_train.shape)\n",
    "print(\"X_val:\", X_test.shape)\n",
    "print(\"y_val:\", y_test.shape)"
   ]
  },
  {
   "cell_type": "code",
   "execution_count": 3,
   "metadata": {},
   "outputs": [
    {
     "ename": "ImportError",
     "evalue": "cannot import name 'CachedMultiHeadAttention' from partially initialized module 'keras_nlp.src.layers.modeling.cached_multi_head_attention' (most likely due to a circular import) (c:\\Users\\Sorra\\anaconda3\\envs\\gpu290\\lib\\site-packages\\keras_nlp\\src\\layers\\modeling\\cached_multi_head_attention.py)",
     "output_type": "error",
     "traceback": [
      "\u001b[1;31m---------------------------------------------------------------------------\u001b[0m",
      "\u001b[1;31mImportError\u001b[0m                               Traceback (most recent call last)",
      "Cell \u001b[1;32mIn[3], line 1\u001b[0m\n\u001b[1;32m----> 1\u001b[0m \u001b[38;5;28;01mimport\u001b[39;00m \u001b[38;5;21;01mautokeras\u001b[39;00m \u001b[38;5;28;01mas\u001b[39;00m \u001b[38;5;21;01mak\u001b[39;00m\n\u001b[0;32m      2\u001b[0m \u001b[38;5;28mprint\u001b[39m(\u001b[38;5;124m\"\u001b[39m\u001b[38;5;124mAutoKeras version:\u001b[39m\u001b[38;5;124m\"\u001b[39m, ak\u001b[38;5;241m.\u001b[39m__version__)\n",
      "File \u001b[1;32mc:\\Users\\Sorra\\anaconda3\\envs\\gpu290\\lib\\site-packages\\autokeras\\__init__.py:15\u001b[0m\n\u001b[0;32m      1\u001b[0m \u001b[38;5;66;03m# Copyright 2020 The AutoKeras Authors.\u001b[39;00m\n\u001b[0;32m      2\u001b[0m \u001b[38;5;66;03m#\u001b[39;00m\n\u001b[0;32m      3\u001b[0m \u001b[38;5;66;03m# Licensed under the Apache License, Version 2.0 (the \"License\");\u001b[39;00m\n\u001b[1;32m   (...)\u001b[0m\n\u001b[0;32m     12\u001b[0m \u001b[38;5;66;03m# See the License for the specific language governing permissions and\u001b[39;00m\n\u001b[0;32m     13\u001b[0m \u001b[38;5;66;03m# limitations under the License.\u001b[39;00m\n\u001b[1;32m---> 15\u001b[0m \u001b[38;5;28;01mimport\u001b[39;00m \u001b[38;5;21;01mkeras_nlp\u001b[39;00m\n\u001b[0;32m     17\u001b[0m \u001b[38;5;28;01mfrom\u001b[39;00m \u001b[38;5;21;01mautokeras\u001b[39;00m\u001b[38;5;21;01m.\u001b[39;00m\u001b[38;5;21;01mauto_model\u001b[39;00m \u001b[38;5;28;01mimport\u001b[39;00m AutoModel\n\u001b[0;32m     18\u001b[0m \u001b[38;5;28;01mfrom\u001b[39;00m \u001b[38;5;21;01mautokeras\u001b[39;00m\u001b[38;5;21;01m.\u001b[39;00m\u001b[38;5;21;01mblocks\u001b[39;00m \u001b[38;5;28;01mimport\u001b[39;00m BertBlock\n",
      "File \u001b[1;32mc:\\Users\\Sorra\\anaconda3\\envs\\gpu290\\lib\\site-packages\\keras_nlp\\__init__.py:8\u001b[0m\n\u001b[0;32m      1\u001b[0m \u001b[38;5;124;03m\"\"\"DO NOT EDIT.\u001b[39;00m\n\u001b[0;32m      2\u001b[0m \n\u001b[0;32m      3\u001b[0m \u001b[38;5;124;03mThis file was autogenerated. Do not edit it by hand,\u001b[39;00m\n\u001b[0;32m      4\u001b[0m \u001b[38;5;124;03msince your modifications would be overwritten.\u001b[39;00m\n\u001b[0;32m      5\u001b[0m \u001b[38;5;124;03m\"\"\"\u001b[39;00m\n\u001b[1;32m----> 8\u001b[0m \u001b[38;5;28;01mfrom\u001b[39;00m \u001b[38;5;21;01mkeras_nlp\u001b[39;00m \u001b[38;5;28;01mimport\u001b[39;00m layers\n\u001b[0;32m      9\u001b[0m \u001b[38;5;28;01mfrom\u001b[39;00m \u001b[38;5;21;01mkeras_nlp\u001b[39;00m \u001b[38;5;28;01mimport\u001b[39;00m metrics\n\u001b[0;32m     10\u001b[0m \u001b[38;5;28;01mfrom\u001b[39;00m \u001b[38;5;21;01mkeras_nlp\u001b[39;00m \u001b[38;5;28;01mimport\u001b[39;00m models\n",
      "File \u001b[1;32mc:\\Users\\Sorra\\anaconda3\\envs\\gpu290\\lib\\site-packages\\keras_nlp\\layers\\__init__.py:8\u001b[0m\n\u001b[0;32m      1\u001b[0m \u001b[38;5;124;03m\"\"\"DO NOT EDIT.\u001b[39;00m\n\u001b[0;32m      2\u001b[0m \n\u001b[0;32m      3\u001b[0m \u001b[38;5;124;03mThis file was autogenerated. Do not edit it by hand,\u001b[39;00m\n\u001b[0;32m      4\u001b[0m \u001b[38;5;124;03msince your modifications would be overwritten.\u001b[39;00m\n\u001b[0;32m      5\u001b[0m \u001b[38;5;124;03m\"\"\"\u001b[39;00m\n\u001b[1;32m----> 8\u001b[0m \u001b[38;5;28;01mfrom\u001b[39;00m \u001b[38;5;21;01mkeras_nlp\u001b[39;00m\u001b[38;5;21;01m.\u001b[39;00m\u001b[38;5;21;01msrc\u001b[39;00m\u001b[38;5;21;01m.\u001b[39;00m\u001b[38;5;21;01mlayers\u001b[39;00m\u001b[38;5;21;01m.\u001b[39;00m\u001b[38;5;21;01mmodeling\u001b[39;00m\u001b[38;5;21;01m.\u001b[39;00m\u001b[38;5;21;01mcached_multi_head_attention\u001b[39;00m \u001b[38;5;28;01mimport\u001b[39;00m CachedMultiHeadAttention\n\u001b[0;32m      9\u001b[0m \u001b[38;5;28;01mfrom\u001b[39;00m \u001b[38;5;21;01mkeras_nlp\u001b[39;00m\u001b[38;5;21;01m.\u001b[39;00m\u001b[38;5;21;01msrc\u001b[39;00m\u001b[38;5;21;01m.\u001b[39;00m\u001b[38;5;21;01mlayers\u001b[39;00m\u001b[38;5;21;01m.\u001b[39;00m\u001b[38;5;21;01mmodeling\u001b[39;00m\u001b[38;5;21;01m.\u001b[39;00m\u001b[38;5;21;01mf_net_encoder\u001b[39;00m \u001b[38;5;28;01mimport\u001b[39;00m FNetEncoder\n\u001b[0;32m     10\u001b[0m \u001b[38;5;28;01mfrom\u001b[39;00m \u001b[38;5;21;01mkeras_nlp\u001b[39;00m\u001b[38;5;21;01m.\u001b[39;00m\u001b[38;5;21;01msrc\u001b[39;00m\u001b[38;5;21;01m.\u001b[39;00m\u001b[38;5;21;01mlayers\u001b[39;00m\u001b[38;5;21;01m.\u001b[39;00m\u001b[38;5;21;01mmodeling\u001b[39;00m\u001b[38;5;21;01m.\u001b[39;00m\u001b[38;5;21;01mmasked_lm_head\u001b[39;00m \u001b[38;5;28;01mimport\u001b[39;00m MaskedLMHead\n",
      "File \u001b[1;32mc:\\Users\\Sorra\\anaconda3\\envs\\gpu290\\lib\\site-packages\\keras_nlp\\src\\layers\\modeling\\cached_multi_head_attention.py:15\u001b[0m\n\u001b[0;32m      1\u001b[0m \u001b[38;5;66;03m# Copyright 2023 The KerasNLP Authors\u001b[39;00m\n\u001b[0;32m      2\u001b[0m \u001b[38;5;66;03m#\u001b[39;00m\n\u001b[0;32m      3\u001b[0m \u001b[38;5;66;03m# Licensed under the Apache License, Version 2.0 (the \"License\");\u001b[39;00m\n\u001b[1;32m   (...)\u001b[0m\n\u001b[0;32m     12\u001b[0m \u001b[38;5;66;03m# See the License for the specific language governing permissions and\u001b[39;00m\n\u001b[0;32m     13\u001b[0m \u001b[38;5;66;03m# limitations under the License.\u001b[39;00m\n\u001b[1;32m---> 15\u001b[0m \u001b[38;5;28;01mfrom\u001b[39;00m \u001b[38;5;21;01mkeras_nlp\u001b[39;00m\u001b[38;5;21;01m.\u001b[39;00m\u001b[38;5;21;01msrc\u001b[39;00m\u001b[38;5;21;01m.\u001b[39;00m\u001b[38;5;21;01mapi_export\u001b[39;00m \u001b[38;5;28;01mimport\u001b[39;00m keras_nlp_export\n\u001b[0;32m     16\u001b[0m \u001b[38;5;28;01mfrom\u001b[39;00m \u001b[38;5;21;01mkeras_nlp\u001b[39;00m\u001b[38;5;21;01m.\u001b[39;00m\u001b[38;5;21;01msrc\u001b[39;00m\u001b[38;5;21;01m.\u001b[39;00m\u001b[38;5;21;01mbackend\u001b[39;00m \u001b[38;5;28;01mimport\u001b[39;00m keras\n\u001b[0;32m     17\u001b[0m \u001b[38;5;28;01mfrom\u001b[39;00m \u001b[38;5;21;01mkeras_nlp\u001b[39;00m\u001b[38;5;21;01m.\u001b[39;00m\u001b[38;5;21;01msrc\u001b[39;00m\u001b[38;5;21;01m.\u001b[39;00m\u001b[38;5;21;01mbackend\u001b[39;00m \u001b[38;5;28;01mimport\u001b[39;00m ops\n",
      "File \u001b[1;32mc:\\Users\\Sorra\\anaconda3\\envs\\gpu290\\lib\\site-packages\\keras_nlp\\src\\__init__.py:23\u001b[0m\n\u001b[0;32m     20\u001b[0m \u001b[38;5;28;01mexcept\u001b[39;00m \u001b[38;5;167;01mImportError\u001b[39;00m:\n\u001b[0;32m     21\u001b[0m     \u001b[38;5;28;01mpass\u001b[39;00m\n\u001b[1;32m---> 23\u001b[0m \u001b[38;5;28;01mfrom\u001b[39;00m \u001b[38;5;21;01mkeras_nlp\u001b[39;00m\u001b[38;5;21;01m.\u001b[39;00m\u001b[38;5;21;01msrc\u001b[39;00m \u001b[38;5;28;01mimport\u001b[39;00m layers\n\u001b[0;32m     24\u001b[0m \u001b[38;5;28;01mfrom\u001b[39;00m \u001b[38;5;21;01mkeras_nlp\u001b[39;00m\u001b[38;5;21;01m.\u001b[39;00m\u001b[38;5;21;01msrc\u001b[39;00m \u001b[38;5;28;01mimport\u001b[39;00m metrics\n\u001b[0;32m     25\u001b[0m \u001b[38;5;28;01mfrom\u001b[39;00m \u001b[38;5;21;01mkeras_nlp\u001b[39;00m\u001b[38;5;21;01m.\u001b[39;00m\u001b[38;5;21;01msrc\u001b[39;00m \u001b[38;5;28;01mimport\u001b[39;00m models\n",
      "File \u001b[1;32mc:\\Users\\Sorra\\anaconda3\\envs\\gpu290\\lib\\site-packages\\keras_nlp\\src\\layers\\__init__.py:15\u001b[0m\n\u001b[0;32m      1\u001b[0m \u001b[38;5;66;03m# Copyright 2023 The KerasNLP Authors\u001b[39;00m\n\u001b[0;32m      2\u001b[0m \u001b[38;5;66;03m#\u001b[39;00m\n\u001b[0;32m      3\u001b[0m \u001b[38;5;66;03m# Licensed under the Apache License, Version 2.0 (the \"License\");\u001b[39;00m\n\u001b[1;32m   (...)\u001b[0m\n\u001b[0;32m     12\u001b[0m \u001b[38;5;66;03m# See the License for the specific language governing permissions and\u001b[39;00m\n\u001b[0;32m     13\u001b[0m \u001b[38;5;66;03m# limitations under the License.\u001b[39;00m\n\u001b[1;32m---> 15\u001b[0m \u001b[38;5;28;01mfrom\u001b[39;00m \u001b[38;5;21;01mkeras_nlp\u001b[39;00m\u001b[38;5;21;01m.\u001b[39;00m\u001b[38;5;21;01msrc\u001b[39;00m\u001b[38;5;21;01m.\u001b[39;00m\u001b[38;5;21;01mlayers\u001b[39;00m\u001b[38;5;21;01m.\u001b[39;00m\u001b[38;5;21;01mmodeling\u001b[39;00m\u001b[38;5;21;01m.\u001b[39;00m\u001b[38;5;21;01mcached_multi_head_attention\u001b[39;00m \u001b[38;5;28;01mimport\u001b[39;00m (\n\u001b[0;32m     16\u001b[0m     CachedMultiHeadAttention,\n\u001b[0;32m     17\u001b[0m )\n\u001b[0;32m     18\u001b[0m \u001b[38;5;28;01mfrom\u001b[39;00m \u001b[38;5;21;01mkeras_nlp\u001b[39;00m\u001b[38;5;21;01m.\u001b[39;00m\u001b[38;5;21;01msrc\u001b[39;00m\u001b[38;5;21;01m.\u001b[39;00m\u001b[38;5;21;01mlayers\u001b[39;00m\u001b[38;5;21;01m.\u001b[39;00m\u001b[38;5;21;01mmodeling\u001b[39;00m\u001b[38;5;21;01m.\u001b[39;00m\u001b[38;5;21;01mf_net_encoder\u001b[39;00m \u001b[38;5;28;01mimport\u001b[39;00m FNetEncoder\n\u001b[0;32m     19\u001b[0m \u001b[38;5;28;01mfrom\u001b[39;00m \u001b[38;5;21;01mkeras_nlp\u001b[39;00m\u001b[38;5;21;01m.\u001b[39;00m\u001b[38;5;21;01msrc\u001b[39;00m\u001b[38;5;21;01m.\u001b[39;00m\u001b[38;5;21;01mlayers\u001b[39;00m\u001b[38;5;21;01m.\u001b[39;00m\u001b[38;5;21;01mmodeling\u001b[39;00m\u001b[38;5;21;01m.\u001b[39;00m\u001b[38;5;21;01mmasked_lm_head\u001b[39;00m \u001b[38;5;28;01mimport\u001b[39;00m MaskedLMHead\n",
      "\u001b[1;31mImportError\u001b[0m: cannot import name 'CachedMultiHeadAttention' from partially initialized module 'keras_nlp.src.layers.modeling.cached_multi_head_attention' (most likely due to a circular import) (c:\\Users\\Sorra\\anaconda3\\envs\\gpu290\\lib\\site-packages\\keras_nlp\\src\\layers\\modeling\\cached_multi_head_attention.py)"
     ]
    }
   ],
   "source": [
    "import autokeras as ak\n",
    "print(\"AutoKeras version:\", ak.__version__)"
   ]
  },
  {
   "cell_type": "code",
   "execution_count": 1,
   "metadata": {},
   "outputs": [
    {
     "ename": "ValueError",
     "evalue": "Unable to import `keras` with `tensorflow`.  Please check your Keras and Tensorflow version are compatible; Keras 3 requires TensorFlow 2.15 or later. See keras.io/getting_started for more information on installing Keras.",
     "output_type": "error",
     "traceback": [
      "\u001b[1;31m---------------------------------------------------------------------------\u001b[0m",
      "\u001b[1;31mModuleNotFoundError\u001b[0m                       Traceback (most recent call last)",
      "File \u001b[1;32mc:\\Users\\Sorra\\anaconda3\\envs\\gpu290\\lib\\site-packages\\keras_nlp\\src\\backend\\config.py:21\u001b[0m, in \u001b[0;36mdetect_if_tensorflow_uses_keras_3\u001b[1;34m()\u001b[0m\n\u001b[0;32m     20\u001b[0m \u001b[38;5;28;01mtry\u001b[39;00m:\n\u001b[1;32m---> 21\u001b[0m     \u001b[38;5;28;01mfrom\u001b[39;00m \u001b[38;5;21;01mtensorflow\u001b[39;00m \u001b[38;5;28;01mimport\u001b[39;00m keras\n\u001b[0;32m     23\u001b[0m     \u001b[38;5;66;03m# Note that only recent versions of keras have a `version()` function.\u001b[39;00m\n",
      "\u001b[1;31mModuleNotFoundError\u001b[0m: No module named 'tensorflow'",
      "\nDuring handling of the above exception, another exception occurred:\n",
      "\u001b[1;31mValueError\u001b[0m                                Traceback (most recent call last)",
      "Cell \u001b[1;32mIn[1], line 1\u001b[0m\n\u001b[1;32m----> 1\u001b[0m \u001b[38;5;28;01mimport\u001b[39;00m \u001b[38;5;21;01mautokeras\u001b[39;00m \u001b[38;5;28;01mas\u001b[39;00m \u001b[38;5;21;01mak\u001b[39;00m\n\u001b[0;32m      2\u001b[0m \u001b[38;5;28;01mimport\u001b[39;00m \u001b[38;5;21;01mtensorflow\u001b[39;00m \u001b[38;5;28;01mas\u001b[39;00m \u001b[38;5;21;01mtf\u001b[39;00m\n\u001b[0;32m      3\u001b[0m \u001b[38;5;28;01mimport\u001b[39;00m \u001b[38;5;21;01msklearn\u001b[39;00m\n",
      "File \u001b[1;32mc:\\Users\\Sorra\\anaconda3\\envs\\gpu290\\lib\\site-packages\\autokeras\\__init__.py:15\u001b[0m\n\u001b[0;32m      1\u001b[0m \u001b[38;5;66;03m# Copyright 2020 The AutoKeras Authors.\u001b[39;00m\n\u001b[0;32m      2\u001b[0m \u001b[38;5;66;03m#\u001b[39;00m\n\u001b[0;32m      3\u001b[0m \u001b[38;5;66;03m# Licensed under the Apache License, Version 2.0 (the \"License\");\u001b[39;00m\n\u001b[1;32m   (...)\u001b[0m\n\u001b[0;32m     12\u001b[0m \u001b[38;5;66;03m# See the License for the specific language governing permissions and\u001b[39;00m\n\u001b[0;32m     13\u001b[0m \u001b[38;5;66;03m# limitations under the License.\u001b[39;00m\n\u001b[1;32m---> 15\u001b[0m \u001b[38;5;28;01mimport\u001b[39;00m \u001b[38;5;21;01mkeras_nlp\u001b[39;00m\n\u001b[0;32m     17\u001b[0m \u001b[38;5;28;01mfrom\u001b[39;00m \u001b[38;5;21;01mautokeras\u001b[39;00m\u001b[38;5;21;01m.\u001b[39;00m\u001b[38;5;21;01mauto_model\u001b[39;00m \u001b[38;5;28;01mimport\u001b[39;00m AutoModel\n\u001b[0;32m     18\u001b[0m \u001b[38;5;28;01mfrom\u001b[39;00m \u001b[38;5;21;01mautokeras\u001b[39;00m\u001b[38;5;21;01m.\u001b[39;00m\u001b[38;5;21;01mblocks\u001b[39;00m \u001b[38;5;28;01mimport\u001b[39;00m BertBlock\n",
      "File \u001b[1;32mc:\\Users\\Sorra\\anaconda3\\envs\\gpu290\\lib\\site-packages\\keras_nlp\\__init__.py:8\u001b[0m\n\u001b[0;32m      1\u001b[0m \u001b[38;5;124;03m\"\"\"DO NOT EDIT.\u001b[39;00m\n\u001b[0;32m      2\u001b[0m \n\u001b[0;32m      3\u001b[0m \u001b[38;5;124;03mThis file was autogenerated. Do not edit it by hand,\u001b[39;00m\n\u001b[0;32m      4\u001b[0m \u001b[38;5;124;03msince your modifications would be overwritten.\u001b[39;00m\n\u001b[0;32m      5\u001b[0m \u001b[38;5;124;03m\"\"\"\u001b[39;00m\n\u001b[1;32m----> 8\u001b[0m \u001b[38;5;28;01mfrom\u001b[39;00m \u001b[38;5;21;01mkeras_nlp\u001b[39;00m \u001b[38;5;28;01mimport\u001b[39;00m layers\n\u001b[0;32m      9\u001b[0m \u001b[38;5;28;01mfrom\u001b[39;00m \u001b[38;5;21;01mkeras_nlp\u001b[39;00m \u001b[38;5;28;01mimport\u001b[39;00m metrics\n\u001b[0;32m     10\u001b[0m \u001b[38;5;28;01mfrom\u001b[39;00m \u001b[38;5;21;01mkeras_nlp\u001b[39;00m \u001b[38;5;28;01mimport\u001b[39;00m models\n",
      "File \u001b[1;32mc:\\Users\\Sorra\\anaconda3\\envs\\gpu290\\lib\\site-packages\\keras_nlp\\layers\\__init__.py:8\u001b[0m\n\u001b[0;32m      1\u001b[0m \u001b[38;5;124;03m\"\"\"DO NOT EDIT.\u001b[39;00m\n\u001b[0;32m      2\u001b[0m \n\u001b[0;32m      3\u001b[0m \u001b[38;5;124;03mThis file was autogenerated. Do not edit it by hand,\u001b[39;00m\n\u001b[0;32m      4\u001b[0m \u001b[38;5;124;03msince your modifications would be overwritten.\u001b[39;00m\n\u001b[0;32m      5\u001b[0m \u001b[38;5;124;03m\"\"\"\u001b[39;00m\n\u001b[1;32m----> 8\u001b[0m \u001b[38;5;28;01mfrom\u001b[39;00m \u001b[38;5;21;01mkeras_nlp\u001b[39;00m\u001b[38;5;21;01m.\u001b[39;00m\u001b[38;5;21;01msrc\u001b[39;00m\u001b[38;5;21;01m.\u001b[39;00m\u001b[38;5;21;01mlayers\u001b[39;00m\u001b[38;5;21;01m.\u001b[39;00m\u001b[38;5;21;01mmodeling\u001b[39;00m\u001b[38;5;21;01m.\u001b[39;00m\u001b[38;5;21;01mcached_multi_head_attention\u001b[39;00m \u001b[38;5;28;01mimport\u001b[39;00m CachedMultiHeadAttention\n\u001b[0;32m      9\u001b[0m \u001b[38;5;28;01mfrom\u001b[39;00m \u001b[38;5;21;01mkeras_nlp\u001b[39;00m\u001b[38;5;21;01m.\u001b[39;00m\u001b[38;5;21;01msrc\u001b[39;00m\u001b[38;5;21;01m.\u001b[39;00m\u001b[38;5;21;01mlayers\u001b[39;00m\u001b[38;5;21;01m.\u001b[39;00m\u001b[38;5;21;01mmodeling\u001b[39;00m\u001b[38;5;21;01m.\u001b[39;00m\u001b[38;5;21;01mf_net_encoder\u001b[39;00m \u001b[38;5;28;01mimport\u001b[39;00m FNetEncoder\n\u001b[0;32m     10\u001b[0m \u001b[38;5;28;01mfrom\u001b[39;00m \u001b[38;5;21;01mkeras_nlp\u001b[39;00m\u001b[38;5;21;01m.\u001b[39;00m\u001b[38;5;21;01msrc\u001b[39;00m\u001b[38;5;21;01m.\u001b[39;00m\u001b[38;5;21;01mlayers\u001b[39;00m\u001b[38;5;21;01m.\u001b[39;00m\u001b[38;5;21;01mmodeling\u001b[39;00m\u001b[38;5;21;01m.\u001b[39;00m\u001b[38;5;21;01mmasked_lm_head\u001b[39;00m \u001b[38;5;28;01mimport\u001b[39;00m MaskedLMHead\n",
      "File \u001b[1;32mc:\\Users\\Sorra\\anaconda3\\envs\\gpu290\\lib\\site-packages\\keras_nlp\\src\\__init__.py:23\u001b[0m\n\u001b[0;32m     20\u001b[0m \u001b[38;5;28;01mexcept\u001b[39;00m \u001b[38;5;167;01mImportError\u001b[39;00m:\n\u001b[0;32m     21\u001b[0m     \u001b[38;5;28;01mpass\u001b[39;00m\n\u001b[1;32m---> 23\u001b[0m \u001b[38;5;28;01mfrom\u001b[39;00m \u001b[38;5;21;01mkeras_nlp\u001b[39;00m\u001b[38;5;21;01m.\u001b[39;00m\u001b[38;5;21;01msrc\u001b[39;00m \u001b[38;5;28;01mimport\u001b[39;00m layers\n\u001b[0;32m     24\u001b[0m \u001b[38;5;28;01mfrom\u001b[39;00m \u001b[38;5;21;01mkeras_nlp\u001b[39;00m\u001b[38;5;21;01m.\u001b[39;00m\u001b[38;5;21;01msrc\u001b[39;00m \u001b[38;5;28;01mimport\u001b[39;00m metrics\n\u001b[0;32m     25\u001b[0m \u001b[38;5;28;01mfrom\u001b[39;00m \u001b[38;5;21;01mkeras_nlp\u001b[39;00m\u001b[38;5;21;01m.\u001b[39;00m\u001b[38;5;21;01msrc\u001b[39;00m \u001b[38;5;28;01mimport\u001b[39;00m models\n",
      "File \u001b[1;32mc:\\Users\\Sorra\\anaconda3\\envs\\gpu290\\lib\\site-packages\\keras_nlp\\src\\layers\\__init__.py:15\u001b[0m\n\u001b[0;32m      1\u001b[0m \u001b[38;5;66;03m# Copyright 2023 The KerasNLP Authors\u001b[39;00m\n\u001b[0;32m      2\u001b[0m \u001b[38;5;66;03m#\u001b[39;00m\n\u001b[0;32m      3\u001b[0m \u001b[38;5;66;03m# Licensed under the Apache License, Version 2.0 (the \"License\");\u001b[39;00m\n\u001b[1;32m   (...)\u001b[0m\n\u001b[0;32m     12\u001b[0m \u001b[38;5;66;03m# See the License for the specific language governing permissions and\u001b[39;00m\n\u001b[0;32m     13\u001b[0m \u001b[38;5;66;03m# limitations under the License.\u001b[39;00m\n\u001b[1;32m---> 15\u001b[0m \u001b[38;5;28;01mfrom\u001b[39;00m \u001b[38;5;21;01mkeras_nlp\u001b[39;00m\u001b[38;5;21;01m.\u001b[39;00m\u001b[38;5;21;01msrc\u001b[39;00m\u001b[38;5;21;01m.\u001b[39;00m\u001b[38;5;21;01mlayers\u001b[39;00m\u001b[38;5;21;01m.\u001b[39;00m\u001b[38;5;21;01mmodeling\u001b[39;00m\u001b[38;5;21;01m.\u001b[39;00m\u001b[38;5;21;01mcached_multi_head_attention\u001b[39;00m \u001b[38;5;28;01mimport\u001b[39;00m (\n\u001b[0;32m     16\u001b[0m     CachedMultiHeadAttention,\n\u001b[0;32m     17\u001b[0m )\n\u001b[0;32m     18\u001b[0m \u001b[38;5;28;01mfrom\u001b[39;00m \u001b[38;5;21;01mkeras_nlp\u001b[39;00m\u001b[38;5;21;01m.\u001b[39;00m\u001b[38;5;21;01msrc\u001b[39;00m\u001b[38;5;21;01m.\u001b[39;00m\u001b[38;5;21;01mlayers\u001b[39;00m\u001b[38;5;21;01m.\u001b[39;00m\u001b[38;5;21;01mmodeling\u001b[39;00m\u001b[38;5;21;01m.\u001b[39;00m\u001b[38;5;21;01mf_net_encoder\u001b[39;00m \u001b[38;5;28;01mimport\u001b[39;00m FNetEncoder\n\u001b[0;32m     19\u001b[0m \u001b[38;5;28;01mfrom\u001b[39;00m \u001b[38;5;21;01mkeras_nlp\u001b[39;00m\u001b[38;5;21;01m.\u001b[39;00m\u001b[38;5;21;01msrc\u001b[39;00m\u001b[38;5;21;01m.\u001b[39;00m\u001b[38;5;21;01mlayers\u001b[39;00m\u001b[38;5;21;01m.\u001b[39;00m\u001b[38;5;21;01mmodeling\u001b[39;00m\u001b[38;5;21;01m.\u001b[39;00m\u001b[38;5;21;01mmasked_lm_head\u001b[39;00m \u001b[38;5;28;01mimport\u001b[39;00m MaskedLMHead\n",
      "File \u001b[1;32mc:\\Users\\Sorra\\anaconda3\\envs\\gpu290\\lib\\site-packages\\keras_nlp\\src\\layers\\modeling\\cached_multi_head_attention.py:15\u001b[0m\n\u001b[0;32m      1\u001b[0m \u001b[38;5;66;03m# Copyright 2023 The KerasNLP Authors\u001b[39;00m\n\u001b[0;32m      2\u001b[0m \u001b[38;5;66;03m#\u001b[39;00m\n\u001b[0;32m      3\u001b[0m \u001b[38;5;66;03m# Licensed under the Apache License, Version 2.0 (the \"License\");\u001b[39;00m\n\u001b[1;32m   (...)\u001b[0m\n\u001b[0;32m     12\u001b[0m \u001b[38;5;66;03m# See the License for the specific language governing permissions and\u001b[39;00m\n\u001b[0;32m     13\u001b[0m \u001b[38;5;66;03m# limitations under the License.\u001b[39;00m\n\u001b[1;32m---> 15\u001b[0m \u001b[38;5;28;01mfrom\u001b[39;00m \u001b[38;5;21;01mkeras_nlp\u001b[39;00m\u001b[38;5;21;01m.\u001b[39;00m\u001b[38;5;21;01msrc\u001b[39;00m\u001b[38;5;21;01m.\u001b[39;00m\u001b[38;5;21;01mapi_export\u001b[39;00m \u001b[38;5;28;01mimport\u001b[39;00m keras_nlp_export\n\u001b[0;32m     16\u001b[0m \u001b[38;5;28;01mfrom\u001b[39;00m \u001b[38;5;21;01mkeras_nlp\u001b[39;00m\u001b[38;5;21;01m.\u001b[39;00m\u001b[38;5;21;01msrc\u001b[39;00m\u001b[38;5;21;01m.\u001b[39;00m\u001b[38;5;21;01mbackend\u001b[39;00m \u001b[38;5;28;01mimport\u001b[39;00m keras\n\u001b[0;32m     17\u001b[0m \u001b[38;5;28;01mfrom\u001b[39;00m \u001b[38;5;21;01mkeras_nlp\u001b[39;00m\u001b[38;5;21;01m.\u001b[39;00m\u001b[38;5;21;01msrc\u001b[39;00m\u001b[38;5;21;01m.\u001b[39;00m\u001b[38;5;21;01mbackend\u001b[39;00m \u001b[38;5;28;01mimport\u001b[39;00m ops\n",
      "File \u001b[1;32mc:\\Users\\Sorra\\anaconda3\\envs\\gpu290\\lib\\site-packages\\keras_nlp\\src\\api_export.py:17\u001b[0m\n\u001b[0;32m      1\u001b[0m \u001b[38;5;66;03m# Copyright 2023 The KerasNLP Authors\u001b[39;00m\n\u001b[0;32m      2\u001b[0m \u001b[38;5;66;03m#\u001b[39;00m\n\u001b[0;32m      3\u001b[0m \u001b[38;5;66;03m# Licensed under the Apache License, Version 2.0 (the \"License\");\u001b[39;00m\n\u001b[1;32m   (...)\u001b[0m\n\u001b[0;32m     12\u001b[0m \u001b[38;5;66;03m# See the License for the specific language governing permissions and\u001b[39;00m\n\u001b[0;32m     13\u001b[0m \u001b[38;5;66;03m# limitations under the License.\u001b[39;00m\n\u001b[0;32m     15\u001b[0m \u001b[38;5;28;01mimport\u001b[39;00m \u001b[38;5;21;01mtypes\u001b[39;00m\n\u001b[1;32m---> 17\u001b[0m \u001b[38;5;28;01mfrom\u001b[39;00m \u001b[38;5;21;01mkeras_nlp\u001b[39;00m\u001b[38;5;21;01m.\u001b[39;00m\u001b[38;5;21;01msrc\u001b[39;00m\u001b[38;5;21;01m.\u001b[39;00m\u001b[38;5;21;01mbackend\u001b[39;00m \u001b[38;5;28;01mimport\u001b[39;00m keras\n\u001b[0;32m     19\u001b[0m \u001b[38;5;28;01mtry\u001b[39;00m:\n\u001b[0;32m     20\u001b[0m     \u001b[38;5;28;01mimport\u001b[39;00m \u001b[38;5;21;01mnamex\u001b[39;00m\n",
      "File \u001b[1;32mc:\\Users\\Sorra\\anaconda3\\envs\\gpu290\\lib\\site-packages\\keras_nlp\\src\\backend\\__init__.py:29\u001b[0m\n\u001b[0;32m      1\u001b[0m \u001b[38;5;66;03m# Copyright 2023 The KerasNLP Authors\u001b[39;00m\n\u001b[0;32m      2\u001b[0m \u001b[38;5;66;03m#\u001b[39;00m\n\u001b[0;32m      3\u001b[0m \u001b[38;5;66;03m# Licensed under the Apache License, Version 2.0 (the \"License\");\u001b[39;00m\n\u001b[1;32m   (...)\u001b[0m\n\u001b[0;32m     12\u001b[0m \u001b[38;5;66;03m# See the License for the specific language governing permissions and\u001b[39;00m\n\u001b[0;32m     13\u001b[0m \u001b[38;5;66;03m# limitations under the License.\u001b[39;00m\n\u001b[0;32m     14\u001b[0m \u001b[38;5;124;03m\"\"\"\u001b[39;00m\n\u001b[0;32m     15\u001b[0m \u001b[38;5;124;03mKeras backend module.\u001b[39;00m\n\u001b[0;32m     16\u001b[0m \n\u001b[1;32m   (...)\u001b[0m\n\u001b[0;32m     26\u001b[0m \u001b[38;5;124;03m- `random`: `keras.random` for Keras 3 or `keras_core.ops` for Keras 2.\u001b[39;00m\n\u001b[0;32m     27\u001b[0m \u001b[38;5;124;03m\"\"\"\u001b[39;00m\n\u001b[1;32m---> 29\u001b[0m \u001b[38;5;28;01mfrom\u001b[39;00m \u001b[38;5;21;01mkeras_nlp\u001b[39;00m\u001b[38;5;21;01m.\u001b[39;00m\u001b[38;5;21;01msrc\u001b[39;00m\u001b[38;5;21;01m.\u001b[39;00m\u001b[38;5;21;01mbackend\u001b[39;00m \u001b[38;5;28;01mimport\u001b[39;00m config\n\u001b[0;32m     30\u001b[0m \u001b[38;5;28;01mfrom\u001b[39;00m \u001b[38;5;21;01mkeras_nlp\u001b[39;00m\u001b[38;5;21;01m.\u001b[39;00m\u001b[38;5;21;01msrc\u001b[39;00m\u001b[38;5;21;01m.\u001b[39;00m\u001b[38;5;21;01mbackend\u001b[39;00m \u001b[38;5;28;01mimport\u001b[39;00m keras\n\u001b[0;32m     31\u001b[0m \u001b[38;5;28;01mfrom\u001b[39;00m \u001b[38;5;21;01mkeras_nlp\u001b[39;00m\u001b[38;5;21;01m.\u001b[39;00m\u001b[38;5;21;01msrc\u001b[39;00m\u001b[38;5;21;01m.\u001b[39;00m\u001b[38;5;21;01mbackend\u001b[39;00m \u001b[38;5;28;01mimport\u001b[39;00m ops\n",
      "File \u001b[1;32mc:\\Users\\Sorra\\anaconda3\\envs\\gpu290\\lib\\site-packages\\keras_nlp\\src\\backend\\config.py:38\u001b[0m\n\u001b[0;32m     34\u001b[0m     \u001b[38;5;66;03m# No `keras.version()` means we are on an old version of keras.\u001b[39;00m\n\u001b[0;32m     35\u001b[0m     \u001b[38;5;28;01mreturn\u001b[39;00m \u001b[38;5;28;01mFalse\u001b[39;00m\n\u001b[1;32m---> 38\u001b[0m _USE_KERAS_3 \u001b[38;5;241m=\u001b[39m \u001b[43mdetect_if_tensorflow_uses_keras_3\u001b[49m\u001b[43m(\u001b[49m\u001b[43m)\u001b[49m\n\u001b[0;32m     40\u001b[0m \u001b[38;5;28;01mif\u001b[39;00m \u001b[38;5;129;01mnot\u001b[39;00m _USE_KERAS_3:\n\u001b[0;32m     41\u001b[0m     backend \u001b[38;5;241m=\u001b[39m os\u001b[38;5;241m.\u001b[39menviron\u001b[38;5;241m.\u001b[39mget(\u001b[38;5;124m\"\u001b[39m\u001b[38;5;124mKERAS_BACKEND\u001b[39m\u001b[38;5;124m\"\u001b[39m)\n",
      "File \u001b[1;32mc:\\Users\\Sorra\\anaconda3\\envs\\gpu290\\lib\\site-packages\\keras_nlp\\src\\backend\\config.py:27\u001b[0m, in \u001b[0;36mdetect_if_tensorflow_uses_keras_3\u001b[1;34m()\u001b[0m\n\u001b[0;32m     25\u001b[0m         \u001b[38;5;28;01mreturn\u001b[39;00m \u001b[38;5;28;01mTrue\u001b[39;00m\n\u001b[0;32m     26\u001b[0m \u001b[38;5;28;01mexcept\u001b[39;00m:\n\u001b[1;32m---> 27\u001b[0m     \u001b[38;5;28;01mraise\u001b[39;00m \u001b[38;5;167;01mValueError\u001b[39;00m(\n\u001b[0;32m     28\u001b[0m         \u001b[38;5;124m\"\u001b[39m\u001b[38;5;124mUnable to import `keras` with `tensorflow`.  Please check your \u001b[39m\u001b[38;5;124m\"\u001b[39m\n\u001b[0;32m     29\u001b[0m         \u001b[38;5;124m\"\u001b[39m\u001b[38;5;124mKeras and Tensorflow version are compatible; Keras 3 requires \u001b[39m\u001b[38;5;124m\"\u001b[39m\n\u001b[0;32m     30\u001b[0m         \u001b[38;5;124m\"\u001b[39m\u001b[38;5;124mTensorFlow 2.15 or later. See keras.io/getting_started for more \u001b[39m\u001b[38;5;124m\"\u001b[39m\n\u001b[0;32m     31\u001b[0m         \u001b[38;5;124m\"\u001b[39m\u001b[38;5;124minformation on installing Keras.\u001b[39m\u001b[38;5;124m\"\u001b[39m\n\u001b[0;32m     32\u001b[0m     )\n\u001b[0;32m     34\u001b[0m \u001b[38;5;66;03m# No `keras.version()` means we are on an old version of keras.\u001b[39;00m\n\u001b[0;32m     35\u001b[0m \u001b[38;5;28;01mreturn\u001b[39;00m \u001b[38;5;28;01mFalse\u001b[39;00m\n",
      "\u001b[1;31mValueError\u001b[0m: Unable to import `keras` with `tensorflow`.  Please check your Keras and Tensorflow version are compatible; Keras 3 requires TensorFlow 2.15 or later. See keras.io/getting_started for more information on installing Keras."
     ]
    }
   ],
   "source": [
    "import autokeras as ak\n",
    "import tensorflow as tf\n",
    "import sklearn\n",
    "\n",
    "print(\"AutoKeras version:\", ak.__version__)\n",
    "print(\"TensorFlow version:\", tf.__version__)\n",
    "print(\"scikit-learn version:\", sklearn.__version__)\n"
   ]
  },
  {
   "cell_type": "code",
   "execution_count": 5,
   "metadata": {},
   "outputs": [
    {
     "name": "stdout",
     "output_type": "stream",
     "text": [
      "Requirement already satisfied: autokeras in c:\\users\\sorra\\anaconda3\\envs\\gpu290\\lib\\site-packages (1.0.0)\n",
      "Collecting autokeras\n",
      "  Using cached autokeras-1.1.0-py3-none-any.whl.metadata (5.8 kB)\n",
      "Requirement already satisfied: packaging in c:\\users\\sorra\\anaconda3\\envs\\gpu290\\lib\\site-packages (from autokeras) (23.2)\n",
      "Requirement already satisfied: tensorflow>=2.8.0 in c:\\users\\sorra\\anaconda3\\envs\\gpu290\\lib\\site-packages (from autokeras) (2.9.0)\n",
      "Requirement already satisfied: keras-tuner>=1.1.0 in c:\\users\\sorra\\anaconda3\\envs\\gpu290\\lib\\site-packages (from autokeras) (1.4.6)\n",
      "Collecting keras-nlp>=0.4.0 (from autokeras)\n",
      "  Using cached keras_nlp-0.7.0-py3-none-any.whl.metadata (7.0 kB)\n",
      "Requirement already satisfied: pandas in c:\\users\\sorra\\anaconda3\\envs\\gpu290\\lib\\site-packages (from autokeras) (2.2.0)\n",
      "Collecting keras-core (from keras-nlp>=0.4.0->autokeras)\n",
      "  Using cached keras_core-0.1.7-py3-none-any.whl.metadata (4.3 kB)\n",
      "Requirement already satisfied: absl-py in c:\\users\\sorra\\anaconda3\\envs\\gpu290\\lib\\site-packages (from keras-nlp>=0.4.0->autokeras) (2.1.0)\n",
      "Requirement already satisfied: numpy in c:\\users\\sorra\\anaconda3\\envs\\gpu290\\lib\\site-packages (from keras-nlp>=0.4.0->autokeras) (1.26.4)\n",
      "Collecting regex (from keras-nlp>=0.4.0->autokeras)\n",
      "  Using cached regex-2023.12.25-cp39-cp39-win_amd64.whl.metadata (41 kB)\n",
      "Collecting rich (from keras-nlp>=0.4.0->autokeras)\n",
      "  Using cached rich-13.7.0-py3-none-any.whl.metadata (18 kB)\n",
      "Collecting dm-tree (from keras-nlp>=0.4.0->autokeras)\n",
      "  Using cached dm_tree-0.1.8-cp39-cp39-win_amd64.whl (101 kB)\n",
      "Collecting kagglehub (from keras-nlp>=0.4.0->autokeras)\n",
      "  Using cached kagglehub-0.1.9-py3-none-any.whl.metadata (18 kB)\n",
      "Collecting tensorflow-text (from keras-nlp>=0.4.0->autokeras)\n",
      "  Using cached tensorflow_text-2.10.0-cp39-cp39-win_amd64.whl (5.0 MB)\n",
      "Requirement already satisfied: keras in c:\\users\\sorra\\anaconda3\\envs\\gpu290\\lib\\site-packages (from keras-tuner>=1.1.0->autokeras) (2.9.0)\n",
      "Requirement already satisfied: requests in c:\\users\\sorra\\anaconda3\\envs\\gpu290\\lib\\site-packages (from keras-tuner>=1.1.0->autokeras) (2.31.0)\n",
      "Requirement already satisfied: kt-legacy in c:\\users\\sorra\\anaconda3\\envs\\gpu290\\lib\\site-packages (from keras-tuner>=1.1.0->autokeras) (1.0.5)\n",
      "Requirement already satisfied: astunparse>=1.6.0 in c:\\users\\sorra\\anaconda3\\envs\\gpu290\\lib\\site-packages (from tensorflow>=2.8.0->autokeras) (1.6.3)\n",
      "Requirement already satisfied: flatbuffers<2,>=1.12 in c:\\users\\sorra\\anaconda3\\envs\\gpu290\\lib\\site-packages (from tensorflow>=2.8.0->autokeras) (1.12)\n",
      "Requirement already satisfied: gast<=0.4.0,>=0.2.1 in c:\\users\\sorra\\anaconda3\\envs\\gpu290\\lib\\site-packages (from tensorflow>=2.8.0->autokeras) (0.4.0)\n",
      "Requirement already satisfied: google-pasta>=0.1.1 in c:\\users\\sorra\\anaconda3\\envs\\gpu290\\lib\\site-packages (from tensorflow>=2.8.0->autokeras) (0.2.0)\n",
      "Requirement already satisfied: h5py>=2.9.0 in c:\\users\\sorra\\anaconda3\\envs\\gpu290\\lib\\site-packages (from tensorflow>=2.8.0->autokeras) (3.10.0)\n",
      "Requirement already satisfied: keras-preprocessing>=1.1.1 in c:\\users\\sorra\\anaconda3\\envs\\gpu290\\lib\\site-packages (from tensorflow>=2.8.0->autokeras) (1.1.2)\n",
      "Requirement already satisfied: libclang>=13.0.0 in c:\\users\\sorra\\anaconda3\\envs\\gpu290\\lib\\site-packages (from tensorflow>=2.8.0->autokeras) (16.0.6)\n",
      "Requirement already satisfied: opt-einsum>=2.3.2 in c:\\users\\sorra\\anaconda3\\envs\\gpu290\\lib\\site-packages (from tensorflow>=2.8.0->autokeras) (3.3.0)\n",
      "Requirement already satisfied: protobuf>=3.9.2 in c:\\users\\sorra\\anaconda3\\envs\\gpu290\\lib\\site-packages (from tensorflow>=2.8.0->autokeras) (3.19.6)\n",
      "Requirement already satisfied: setuptools in c:\\users\\sorra\\anaconda3\\envs\\gpu290\\lib\\site-packages (from tensorflow>=2.8.0->autokeras) (68.2.2)\n",
      "Requirement already satisfied: six>=1.12.0 in c:\\users\\sorra\\anaconda3\\envs\\gpu290\\lib\\site-packages (from tensorflow>=2.8.0->autokeras) (1.16.0)\n",
      "Requirement already satisfied: termcolor>=1.1.0 in c:\\users\\sorra\\anaconda3\\envs\\gpu290\\lib\\site-packages (from tensorflow>=2.8.0->autokeras) (2.4.0)\n",
      "Requirement already satisfied: typing-extensions>=3.6.6 in c:\\users\\sorra\\anaconda3\\envs\\gpu290\\lib\\site-packages (from tensorflow>=2.8.0->autokeras) (4.9.0)\n",
      "Requirement already satisfied: wrapt>=1.11.0 in c:\\users\\sorra\\anaconda3\\envs\\gpu290\\lib\\site-packages (from tensorflow>=2.8.0->autokeras) (1.16.0)\n",
      "Requirement already satisfied: tensorflow-io-gcs-filesystem>=0.23.1 in c:\\users\\sorra\\anaconda3\\envs\\gpu290\\lib\\site-packages (from tensorflow>=2.8.0->autokeras) (0.31.0)\n",
      "Requirement already satisfied: grpcio<2.0,>=1.24.3 in c:\\users\\sorra\\anaconda3\\envs\\gpu290\\lib\\site-packages (from tensorflow>=2.8.0->autokeras) (1.60.1)\n",
      "Requirement already satisfied: tensorboard<2.10,>=2.9 in c:\\users\\sorra\\anaconda3\\envs\\gpu290\\lib\\site-packages (from tensorflow>=2.8.0->autokeras) (2.9.1)\n",
      "Requirement already satisfied: tensorflow-estimator<2.10.0,>=2.9.0rc0 in c:\\users\\sorra\\anaconda3\\envs\\gpu290\\lib\\site-packages (from tensorflow>=2.8.0->autokeras) (2.9.0)\n",
      "Requirement already satisfied: python-dateutil>=2.8.2 in c:\\users\\sorra\\anaconda3\\envs\\gpu290\\lib\\site-packages (from pandas->autokeras) (2.8.2)\n",
      "Requirement already satisfied: pytz>=2020.1 in c:\\users\\sorra\\anaconda3\\envs\\gpu290\\lib\\site-packages (from pandas->autokeras) (2024.1)\n",
      "Requirement already satisfied: tzdata>=2022.7 in c:\\users\\sorra\\anaconda3\\envs\\gpu290\\lib\\site-packages (from pandas->autokeras) (2024.1)\n",
      "Requirement already satisfied: wheel<1.0,>=0.23.0 in c:\\users\\sorra\\anaconda3\\envs\\gpu290\\lib\\site-packages (from astunparse>=1.6.0->tensorflow>=2.8.0->autokeras) (0.41.2)\n",
      "Requirement already satisfied: google-auth<3,>=1.6.3 in c:\\users\\sorra\\anaconda3\\envs\\gpu290\\lib\\site-packages (from tensorboard<2.10,>=2.9->tensorflow>=2.8.0->autokeras) (2.28.0)\n",
      "Requirement already satisfied: google-auth-oauthlib<0.5,>=0.4.1 in c:\\users\\sorra\\anaconda3\\envs\\gpu290\\lib\\site-packages (from tensorboard<2.10,>=2.9->tensorflow>=2.8.0->autokeras) (0.4.6)\n",
      "Requirement already satisfied: markdown>=2.6.8 in c:\\users\\sorra\\anaconda3\\envs\\gpu290\\lib\\site-packages (from tensorboard<2.10,>=2.9->tensorflow>=2.8.0->autokeras) (3.5.2)\n",
      "Requirement already satisfied: tensorboard-data-server<0.7.0,>=0.6.0 in c:\\users\\sorra\\anaconda3\\envs\\gpu290\\lib\\site-packages (from tensorboard<2.10,>=2.9->tensorflow>=2.8.0->autokeras) (0.6.1)\n",
      "Requirement already satisfied: tensorboard-plugin-wit>=1.6.0 in c:\\users\\sorra\\anaconda3\\envs\\gpu290\\lib\\site-packages (from tensorboard<2.10,>=2.9->tensorflow>=2.8.0->autokeras) (1.8.1)\n",
      "Requirement already satisfied: werkzeug>=1.0.1 in c:\\users\\sorra\\anaconda3\\envs\\gpu290\\lib\\site-packages (from tensorboard<2.10,>=2.9->tensorflow>=2.8.0->autokeras) (3.0.1)\n",
      "Requirement already satisfied: charset-normalizer<4,>=2 in c:\\users\\sorra\\anaconda3\\envs\\gpu290\\lib\\site-packages (from requests->keras-tuner>=1.1.0->autokeras) (3.3.2)\n",
      "Requirement already satisfied: idna<4,>=2.5 in c:\\users\\sorra\\anaconda3\\envs\\gpu290\\lib\\site-packages (from requests->keras-tuner>=1.1.0->autokeras) (3.6)\n",
      "Requirement already satisfied: urllib3<3,>=1.21.1 in c:\\users\\sorra\\anaconda3\\envs\\gpu290\\lib\\site-packages (from requests->keras-tuner>=1.1.0->autokeras) (2.2.1)\n",
      "Requirement already satisfied: certifi>=2017.4.17 in c:\\users\\sorra\\anaconda3\\envs\\gpu290\\lib\\site-packages (from requests->keras-tuner>=1.1.0->autokeras) (2024.2.2)\n",
      "Collecting tqdm (from kagglehub->keras-nlp>=0.4.0->autokeras)\n",
      "  Using cached tqdm-4.66.2-py3-none-any.whl.metadata (57 kB)\n",
      "Collecting namex (from keras-core->keras-nlp>=0.4.0->autokeras)\n",
      "  Using cached namex-0.0.7-py3-none-any.whl.metadata (246 bytes)\n",
      "Collecting markdown-it-py>=2.2.0 (from rich->keras-nlp>=0.4.0->autokeras)\n",
      "  Using cached markdown_it_py-3.0.0-py3-none-any.whl.metadata (6.9 kB)\n",
      "Requirement already satisfied: pygments<3.0.0,>=2.13.0 in c:\\users\\sorra\\anaconda3\\envs\\gpu290\\lib\\site-packages (from rich->keras-nlp>=0.4.0->autokeras) (2.17.2)\n",
      "Collecting tensorflow-hub>=0.8.0 (from tensorflow-text->keras-nlp>=0.4.0->autokeras)\n",
      "  Using cached tensorflow_hub-0.16.1-py2.py3-none-any.whl.metadata (1.3 kB)\n",
      "Collecting tensorflow>=2.8.0 (from autokeras)\n",
      "  Using cached tensorflow-2.10.1-cp39-cp39-win_amd64.whl (455.9 MB)\n",
      "Collecting flatbuffers>=2.0 (from tensorflow>=2.8.0->autokeras)\n",
      "  Using cached flatbuffers-23.5.26-py2.py3-none-any.whl.metadata (850 bytes)\n",
      "Collecting tensorboard<2.11,>=2.10 (from tensorflow>=2.8.0->autokeras)\n",
      "  Using cached tensorboard-2.10.1-py3-none-any.whl (5.9 MB)\n",
      "Collecting tensorflow-estimator<2.11,>=2.10.0 (from tensorflow>=2.8.0->autokeras)\n",
      "  Using cached tensorflow_estimator-2.10.0-py2.py3-none-any.whl (438 kB)\n",
      "Collecting keras (from keras-tuner>=1.1.0->autokeras)\n",
      "  Using cached keras-2.10.0-py2.py3-none-any.whl (1.7 MB)\n",
      "Requirement already satisfied: cachetools<6.0,>=2.0.0 in c:\\users\\sorra\\anaconda3\\envs\\gpu290\\lib\\site-packages (from google-auth<3,>=1.6.3->tensorboard<2.10,>=2.9->tensorflow>=2.8.0->autokeras) (5.3.2)\n",
      "Requirement already satisfied: pyasn1-modules>=0.2.1 in c:\\users\\sorra\\anaconda3\\envs\\gpu290\\lib\\site-packages (from google-auth<3,>=1.6.3->tensorboard<2.10,>=2.9->tensorflow>=2.8.0->autokeras) (0.3.0)\n",
      "Requirement already satisfied: rsa<5,>=3.1.4 in c:\\users\\sorra\\anaconda3\\envs\\gpu290\\lib\\site-packages (from google-auth<3,>=1.6.3->tensorboard<2.10,>=2.9->tensorflow>=2.8.0->autokeras) (4.9)\n",
      "Requirement already satisfied: requests-oauthlib>=0.7.0 in c:\\users\\sorra\\anaconda3\\envs\\gpu290\\lib\\site-packages (from google-auth-oauthlib<0.5,>=0.4.1->tensorboard<2.10,>=2.9->tensorflow>=2.8.0->autokeras) (1.3.1)\n",
      "Requirement already satisfied: importlib-metadata>=4.4 in c:\\users\\sorra\\anaconda3\\envs\\gpu290\\lib\\site-packages (from markdown>=2.6.8->tensorboard<2.10,>=2.9->tensorflow>=2.8.0->autokeras) (7.0.1)\n",
      "Collecting mdurl~=0.1 (from markdown-it-py>=2.2.0->rich->keras-nlp>=0.4.0->autokeras)\n",
      "  Using cached mdurl-0.1.2-py3-none-any.whl (10.0 kB)\n",
      "Collecting tf-keras>=2.14.1 (from tensorflow-hub>=0.8.0->tensorflow-text->keras-nlp>=0.4.0->autokeras)\n",
      "  Using cached tf_keras-2.15.0-py3-none-any.whl.metadata (1.6 kB)\n",
      "Requirement already satisfied: MarkupSafe>=2.1.1 in c:\\users\\sorra\\anaconda3\\envs\\gpu290\\lib\\site-packages (from werkzeug>=1.0.1->tensorboard<2.10,>=2.9->tensorflow>=2.8.0->autokeras) (2.1.5)\n",
      "Requirement already satisfied: colorama in c:\\users\\sorra\\anaconda3\\envs\\gpu290\\lib\\site-packages (from tqdm->kagglehub->keras-nlp>=0.4.0->autokeras) (0.4.6)\n",
      "Requirement already satisfied: zipp>=0.5 in c:\\users\\sorra\\anaconda3\\envs\\gpu290\\lib\\site-packages (from importlib-metadata>=4.4->markdown>=2.6.8->tensorboard<2.10,>=2.9->tensorflow>=2.8.0->autokeras) (3.17.0)\n",
      "Requirement already satisfied: pyasn1<0.6.0,>=0.4.6 in c:\\users\\sorra\\anaconda3\\envs\\gpu290\\lib\\site-packages (from pyasn1-modules>=0.2.1->google-auth<3,>=1.6.3->tensorboard<2.10,>=2.9->tensorflow>=2.8.0->autokeras) (0.5.1)\n",
      "Requirement already satisfied: oauthlib>=3.0.0 in c:\\users\\sorra\\anaconda3\\envs\\gpu290\\lib\\site-packages (from requests-oauthlib>=0.7.0->google-auth-oauthlib<0.5,>=0.4.1->tensorboard<2.10,>=2.9->tensorflow>=2.8.0->autokeras) (3.2.2)\n",
      "Using cached autokeras-1.1.0-py3-none-any.whl (148 kB)\n",
      "Using cached keras_nlp-0.7.0-py3-none-any.whl (415 kB)\n",
      "Using cached kagglehub-0.1.9-py3-none-any.whl (33 kB)\n",
      "Using cached keras_core-0.1.7-py3-none-any.whl (950 kB)\n",
      "Using cached regex-2023.12.25-cp39-cp39-win_amd64.whl (269 kB)\n",
      "Using cached rich-13.7.0-py3-none-any.whl (240 kB)\n",
      "Using cached flatbuffers-23.5.26-py2.py3-none-any.whl (26 kB)\n",
      "Using cached markdown_it_py-3.0.0-py3-none-any.whl (87 kB)\n",
      "Using cached tensorflow_hub-0.16.1-py2.py3-none-any.whl (30 kB)\n",
      "Using cached namex-0.0.7-py3-none-any.whl (5.8 kB)\n",
      "Using cached tqdm-4.66.2-py3-none-any.whl (78 kB)\n",
      "Using cached tf_keras-2.15.0-py3-none-any.whl (1.7 MB)\n",
      "Installing collected packages: namex, keras, flatbuffers, dm-tree, tqdm, tf-keras, tensorflow-estimator, regex, mdurl, tensorflow-hub, markdown-it-py, kagglehub, rich, tensorboard, keras-core, tensorflow, tensorflow-text, keras-nlp, autokeras\n",
      "  Attempting uninstall: keras\n",
      "    Found existing installation: keras 2.9.0\n",
      "    Uninstalling keras-2.9.0:\n",
      "      Successfully uninstalled keras-2.9.0\n",
      "  Attempting uninstall: flatbuffers\n",
      "    Found existing installation: flatbuffers 1.12\n",
      "    Uninstalling flatbuffers-1.12:\n",
      "      Successfully uninstalled flatbuffers-1.12\n",
      "  Attempting uninstall: tensorflow-estimator\n",
      "    Found existing installation: tensorflow-estimator 2.9.0\n",
      "    Uninstalling tensorflow-estimator-2.9.0:\n",
      "      Successfully uninstalled tensorflow-estimator-2.9.0\n",
      "  Attempting uninstall: tensorboard\n",
      "    Found existing installation: tensorboard 2.9.1\n",
      "    Uninstalling tensorboard-2.9.1:\n",
      "      Successfully uninstalled tensorboard-2.9.1\n",
      "  Attempting uninstall: tensorflow\n",
      "    Found existing installation: tensorflow 2.9.0\n",
      "    Uninstalling tensorflow-2.9.0:\n",
      "      Successfully uninstalled tensorflow-2.9.0\n",
      "  Attempting uninstall: autokeras\n",
      "    Found existing installation: autokeras 1.0.0\n",
      "    Uninstalling autokeras-1.0.0:\n",
      "      Successfully uninstalled autokeras-1.0.0\n",
      "Successfully installed autokeras-1.1.0 dm-tree-0.1.8 flatbuffers-23.5.26 kagglehub-0.1.9 keras-2.10.0 keras-core-0.1.7 keras-nlp-0.7.0 markdown-it-py-3.0.0 mdurl-0.1.2 namex-0.0.7 regex-2023.12.25 rich-13.7.0 tensorboard-2.10.1 tensorflow-2.10.1 tensorflow-estimator-2.10.0 tensorflow-hub-0.16.1 tensorflow-text-2.10.0 tf-keras-2.15.0 tqdm-4.66.2\n"
     ]
    },
    {
     "name": "stderr",
     "output_type": "stream",
     "text": [
      "  WARNING: Failed to remove contents in a temporary directory 'C:\\Users\\Sorra\\anaconda3\\envs\\gpu290\\Lib\\site-packages\\~ensorflow'.\n",
      "  You can safely remove it manually.\n"
     ]
    }
   ],
   "source": [
    "!pip install --upgrade autokeras"
   ]
  },
  {
   "cell_type": "code",
   "execution_count": 5,
   "metadata": {},
   "outputs": [
    {
     "ename": "ModuleNotFoundError",
     "evalue": "No module named 'autokeras'",
     "output_type": "error",
     "traceback": [
      "\u001b[1;31m---------------------------------------------------------------------------\u001b[0m",
      "\u001b[1;31mModuleNotFoundError\u001b[0m                       Traceback (most recent call last)",
      "Cell \u001b[1;32mIn[5], line 1\u001b[0m\n\u001b[1;32m----> 1\u001b[0m \u001b[38;5;28;01mimport\u001b[39;00m \u001b[38;5;21;01mautokeras\u001b[39;00m \u001b[38;5;28;01mas\u001b[39;00m \u001b[38;5;21;01mak\u001b[39;00m\n\u001b[0;32m      2\u001b[0m \u001b[38;5;28;01mfrom\u001b[39;00m \u001b[38;5;21;01msklearn\u001b[39;00m\u001b[38;5;21;01m.\u001b[39;00m\u001b[38;5;21;01mmodel_selection\u001b[39;00m \u001b[38;5;28;01mimport\u001b[39;00m train_test_split\n\u001b[0;32m      5\u001b[0m \u001b[38;5;66;03m# Разделение данных на обучающий и валидационный наборы\u001b[39;00m\n",
      "\u001b[1;31mModuleNotFoundError\u001b[0m: No module named 'autokeras'"
     ]
    }
   ],
   "source": [
    "import autokeras as ak\n",
    "from sklearn.model_selection import train_test_split\n",
    "\n",
    "\n",
    "# Разделение данных на обучающий и валидационный наборы\n",
    "X_train, X_val, y_train, y_val = train_test_split(X_train, y_train, test_size=0.1, random_state=42)\n",
    "\n",
    "y_train_np = np.array(y_train)\n",
    "y_test_np = np.array(y_test)\n",
    "\n",
    "# Инициализация классификатора AutoKeras\n",
    "clf = ak.ImageClassifier(\n",
    "    max_trials=3,\n",
    "    objective='val_accuracy',\n",
    "    directory='berries2',\n",
    "    overwrite=False)\n",
    "\n",
    "# Обучение с использованием валидационного набора\n",
    "clf.fit(X_train, y_train_np, epochs=3, validation_data=(X_test, y_test_np), verbose=1)\n"
   ]
  },
  {
   "cell_type": "code",
   "execution_count": 8,
   "metadata": {},
   "outputs": [
    {
     "name": "stdout",
     "output_type": "stream",
     "text": [
      "21/21 [==============================] - 3s 82ms/step - loss: 4.1381 - accuracy: 0.1208\n",
      "Test Accuracy: 0.12084592133760452\n"
     ]
    }
   ],
   "source": [
    "# Оценка производительности на тестовых данных\n",
    "evaluation = clf.evaluate(X_test, y_test_np)\n",
    "print(\"Test Accuracy:\", evaluation[1])\n"
   ]
  },
  {
   "cell_type": "code",
   "execution_count": 3,
   "metadata": {},
   "outputs": [
    {
     "name": "stdout",
     "output_type": "stream",
     "text": [
      "2.9.0\n"
     ]
    }
   ],
   "source": [
    "import keras\n",
    "print(keras.__version__)\n"
   ]
  },
  {
   "cell_type": "code",
   "execution_count": 4,
   "metadata": {},
   "outputs": [
    {
     "name": "stdout",
     "output_type": "stream",
     "text": [
      "2.9.0\n"
     ]
    }
   ],
   "source": [
    "import tensorflow as tf\n",
    "\n",
    "print(tf.__version__)\n"
   ]
  },
  {
   "cell_type": "code",
   "execution_count": 5,
   "metadata": {},
   "outputs": [
    {
     "ename": "ModuleNotFoundError",
     "evalue": "No module named 'tensorflow_text'",
     "output_type": "error",
     "traceback": [
      "\u001b[1;31m---------------------------------------------------------------------------\u001b[0m",
      "\u001b[1;31mModuleNotFoundError\u001b[0m                       Traceback (most recent call last)",
      "Cell \u001b[1;32mIn[5], line 1\u001b[0m\n\u001b[1;32m----> 1\u001b[0m \u001b[38;5;28;01mimport\u001b[39;00m \u001b[38;5;21;01mtensorflow_text\u001b[39;00m \u001b[38;5;28;01mas\u001b[39;00m \u001b[38;5;21;01mtext\u001b[39;00m\n\u001b[0;32m      2\u001b[0m \u001b[38;5;28mprint\u001b[39m(text\u001b[38;5;241m.\u001b[39m__version__)\n",
      "\u001b[1;31mModuleNotFoundError\u001b[0m: No module named 'tensorflow_text'"
     ]
    }
   ],
   "source": [
    "import tensorflow_text as text\n",
    "print(text.__version__)\n"
   ]
  },
  {
   "cell_type": "code",
   "execution_count": 13,
   "metadata": {},
   "outputs": [
    {
     "name": "stdout",
     "output_type": "stream",
     "text": [
      "1/1 [==============================] - 2s 2s/step\n",
      "1/1 [==============================] - 0s 18ms/step\n",
      "Predicted Class: aronnik\n"
     ]
    }
   ],
   "source": [
    "import cv2\n",
    "import numpy as np\n",
    "\n",
    "# Загрузка нового изображения\n",
    "new_image_path = '1.jfif'\n",
    "new_img = cv2.imread(new_image_path)\n",
    "\n",
    "# Предварительная обработка нового изображения (подобно тому, как вы делали с обучающими данными)\n",
    "new_img = cv2.resize(new_img, target_resolution)\n",
    "new_img = np.array([new_img])  # Преобразование в массив\n",
    "\n",
    "# Предсказание с использованием обученной модели\n",
    "predictions = clf.predict(new_img)\n",
    "\n",
    "# Определение индекса класса с наивысшей вероятностью\n",
    "predicted_class_index = np.argmax(predictions)\n",
    "\n",
    "# Декодирование индекса класса в исходное значение метки\n",
    "decoded_prediction = label_encoder.classes_[predicted_class_index]\n",
    "\n",
    "print(\"Predicted Class:\", decoded_prediction)\n"
   ]
  },
  {
   "cell_type": "code",
   "execution_count": 14,
   "metadata": {},
   "outputs": [
    {
     "ename": "ValueError",
     "evalue": "Unrecognized arguments ['metadata'] for `BaseTuner.__init__()`.",
     "output_type": "error",
     "traceback": [
      "\u001b[1;31m---------------------------------------------------------------------------\u001b[0m",
      "\u001b[1;31mValueError\u001b[0m                                Traceback (most recent call last)",
      "Cell \u001b[1;32mIn[14], line 9\u001b[0m\n\u001b[0;32m      5\u001b[0m X_train, X_val, y_train, y_val \u001b[38;5;241m=\u001b[39m train_test_split(X_train, y_train, test_size\u001b[38;5;241m=\u001b[39m\u001b[38;5;241m0.1\u001b[39m, random_state\u001b[38;5;241m=\u001b[39m\u001b[38;5;241m42\u001b[39m)\n\u001b[0;32m      7\u001b[0m class_names \u001b[38;5;241m=\u001b[39m np\u001b[38;5;241m.\u001b[39munique(y)\n\u001b[1;32m----> 9\u001b[0m clf \u001b[38;5;241m=\u001b[39m \u001b[43mak\u001b[49m\u001b[38;5;241;43m.\u001b[39;49m\u001b[43mImageClassifier\u001b[49m\u001b[43m(\u001b[49m\n\u001b[0;32m     10\u001b[0m \u001b[43m    \u001b[49m\u001b[43mmax_trials\u001b[49m\u001b[38;5;241;43m=\u001b[39;49m\u001b[38;5;241;43m2\u001b[39;49m\u001b[43m,\u001b[49m\n\u001b[0;32m     11\u001b[0m \u001b[43m    \u001b[49m\u001b[43mobjective\u001b[49m\u001b[38;5;241;43m=\u001b[39;49m\u001b[38;5;124;43m'\u001b[39;49m\u001b[38;5;124;43mval_accuracy\u001b[39;49m\u001b[38;5;124;43m'\u001b[39;49m\u001b[43m,\u001b[49m\n\u001b[0;32m     12\u001b[0m \u001b[43m    \u001b[49m\u001b[43mdirectory\u001b[49m\u001b[38;5;241;43m=\u001b[39;49m\u001b[38;5;124;43m'\u001b[39;49m\u001b[38;5;124;43mpavement_crack\u001b[39;49m\u001b[38;5;124;43m'\u001b[39;49m\u001b[43m,\u001b[49m\n\u001b[0;32m     13\u001b[0m \u001b[43m    \u001b[49m\u001b[43moverwrite\u001b[49m\u001b[38;5;241;43m=\u001b[39;49m\u001b[38;5;28;43;01mTrue\u001b[39;49;00m\u001b[43m,\u001b[49m\n\u001b[0;32m     14\u001b[0m \u001b[43m    \u001b[49m\u001b[43mmetadata\u001b[49m\u001b[38;5;241;43m=\u001b[39;49m\u001b[43m{\u001b[49m\u001b[38;5;124;43m\"\u001b[39;49m\u001b[38;5;124;43mclass_names\u001b[39;49m\u001b[38;5;124;43m\"\u001b[39;49m\u001b[43m:\u001b[49m\u001b[43m \u001b[49m\u001b[43mclass_names\u001b[49m\u001b[38;5;241;43m.\u001b[39;49m\u001b[43mtolist\u001b[49m\u001b[43m(\u001b[49m\u001b[43m)\u001b[49m\u001b[43m}\u001b[49m\u001b[43m)\u001b[49m\n\u001b[0;32m     16\u001b[0m \u001b[38;5;66;03m# Обучение с использованием валидационного набора\u001b[39;00m\n\u001b[0;32m     17\u001b[0m clf\u001b[38;5;241m.\u001b[39mfit(X_train, y_train, epochs\u001b[38;5;241m=\u001b[39m\u001b[38;5;241m2\u001b[39m, validation_data\u001b[38;5;241m=\u001b[39m(X_test, y_test))\n",
      "File \u001b[1;32mc:\\Users\\Sorra\\anaconda3\\envs\\gpu\\lib\\site-packages\\autokeras\\tasks\\image.py:90\u001b[0m, in \u001b[0;36mImageClassifier.__init__\u001b[1;34m(self, num_classes, multi_label, loss, metrics, project_name, max_trials, directory, objective, tuner, overwrite, seed, max_model_size, **kwargs)\u001b[0m\n\u001b[0;32m     88\u001b[0m \u001b[38;5;28;01mif\u001b[39;00m tuner \u001b[38;5;129;01mis\u001b[39;00m \u001b[38;5;28;01mNone\u001b[39;00m:\n\u001b[0;32m     89\u001b[0m     tuner \u001b[38;5;241m=\u001b[39m task_specific\u001b[38;5;241m.\u001b[39mImageClassifierTuner\n\u001b[1;32m---> 90\u001b[0m \u001b[38;5;28msuper\u001b[39m()\u001b[38;5;241m.\u001b[39m\u001b[38;5;21m__init__\u001b[39m(\n\u001b[0;32m     91\u001b[0m     outputs\u001b[38;5;241m=\u001b[39mblocks\u001b[38;5;241m.\u001b[39mClassificationHead(\n\u001b[0;32m     92\u001b[0m         num_classes\u001b[38;5;241m=\u001b[39mnum_classes,\n\u001b[0;32m     93\u001b[0m         multi_label\u001b[38;5;241m=\u001b[39mmulti_label,\n\u001b[0;32m     94\u001b[0m         loss\u001b[38;5;241m=\u001b[39mloss,\n\u001b[0;32m     95\u001b[0m         metrics\u001b[38;5;241m=\u001b[39mmetrics,\n\u001b[0;32m     96\u001b[0m     ),\n\u001b[0;32m     97\u001b[0m     max_trials\u001b[38;5;241m=\u001b[39mmax_trials,\n\u001b[0;32m     98\u001b[0m     directory\u001b[38;5;241m=\u001b[39mdirectory,\n\u001b[0;32m     99\u001b[0m     project_name\u001b[38;5;241m=\u001b[39mproject_name,\n\u001b[0;32m    100\u001b[0m     objective\u001b[38;5;241m=\u001b[39mobjective,\n\u001b[0;32m    101\u001b[0m     tuner\u001b[38;5;241m=\u001b[39mtuner,\n\u001b[0;32m    102\u001b[0m     overwrite\u001b[38;5;241m=\u001b[39moverwrite,\n\u001b[0;32m    103\u001b[0m     seed\u001b[38;5;241m=\u001b[39mseed,\n\u001b[0;32m    104\u001b[0m     max_model_size\u001b[38;5;241m=\u001b[39mmax_model_size,\n\u001b[0;32m    105\u001b[0m     \u001b[38;5;241m*\u001b[39m\u001b[38;5;241m*\u001b[39mkwargs\n\u001b[0;32m    106\u001b[0m )\n",
      "File \u001b[1;32mc:\\Users\\Sorra\\anaconda3\\envs\\gpu\\lib\\site-packages\\autokeras\\tasks\\image.py:36\u001b[0m, in \u001b[0;36mSupervisedImagePipeline.__init__\u001b[1;34m(self, outputs, **kwargs)\u001b[0m\n\u001b[0;32m     35\u001b[0m \u001b[38;5;28;01mdef\u001b[39;00m \u001b[38;5;21m__init__\u001b[39m(\u001b[38;5;28mself\u001b[39m, outputs, \u001b[38;5;241m*\u001b[39m\u001b[38;5;241m*\u001b[39mkwargs):\n\u001b[1;32m---> 36\u001b[0m     \u001b[38;5;28msuper\u001b[39m()\u001b[38;5;241m.\u001b[39m\u001b[38;5;21m__init__\u001b[39m(inputs\u001b[38;5;241m=\u001b[39minput_module\u001b[38;5;241m.\u001b[39mImageInput(), outputs\u001b[38;5;241m=\u001b[39moutputs, \u001b[38;5;241m*\u001b[39m\u001b[38;5;241m*\u001b[39mkwargs)\n",
      "File \u001b[1;32mc:\\Users\\Sorra\\anaconda3\\envs\\gpu\\lib\\site-packages\\autokeras\\auto_model.py:143\u001b[0m, in \u001b[0;36mAutoModel.__init__\u001b[1;34m(self, inputs, outputs, project_name, max_trials, directory, objective, tuner, overwrite, seed, max_model_size, **kwargs)\u001b[0m\n\u001b[0;32m    141\u001b[0m \u001b[38;5;28;01mif\u001b[39;00m \u001b[38;5;28misinstance\u001b[39m(tuner, \u001b[38;5;28mstr\u001b[39m):\n\u001b[0;32m    142\u001b[0m     tuner \u001b[38;5;241m=\u001b[39m get_tuner_class(tuner)\n\u001b[1;32m--> 143\u001b[0m \u001b[38;5;28mself\u001b[39m\u001b[38;5;241m.\u001b[39mtuner \u001b[38;5;241m=\u001b[39m tuner(\n\u001b[0;32m    144\u001b[0m     hypermodel\u001b[38;5;241m=\u001b[39mgraph,\n\u001b[0;32m    145\u001b[0m     overwrite\u001b[38;5;241m=\u001b[39moverwrite,\n\u001b[0;32m    146\u001b[0m     objective\u001b[38;5;241m=\u001b[39mobjective,\n\u001b[0;32m    147\u001b[0m     max_trials\u001b[38;5;241m=\u001b[39mmax_trials,\n\u001b[0;32m    148\u001b[0m     directory\u001b[38;5;241m=\u001b[39mdirectory,\n\u001b[0;32m    149\u001b[0m     seed\u001b[38;5;241m=\u001b[39m\u001b[38;5;28mself\u001b[39m\u001b[38;5;241m.\u001b[39mseed,\n\u001b[0;32m    150\u001b[0m     project_name\u001b[38;5;241m=\u001b[39mproject_name,\n\u001b[0;32m    151\u001b[0m     max_model_size\u001b[38;5;241m=\u001b[39mmax_model_size,\n\u001b[0;32m    152\u001b[0m     \u001b[38;5;241m*\u001b[39m\u001b[38;5;241m*\u001b[39mkwargs\n\u001b[0;32m    153\u001b[0m )\n\u001b[0;32m    154\u001b[0m \u001b[38;5;28mself\u001b[39m\u001b[38;5;241m.\u001b[39moverwrite \u001b[38;5;241m=\u001b[39m overwrite\n\u001b[0;32m    155\u001b[0m \u001b[38;5;28mself\u001b[39m\u001b[38;5;241m.\u001b[39m_heads \u001b[38;5;241m=\u001b[39m [output_node\u001b[38;5;241m.\u001b[39min_blocks[\u001b[38;5;241m0\u001b[39m] \u001b[38;5;28;01mfor\u001b[39;00m output_node \u001b[38;5;129;01min\u001b[39;00m \u001b[38;5;28mself\u001b[39m\u001b[38;5;241m.\u001b[39moutputs]\n",
      "File \u001b[1;32mc:\\Users\\Sorra\\anaconda3\\envs\\gpu\\lib\\site-packages\\autokeras\\tuners\\task_specific.py:157\u001b[0m, in \u001b[0;36mImageClassifierTuner.__init__\u001b[1;34m(self, **kwargs)\u001b[0m\n\u001b[0;32m    156\u001b[0m \u001b[38;5;28;01mdef\u001b[39;00m \u001b[38;5;21m__init__\u001b[39m(\u001b[38;5;28mself\u001b[39m, \u001b[38;5;241m*\u001b[39m\u001b[38;5;241m*\u001b[39mkwargs):\n\u001b[1;32m--> 157\u001b[0m     \u001b[38;5;28msuper\u001b[39m()\u001b[38;5;241m.\u001b[39m\u001b[38;5;21m__init__\u001b[39m(initial_hps\u001b[38;5;241m=\u001b[39mIMAGE_CLASSIFIER, \u001b[38;5;241m*\u001b[39m\u001b[38;5;241m*\u001b[39mkwargs)\n",
      "File \u001b[1;32mc:\\Users\\Sorra\\anaconda3\\envs\\gpu\\lib\\site-packages\\autokeras\\tuners\\greedy.py:231\u001b[0m, in \u001b[0;36mGreedy.__init__\u001b[1;34m(self, hypermodel, objective, max_trials, initial_hps, seed, hyperparameters, tune_new_entries, allow_new_entries, **kwargs)\u001b[0m\n\u001b[0;32m    221\u001b[0m \u001b[38;5;28mself\u001b[39m\u001b[38;5;241m.\u001b[39mseed \u001b[38;5;241m=\u001b[39m seed\n\u001b[0;32m    222\u001b[0m oracle \u001b[38;5;241m=\u001b[39m GreedyOracle(\n\u001b[0;32m    223\u001b[0m     objective\u001b[38;5;241m=\u001b[39mobjective,\n\u001b[0;32m    224\u001b[0m     max_trials\u001b[38;5;241m=\u001b[39mmax_trials,\n\u001b[1;32m   (...)\u001b[0m\n\u001b[0;32m    229\u001b[0m     allow_new_entries\u001b[38;5;241m=\u001b[39mallow_new_entries,\n\u001b[0;32m    230\u001b[0m )\n\u001b[1;32m--> 231\u001b[0m \u001b[38;5;28msuper\u001b[39m()\u001b[38;5;241m.\u001b[39m\u001b[38;5;21m__init__\u001b[39m(oracle\u001b[38;5;241m=\u001b[39moracle, hypermodel\u001b[38;5;241m=\u001b[39mhypermodel, \u001b[38;5;241m*\u001b[39m\u001b[38;5;241m*\u001b[39mkwargs)\n",
      "File \u001b[1;32mc:\\Users\\Sorra\\anaconda3\\envs\\gpu\\lib\\site-packages\\autokeras\\engine\\tuner.py:52\u001b[0m, in \u001b[0;36mAutoTuner.__init__\u001b[1;34m(self, oracle, hypermodel, **kwargs)\u001b[0m\n\u001b[0;32m     49\u001b[0m \u001b[38;5;28;01mdef\u001b[39;00m \u001b[38;5;21m__init__\u001b[39m(\u001b[38;5;28mself\u001b[39m, oracle, hypermodel, \u001b[38;5;241m*\u001b[39m\u001b[38;5;241m*\u001b[39mkwargs):\n\u001b[0;32m     50\u001b[0m     \u001b[38;5;66;03m# Initialize before super() for reload to work.\u001b[39;00m\n\u001b[0;32m     51\u001b[0m     \u001b[38;5;28mself\u001b[39m\u001b[38;5;241m.\u001b[39m_finished \u001b[38;5;241m=\u001b[39m \u001b[38;5;28;01mFalse\u001b[39;00m\n\u001b[1;32m---> 52\u001b[0m     \u001b[38;5;28msuper\u001b[39m()\u001b[38;5;241m.\u001b[39m\u001b[38;5;21m__init__\u001b[39m(oracle, hypermodel, \u001b[38;5;241m*\u001b[39m\u001b[38;5;241m*\u001b[39mkwargs)\n\u001b[0;32m     53\u001b[0m     \u001b[38;5;66;03m# Save or load the HyperModel.\u001b[39;00m\n\u001b[0;32m     54\u001b[0m     \u001b[38;5;28mself\u001b[39m\u001b[38;5;241m.\u001b[39mhypermodel\u001b[38;5;241m.\u001b[39msave(os\u001b[38;5;241m.\u001b[39mpath\u001b[38;5;241m.\u001b[39mjoin(\u001b[38;5;28mself\u001b[39m\u001b[38;5;241m.\u001b[39mproject_dir, \u001b[38;5;124m\"\u001b[39m\u001b[38;5;124mgraph\u001b[39m\u001b[38;5;124m\"\u001b[39m))\n",
      "File \u001b[1;32mc:\\Users\\Sorra\\anaconda3\\envs\\gpu\\lib\\site-packages\\keras_tuner\\src\\engine\\tuner.py:122\u001b[0m, in \u001b[0;36mTuner.__init__\u001b[1;34m(self, oracle, hypermodel, max_model_size, optimizer, loss, metrics, distribution_strategy, directory, project_name, logger, tuner_id, overwrite, executions_per_trial, **kwargs)\u001b[0m\n\u001b[0;32m    114\u001b[0m \u001b[38;5;28;01mif\u001b[39;00m hypermodel \u001b[38;5;129;01mis\u001b[39;00m \u001b[38;5;28;01mNone\u001b[39;00m \u001b[38;5;129;01mand\u001b[39;00m \u001b[38;5;28mself\u001b[39m\u001b[38;5;241m.\u001b[39m\u001b[38;5;18m__class__\u001b[39m\u001b[38;5;241m.\u001b[39mrun_trial \u001b[38;5;129;01mis\u001b[39;00m Tuner\u001b[38;5;241m.\u001b[39mrun_trial:\n\u001b[0;32m    115\u001b[0m     \u001b[38;5;28;01mraise\u001b[39;00m \u001b[38;5;167;01mValueError\u001b[39;00m(\n\u001b[0;32m    116\u001b[0m         \u001b[38;5;124m\"\u001b[39m\u001b[38;5;124mReceived `hypermodel=None`. We only allow not specifying \u001b[39m\u001b[38;5;124m\"\u001b[39m\n\u001b[0;32m    117\u001b[0m         \u001b[38;5;124m\"\u001b[39m\u001b[38;5;124m`hypermodel` if the user defines the search space in \u001b[39m\u001b[38;5;124m\"\u001b[39m\n\u001b[0;32m    118\u001b[0m         \u001b[38;5;124m\"\u001b[39m\u001b[38;5;124m`Tuner.run_trial()` by subclassing a `Tuner` class without \u001b[39m\u001b[38;5;124m\"\u001b[39m\n\u001b[0;32m    119\u001b[0m         \u001b[38;5;124m\"\u001b[39m\u001b[38;5;124musing a `HyperModel` instance.\u001b[39m\u001b[38;5;124m\"\u001b[39m\n\u001b[0;32m    120\u001b[0m     )\n\u001b[1;32m--> 122\u001b[0m \u001b[38;5;28msuper\u001b[39m()\u001b[38;5;241m.\u001b[39m\u001b[38;5;21m__init__\u001b[39m(\n\u001b[0;32m    123\u001b[0m     oracle\u001b[38;5;241m=\u001b[39moracle,\n\u001b[0;32m    124\u001b[0m     hypermodel\u001b[38;5;241m=\u001b[39mhypermodel,\n\u001b[0;32m    125\u001b[0m     directory\u001b[38;5;241m=\u001b[39mdirectory,\n\u001b[0;32m    126\u001b[0m     project_name\u001b[38;5;241m=\u001b[39mproject_name,\n\u001b[0;32m    127\u001b[0m     logger\u001b[38;5;241m=\u001b[39mlogger,\n\u001b[0;32m    128\u001b[0m     overwrite\u001b[38;5;241m=\u001b[39moverwrite,\n\u001b[0;32m    129\u001b[0m     \u001b[38;5;241m*\u001b[39m\u001b[38;5;241m*\u001b[39mkwargs,\n\u001b[0;32m    130\u001b[0m )\n\u001b[0;32m    132\u001b[0m \u001b[38;5;28mself\u001b[39m\u001b[38;5;241m.\u001b[39mmax_model_size \u001b[38;5;241m=\u001b[39m max_model_size\n\u001b[0;32m    133\u001b[0m \u001b[38;5;28mself\u001b[39m\u001b[38;5;241m.\u001b[39moptimizer \u001b[38;5;241m=\u001b[39m optimizer\n",
      "File \u001b[1;32mc:\\Users\\Sorra\\anaconda3\\envs\\gpu\\lib\\site-packages\\keras_tuner\\src\\engine\\base_tuner.py:107\u001b[0m, in \u001b[0;36mBaseTuner.__init__\u001b[1;34m(self, oracle, hypermodel, directory, project_name, overwrite, **kwargs)\u001b[0m\n\u001b[0;32m    104\u001b[0m \u001b[38;5;28mself\u001b[39m\u001b[38;5;241m.\u001b[39mlogger \u001b[38;5;241m=\u001b[39m logger\n\u001b[0;32m    106\u001b[0m \u001b[38;5;28;01mif\u001b[39;00m \u001b[38;5;28mlen\u001b[39m(kwargs) \u001b[38;5;241m>\u001b[39m \u001b[38;5;241m0\u001b[39m:\n\u001b[1;32m--> 107\u001b[0m     \u001b[38;5;28;01mraise\u001b[39;00m \u001b[38;5;167;01mValueError\u001b[39;00m(\n\u001b[0;32m    108\u001b[0m         \u001b[38;5;124mf\u001b[39m\u001b[38;5;124m\"\u001b[39m\u001b[38;5;124mUnrecognized arguments \u001b[39m\u001b[38;5;132;01m{\u001b[39;00m\u001b[38;5;28mlist\u001b[39m(kwargs\u001b[38;5;241m.\u001b[39mkeys())\u001b[38;5;132;01m}\u001b[39;00m\u001b[38;5;124m \u001b[39m\u001b[38;5;124m\"\u001b[39m\n\u001b[0;32m    109\u001b[0m         \u001b[38;5;124m\"\u001b[39m\u001b[38;5;124mfor `BaseTuner.__init__()`.\u001b[39m\u001b[38;5;124m\"\u001b[39m\n\u001b[0;32m    110\u001b[0m     )\n\u001b[0;32m    112\u001b[0m \u001b[38;5;28mself\u001b[39m\u001b[38;5;241m.\u001b[39moracle \u001b[38;5;241m=\u001b[39m oracle\n\u001b[0;32m    113\u001b[0m \u001b[38;5;28mself\u001b[39m\u001b[38;5;241m.\u001b[39mhypermodel \u001b[38;5;241m=\u001b[39m hm_module\u001b[38;5;241m.\u001b[39mget_hypermodel(hypermodel)\n",
      "\u001b[1;31mValueError\u001b[0m: Unrecognized arguments ['metadata'] for `BaseTuner.__init__()`."
     ]
    }
   ],
   "source": [
    "import autokeras as ak\n",
    "from sklearn.model_selection import train_test_split\n",
    "from sklearn.preprocessing import LabelEncoder\n",
    "\n",
    "label_encoder = LabelEncoder()\n",
    "y_encoded = label_encoder.fit_transform(y)\n",
    "\n",
    "import joblib\n",
    "joblib.dump(label_encoder, 'label_encoder.pkl')\n",
    "\n",
    "# Разделение данных на обучающий и валидационный наборы\n",
    "X_train, X_val, y_train, y_val = train_test_split(X_train, y_train, test_size=0.1, random_state=42)\n",
    "\n",
    "clf = ak.ImageClassifier(\n",
    "    max_trials=2,\n",
    "    objective='val_accuracy',\n",
    "    directory='pavement_crack',\n",
    "    overwrite=True)\n",
    "\n",
    "# Обучение с использованием валидационного набора\n",
    "clf.fit(X_train, y_train, epochs=2, validation_data=(X_test, y_test))"
   ]
  },
  {
   "cell_type": "code",
   "execution_count": 4,
   "metadata": {},
   "outputs": [
    {
     "ename": "UnicodeDecodeError",
     "evalue": "'utf-8' codec can't decode byte 0xcd in position 91: invalid continuation byte",
     "output_type": "error",
     "traceback": [
      "\u001b[1;31m---------------------------------------------------------------------------\u001b[0m",
      "\u001b[1;31mUnicodeDecodeError\u001b[0m                        Traceback (most recent call last)",
      "Cell \u001b[1;32mIn[4], line 2\u001b[0m\n\u001b[0;32m      1\u001b[0m \u001b[38;5;66;03m# Предсказание на тестовых данных\u001b[39;00m\n\u001b[1;32m----> 2\u001b[0m y_pred \u001b[38;5;241m=\u001b[39m \u001b[43mclf\u001b[49m\u001b[38;5;241;43m.\u001b[39;49m\u001b[43mpredict\u001b[49m\u001b[43m(\u001b[49m\u001b[43mX_test\u001b[49m\u001b[43m)\u001b[49m\n\u001b[0;32m      4\u001b[0m \u001b[38;5;66;03m# Преобразование предсказанных меток в формат numpy\u001b[39;00m\n\u001b[0;32m      5\u001b[0m y_pred \u001b[38;5;241m=\u001b[39m np\u001b[38;5;241m.\u001b[39marray(y_pred)\n",
      "File \u001b[1;32mc:\\Users\\Sorra\\anaconda3\\envs\\gpu\\lib\\site-packages\\autokeras\\auto_model.py:451\u001b[0m, in \u001b[0;36mAutoModel.predict\u001b[1;34m(self, x, batch_size, verbose, **kwargs)\u001b[0m\n\u001b[0;32m    449\u001b[0m \u001b[38;5;28mself\u001b[39m\u001b[38;5;241m.\u001b[39m_check_data_format((x, \u001b[38;5;28;01mNone\u001b[39;00m), predict\u001b[38;5;241m=\u001b[39m\u001b[38;5;28;01mTrue\u001b[39;00m)\n\u001b[0;32m    450\u001b[0m dataset \u001b[38;5;241m=\u001b[39m \u001b[38;5;28mself\u001b[39m\u001b[38;5;241m.\u001b[39m_adapt(x, \u001b[38;5;28mself\u001b[39m\u001b[38;5;241m.\u001b[39minputs, batch_size)\n\u001b[1;32m--> 451\u001b[0m pipeline \u001b[38;5;241m=\u001b[39m \u001b[38;5;28;43mself\u001b[39;49m\u001b[38;5;241;43m.\u001b[39;49m\u001b[43mtuner\u001b[49m\u001b[38;5;241;43m.\u001b[39;49m\u001b[43mget_best_pipeline\u001b[49m\u001b[43m(\u001b[49m\u001b[43m)\u001b[49m\n\u001b[0;32m    452\u001b[0m model \u001b[38;5;241m=\u001b[39m \u001b[38;5;28mself\u001b[39m\u001b[38;5;241m.\u001b[39mtuner\u001b[38;5;241m.\u001b[39mget_best_model()\n\u001b[0;32m    453\u001b[0m dataset \u001b[38;5;241m=\u001b[39m pipeline\u001b[38;5;241m.\u001b[39mtransform_x(dataset)\n",
      "File \u001b[1;32mc:\\Users\\Sorra\\anaconda3\\envs\\gpu\\lib\\site-packages\\autokeras\\engine\\tuner.py:67\u001b[0m, in \u001b[0;36mAutoTuner.get_best_pipeline\u001b[1;34m(self)\u001b[0m\n\u001b[0;32m     66\u001b[0m \u001b[38;5;28;01mdef\u001b[39;00m \u001b[38;5;21mget_best_pipeline\u001b[39m(\u001b[38;5;28mself\u001b[39m):\n\u001b[1;32m---> 67\u001b[0m     \u001b[38;5;28;01mreturn\u001b[39;00m \u001b[43mpipeline_module\u001b[49m\u001b[38;5;241;43m.\u001b[39;49m\u001b[43mload_pipeline\u001b[49m\u001b[43m(\u001b[49m\u001b[38;5;28;43mself\u001b[39;49m\u001b[38;5;241;43m.\u001b[39;49m\u001b[43mbest_pipeline_path\u001b[49m\u001b[43m)\u001b[49m\n",
      "File \u001b[1;32mc:\\Users\\Sorra\\anaconda3\\envs\\gpu\\lib\\site-packages\\autokeras\\pipeline.py:77\u001b[0m, in \u001b[0;36mload_pipeline\u001b[1;34m(filepath, custom_objects)\u001b[0m\n\u001b[0;32m     75\u001b[0m     custom_objects \u001b[38;5;241m=\u001b[39m {}\n\u001b[0;32m     76\u001b[0m \u001b[38;5;28;01mwith\u001b[39;00m keras\u001b[38;5;241m.\u001b[39mutils\u001b[38;5;241m.\u001b[39mcustom_object_scope(custom_objects):\n\u001b[1;32m---> 77\u001b[0m     \u001b[38;5;28;01mreturn\u001b[39;00m Pipeline\u001b[38;5;241m.\u001b[39mfrom_config(\u001b[43mio_utils\u001b[49m\u001b[38;5;241;43m.\u001b[39;49m\u001b[43mload_json\u001b[49m\u001b[43m(\u001b[49m\u001b[43mfilepath\u001b[49m\u001b[43m)\u001b[49m)\n",
      "File \u001b[1;32mc:\\Users\\Sorra\\anaconda3\\envs\\gpu\\lib\\site-packages\\autokeras\\utils\\io_utils.py:36\u001b[0m, in \u001b[0;36mload_json\u001b[1;34m(path)\u001b[0m\n\u001b[0;32m     34\u001b[0m \u001b[38;5;28;01mdef\u001b[39;00m \u001b[38;5;21mload_json\u001b[39m(path):\n\u001b[0;32m     35\u001b[0m     \u001b[38;5;28;01mwith\u001b[39;00m tf\u001b[38;5;241m.\u001b[39mio\u001b[38;5;241m.\u001b[39mgfile\u001b[38;5;241m.\u001b[39mGFile(path, \u001b[38;5;124m\"\u001b[39m\u001b[38;5;124mr\u001b[39m\u001b[38;5;124m\"\u001b[39m) \u001b[38;5;28;01mas\u001b[39;00m f:\n\u001b[1;32m---> 36\u001b[0m         obj \u001b[38;5;241m=\u001b[39m \u001b[43mf\u001b[49m\u001b[38;5;241;43m.\u001b[39;49m\u001b[43mread\u001b[49m\u001b[43m(\u001b[49m\u001b[43m)\u001b[49m\n\u001b[0;32m     37\u001b[0m     \u001b[38;5;28;01mreturn\u001b[39;00m json\u001b[38;5;241m.\u001b[39mloads(obj)\n",
      "File \u001b[1;32mc:\\Users\\Sorra\\anaconda3\\envs\\gpu\\lib\\site-packages\\tensorflow\\python\\lib\\io\\file_io.py:114\u001b[0m, in \u001b[0;36mFileIO.read\u001b[1;34m(self, n)\u001b[0m\n\u001b[0;32m    102\u001b[0m \u001b[38;5;28;01mdef\u001b[39;00m \u001b[38;5;21mread\u001b[39m(\u001b[38;5;28mself\u001b[39m, n\u001b[38;5;241m=\u001b[39m\u001b[38;5;241m-\u001b[39m\u001b[38;5;241m1\u001b[39m):\n\u001b[0;32m    103\u001b[0m \u001b[38;5;250m  \u001b[39m\u001b[38;5;124;03m\"\"\"Returns the contents of a file as a string.\u001b[39;00m\n\u001b[0;32m    104\u001b[0m \n\u001b[0;32m    105\u001b[0m \u001b[38;5;124;03m  Starts reading from current position in file.\u001b[39;00m\n\u001b[1;32m   (...)\u001b[0m\n\u001b[0;32m    112\u001b[0m \u001b[38;5;124;03m    string if in string (regular) mode.\u001b[39;00m\n\u001b[0;32m    113\u001b[0m \u001b[38;5;124;03m  \"\"\"\u001b[39;00m\n\u001b[1;32m--> 114\u001b[0m   \u001b[38;5;28;43mself\u001b[39;49m\u001b[38;5;241;43m.\u001b[39;49m\u001b[43m_preread_check\u001b[49m\u001b[43m(\u001b[49m\u001b[43m)\u001b[49m\n\u001b[0;32m    115\u001b[0m   \u001b[38;5;28;01mif\u001b[39;00m n \u001b[38;5;241m==\u001b[39m \u001b[38;5;241m-\u001b[39m\u001b[38;5;241m1\u001b[39m:\n\u001b[0;32m    116\u001b[0m     length \u001b[38;5;241m=\u001b[39m \u001b[38;5;28mself\u001b[39m\u001b[38;5;241m.\u001b[39msize() \u001b[38;5;241m-\u001b[39m \u001b[38;5;28mself\u001b[39m\u001b[38;5;241m.\u001b[39mtell()\n",
      "File \u001b[1;32mc:\\Users\\Sorra\\anaconda3\\envs\\gpu\\lib\\site-packages\\tensorflow\\python\\lib\\io\\file_io.py:76\u001b[0m, in \u001b[0;36mFileIO._preread_check\u001b[1;34m(self)\u001b[0m\n\u001b[0;32m     73\u001b[0m \u001b[38;5;28;01mif\u001b[39;00m \u001b[38;5;129;01mnot\u001b[39;00m \u001b[38;5;28mself\u001b[39m\u001b[38;5;241m.\u001b[39m_read_check_passed:\n\u001b[0;32m     74\u001b[0m   \u001b[38;5;28;01mraise\u001b[39;00m errors\u001b[38;5;241m.\u001b[39mPermissionDeniedError(\u001b[38;5;28;01mNone\u001b[39;00m, \u001b[38;5;28;01mNone\u001b[39;00m,\n\u001b[0;32m     75\u001b[0m                                      \u001b[38;5;124m\"\u001b[39m\u001b[38;5;124mFile isn\u001b[39m\u001b[38;5;124m'\u001b[39m\u001b[38;5;124mt open for reading\u001b[39m\u001b[38;5;124m\"\u001b[39m)\n\u001b[1;32m---> 76\u001b[0m \u001b[38;5;28mself\u001b[39m\u001b[38;5;241m.\u001b[39m_read_buf \u001b[38;5;241m=\u001b[39m \u001b[43m_pywrap_file_io\u001b[49m\u001b[38;5;241;43m.\u001b[39;49m\u001b[43mBufferedInputStream\u001b[49m\u001b[43m(\u001b[49m\n\u001b[0;32m     77\u001b[0m \u001b[43m    \u001b[49m\u001b[43mcompat\u001b[49m\u001b[38;5;241;43m.\u001b[39;49m\u001b[43mpath_to_str\u001b[49m\u001b[43m(\u001b[49m\u001b[38;5;28;43mself\u001b[39;49m\u001b[38;5;241;43m.\u001b[39;49m\u001b[43m__name\u001b[49m\u001b[43m)\u001b[49m\u001b[43m,\u001b[49m\u001b[43m \u001b[49m\u001b[38;5;241;43m1024\u001b[39;49m\u001b[43m \u001b[49m\u001b[38;5;241;43m*\u001b[39;49m\u001b[43m \u001b[49m\u001b[38;5;241;43m512\u001b[39;49m\u001b[43m)\u001b[49m\n",
      "\u001b[1;31mUnicodeDecodeError\u001b[0m: 'utf-8' codec can't decode byte 0xcd in position 91: invalid continuation byte"
     ]
    }
   ],
   "source": [
    "# Предсказание на тестовых данных\n",
    "y_pred = clf.predict(X_test)\n",
    "\n",
    "# Преобразование предсказанных меток в формат numpy\n",
    "y_pred = np.array(y_pred)\n",
    "\n",
    "# Оценка результатов\n",
    "accuracy = accuracy_score(y_test, y_pred)\n",
    "print(f'Accuracy: {accuracy}')\n",
    "\n",
    "# Вывод отчета по классификации\n",
    "classification_rep = classification_report(y_test, y_pred)\n",
    "print('Classification Report:\\n', classification_rep)"
   ]
  },
  {
   "cell_type": "code",
   "execution_count": 6,
   "metadata": {},
   "outputs": [
    {
     "name": "stdout",
     "output_type": "stream",
     "text": [
      "Model architecture:\n",
      "{\"class_name\": \"Functional\", \"config\": {\"name\": \"model\", \"layers\": [{\"class_name\": \"InputLayer\", \"config\": {\"batch_input_shape\": [null, 256, 256, 3], \"dtype\": \"uint8\", \"sparse\": false, \"ragged\": false, \"name\": \"input_1\"}, \"name\": \"input_1\", \"inbound_nodes\": []}, {\"class_name\": \"Custom>CastToFloat32\", \"config\": {\"name\": \"cast_to_float32\", \"trainable\": true, \"dtype\": \"float32\"}, \"name\": \"cast_to_float32\", \"inbound_nodes\": [[[\"input_1\", 0, 0, {}]]]}, {\"class_name\": \"Normalization\", \"config\": {\"name\": \"normalization\", \"trainable\": true, \"dtype\": \"float32\", \"axis\": [-1], \"mean\": null, \"variance\": null}, \"name\": \"normalization\", \"inbound_nodes\": [[[\"cast_to_float32\", 0, 0, {}]]]}, {\"class_name\": \"RandomTranslation\", \"config\": {\"name\": \"random_translation\", \"trainable\": true, \"dtype\": \"float32\", \"height_factor\": 0.1, \"width_factor\": 0.1, \"fill_mode\": \"reflect\", \"fill_value\": 0.0, \"interpolation\": \"bilinear\", \"seed\": null}, \"name\": \"random_translation\", \"inbound_nodes\": [[[\"normalization\", 0, 0, {}]]]}, {\"class_name\": \"RandomFlip\", \"config\": {\"name\": \"random_flip\", \"trainable\": true, \"dtype\": \"float32\", \"mode\": \"horizontal_and_vertical\"}, \"name\": \"random_flip\", \"inbound_nodes\": [[[\"random_translation\", 0, 0, {}]]]}, {\"class_name\": \"Functional\", \"config\": {\"name\": \"resnet50\", \"layers\": [{\"class_name\": \"InputLayer\", \"config\": {\"batch_input_shape\": [null, 256, 256, 3], \"dtype\": \"float32\", \"sparse\": false, \"ragged\": false, \"name\": \"input_2\"}, \"name\": \"input_2\", \"inbound_nodes\": []}, {\"class_name\": \"ZeroPadding2D\", \"config\": {\"name\": \"conv1_pad\", \"trainable\": true, \"dtype\": \"float32\", \"padding\": [[3, 3], [3, 3]], \"data_format\": \"channels_last\"}, \"name\": \"conv1_pad\", \"inbound_nodes\": [[[\"input_2\", 0, 0, {}]]]}, {\"class_name\": \"Conv2D\", \"config\": {\"name\": \"conv1_conv\", \"trainable\": true, \"dtype\": \"float32\", \"filters\": 64, \"kernel_size\": [7, 7], \"strides\": [2, 2], \"padding\": \"valid\", \"data_format\": \"channels_last\", \"dilation_rate\": [1, 1], \"groups\": 1, \"activation\": \"linear\", \"use_bias\": true, \"kernel_initializer\": {\"class_name\": \"GlorotUniform\", \"config\": {\"seed\": null}}, \"bias_initializer\": {\"class_name\": \"Zeros\", \"config\": {}}, \"kernel_regularizer\": null, \"bias_regularizer\": null, \"activity_regularizer\": null, \"kernel_constraint\": null, \"bias_constraint\": null}, \"name\": \"conv1_conv\", \"inbound_nodes\": [[[\"conv1_pad\", 0, 0, {}]]]}, {\"class_name\": \"BatchNormalization\", \"config\": {\"name\": \"conv1_bn\", \"trainable\": true, \"dtype\": \"float32\", \"axis\": [3], \"momentum\": 0.99, \"epsilon\": 1.001e-05, \"center\": true, \"scale\": true, \"beta_initializer\": {\"class_name\": \"Zeros\", \"config\": {}}, \"gamma_initializer\": {\"class_name\": \"Ones\", \"config\": {}}, \"moving_mean_initializer\": {\"class_name\": \"Zeros\", \"config\": {}}, \"moving_variance_initializer\": {\"class_name\": \"Ones\", \"config\": {}}, \"beta_regularizer\": null, \"gamma_regularizer\": null, \"beta_constraint\": null, \"gamma_constraint\": null}, \"name\": \"conv1_bn\", \"inbound_nodes\": [[[\"conv1_conv\", 0, 0, {}]]]}, {\"class_name\": \"Activation\", \"config\": {\"name\": \"conv1_relu\", \"trainable\": true, \"dtype\": \"float32\", \"activation\": \"relu\"}, \"name\": \"conv1_relu\", \"inbound_nodes\": [[[\"conv1_bn\", 0, 0, {}]]]}, {\"class_name\": \"ZeroPadding2D\", \"config\": {\"name\": \"pool1_pad\", \"trainable\": true, \"dtype\": \"float32\", \"padding\": [[1, 1], [1, 1]], \"data_format\": \"channels_last\"}, \"name\": \"pool1_pad\", \"inbound_nodes\": [[[\"conv1_relu\", 0, 0, {}]]]}, {\"class_name\": \"MaxPooling2D\", \"config\": {\"name\": \"pool1_pool\", \"trainable\": true, \"dtype\": \"float32\", \"pool_size\": [3, 3], \"padding\": \"valid\", \"strides\": [2, 2], \"data_format\": \"channels_last\"}, \"name\": \"pool1_pool\", \"inbound_nodes\": [[[\"pool1_pad\", 0, 0, {}]]]}, {\"class_name\": \"Conv2D\", \"config\": {\"name\": \"conv2_block1_1_conv\", \"trainable\": true, \"dtype\": \"float32\", \"filters\": 64, \"kernel_size\": [1, 1], \"strides\": [1, 1], \"padding\": \"valid\", \"data_format\": \"channels_last\", \"dilation_rate\": [1, 1], \"groups\": 1, \"activation\": \"linear\", \"use_bias\": true, \"kernel_initializer\": {\"class_name\": \"GlorotUniform\", \"config\": {\"seed\": null}}, \"bias_initializer\": {\"class_name\": \"Zeros\", \"config\": {}}, \"kernel_regularizer\": null, \"bias_regularizer\": null, \"activity_regularizer\": null, \"kernel_constraint\": null, \"bias_constraint\": null}, \"name\": \"conv2_block1_1_conv\", \"inbound_nodes\": [[[\"pool1_pool\", 0, 0, {}]]]}, {\"class_name\": \"BatchNormalization\", \"config\": {\"name\": \"conv2_block1_1_bn\", \"trainable\": true, \"dtype\": \"float32\", \"axis\": [3], \"momentum\": 0.99, \"epsilon\": 1.001e-05, \"center\": true, \"scale\": true, \"beta_initializer\": {\"class_name\": \"Zeros\", \"config\": {}}, \"gamma_initializer\": {\"class_name\": \"Ones\", \"config\": {}}, \"moving_mean_initializer\": {\"class_name\": \"Zeros\", \"config\": {}}, \"moving_variance_initializer\": {\"class_name\": \"Ones\", \"config\": {}}, \"beta_regularizer\": null, \"gamma_regularizer\": null, \"beta_constraint\": null, \"gamma_constraint\": null}, \"name\": \"conv2_block1_1_bn\", \"inbound_nodes\": [[[\"conv2_block1_1_conv\", 0, 0, {}]]]}, {\"class_name\": \"Activation\", \"config\": {\"name\": \"conv2_block1_1_relu\", \"trainable\": true, \"dtype\": \"float32\", \"activation\": \"relu\"}, \"name\": \"conv2_block1_1_relu\", \"inbound_nodes\": [[[\"conv2_block1_1_bn\", 0, 0, {}]]]}, {\"class_name\": \"Conv2D\", \"config\": {\"name\": \"conv2_block1_2_conv\", \"trainable\": true, \"dtype\": \"float32\", \"filters\": 64, \"kernel_size\": [3, 3], \"strides\": [1, 1], \"padding\": \"same\", \"data_format\": \"channels_last\", \"dilation_rate\": [1, 1], \"groups\": 1, \"activation\": \"linear\", \"use_bias\": true, \"kernel_initializer\": {\"class_name\": \"GlorotUniform\", \"config\": {\"seed\": null}}, \"bias_initializer\": {\"class_name\": \"Zeros\", \"config\": {}}, \"kernel_regularizer\": null, \"bias_regularizer\": null, \"activity_regularizer\": null, \"kernel_constraint\": null, \"bias_constraint\": null}, \"name\": \"conv2_block1_2_conv\", \"inbound_nodes\": [[[\"conv2_block1_1_relu\", 0, 0, {}]]]}, {\"class_name\": \"BatchNormalization\", \"config\": {\"name\": \"conv2_block1_2_bn\", \"trainable\": true, \"dtype\": \"float32\", \"axis\": [3], \"momentum\": 0.99, \"epsilon\": 1.001e-05, \"center\": true, \"scale\": true, \"beta_initializer\": {\"class_name\": \"Zeros\", \"config\": {}}, \"gamma_initializer\": {\"class_name\": \"Ones\", \"config\": {}}, \"moving_mean_initializer\": {\"class_name\": \"Zeros\", \"config\": {}}, \"moving_variance_initializer\": {\"class_name\": \"Ones\", \"config\": {}}, \"beta_regularizer\": null, \"gamma_regularizer\": null, \"beta_constraint\": null, \"gamma_constraint\": null}, \"name\": \"conv2_block1_2_bn\", \"inbound_nodes\": [[[\"conv2_block1_2_conv\", 0, 0, {}]]]}, {\"class_name\": \"Activation\", \"config\": {\"name\": \"conv2_block1_2_relu\", \"trainable\": true, \"dtype\": \"float32\", \"activation\": \"relu\"}, \"name\": \"conv2_block1_2_relu\", \"inbound_nodes\": [[[\"conv2_block1_2_bn\", 0, 0, {}]]]}, {\"class_name\": \"Conv2D\", \"config\": {\"name\": \"conv2_block1_0_conv\", \"trainable\": true, \"dtype\": \"float32\", \"filters\": 256, \"kernel_size\": [1, 1], \"strides\": [1, 1], \"padding\": \"valid\", \"data_format\": \"channels_last\", \"dilation_rate\": [1, 1], \"groups\": 1, \"activation\": \"linear\", \"use_bias\": true, \"kernel_initializer\": {\"class_name\": \"GlorotUniform\", \"config\": {\"seed\": null}}, \"bias_initializer\": {\"class_name\": \"Zeros\", \"config\": {}}, \"kernel_regularizer\": null, \"bias_regularizer\": null, \"activity_regularizer\": null, \"kernel_constraint\": null, \"bias_constraint\": null}, \"name\": \"conv2_block1_0_conv\", \"inbound_nodes\": [[[\"pool1_pool\", 0, 0, {}]]]}, {\"class_name\": \"Conv2D\", \"config\": {\"name\": \"conv2_block1_3_conv\", \"trainable\": true, \"dtype\": \"float32\", \"filters\": 256, \"kernel_size\": [1, 1], \"strides\": [1, 1], \"padding\": \"valid\", \"data_format\": \"channels_last\", \"dilation_rate\": [1, 1], \"groups\": 1, \"activation\": \"linear\", \"use_bias\": true, \"kernel_initializer\": {\"class_name\": \"GlorotUniform\", \"config\": {\"seed\": null}}, \"bias_initializer\": {\"class_name\": \"Zeros\", \"config\": {}}, \"kernel_regularizer\": null, \"bias_regularizer\": null, \"activity_regularizer\": null, \"kernel_constraint\": null, \"bias_constraint\": null}, \"name\": \"conv2_block1_3_conv\", \"inbound_nodes\": [[[\"conv2_block1_2_relu\", 0, 0, {}]]]}, {\"class_name\": \"BatchNormalization\", \"config\": {\"name\": \"conv2_block1_0_bn\", \"trainable\": true, \"dtype\": \"float32\", \"axis\": [3], \"momentum\": 0.99, \"epsilon\": 1.001e-05, \"center\": true, \"scale\": true, \"beta_initializer\": {\"class_name\": \"Zeros\", \"config\": {}}, \"gamma_initializer\": {\"class_name\": \"Ones\", \"config\": {}}, \"moving_mean_initializer\": {\"class_name\": \"Zeros\", \"config\": {}}, \"moving_variance_initializer\": {\"class_name\": \"Ones\", \"config\": {}}, \"beta_regularizer\": null, \"gamma_regularizer\": null, \"beta_constraint\": null, \"gamma_constraint\": null}, \"name\": \"conv2_block1_0_bn\", \"inbound_nodes\": [[[\"conv2_block1_0_conv\", 0, 0, {}]]]}, {\"class_name\": \"BatchNormalization\", \"config\": {\"name\": \"conv2_block1_3_bn\", \"trainable\": true, \"dtype\": \"float32\", \"axis\": [3], \"momentum\": 0.99, \"epsilon\": 1.001e-05, \"center\": true, \"scale\": true, \"beta_initializer\": {\"class_name\": \"Zeros\", \"config\": {}}, \"gamma_initializer\": {\"class_name\": \"Ones\", \"config\": {}}, \"moving_mean_initializer\": {\"class_name\": \"Zeros\", \"config\": {}}, \"moving_variance_initializer\": {\"class_name\": \"Ones\", \"config\": {}}, \"beta_regularizer\": null, \"gamma_regularizer\": null, \"beta_constraint\": null, \"gamma_constraint\": null}, \"name\": \"conv2_block1_3_bn\", \"inbound_nodes\": [[[\"conv2_block1_3_conv\", 0, 0, {}]]]}, {\"class_name\": \"Add\", \"config\": {\"name\": \"conv2_block1_add\", \"trainable\": true, \"dtype\": \"float32\"}, \"name\": \"conv2_block1_add\", \"inbound_nodes\": [[[\"conv2_block1_0_bn\", 0, 0, {}], [\"conv2_block1_3_bn\", 0, 0, {}]]]}, {\"class_name\": \"Activation\", \"config\": {\"name\": \"conv2_block1_out\", \"trainable\": true, \"dtype\": \"float32\", \"activation\": \"relu\"}, \"name\": \"conv2_block1_out\", \"inbound_nodes\": [[[\"conv2_block1_add\", 0, 0, {}]]]}, {\"class_name\": \"Conv2D\", \"config\": {\"name\": \"conv2_block2_1_conv\", \"trainable\": true, \"dtype\": \"float32\", \"filters\": 64, \"kernel_size\": [1, 1], \"strides\": [1, 1], \"padding\": \"valid\", \"data_format\": \"channels_last\", \"dilation_rate\": [1, 1], \"groups\": 1, \"activation\": \"linear\", \"use_bias\": true, \"kernel_initializer\": {\"class_name\": \"GlorotUniform\", \"config\": {\"seed\": null}}, \"bias_initializer\": {\"class_name\": \"Zeros\", \"config\": {}}, \"kernel_regularizer\": null, \"bias_regularizer\": null, \"activity_regularizer\": null, \"kernel_constraint\": null, \"bias_constraint\": null}, \"name\": \"conv2_block2_1_conv\", \"inbound_nodes\": [[[\"conv2_block1_out\", 0, 0, {}]]]}, {\"class_name\": \"BatchNormalization\", \"config\": {\"name\": \"conv2_block2_1_bn\", \"trainable\": true, \"dtype\": \"float32\", \"axis\": [3], \"momentum\": 0.99, \"epsilon\": 1.001e-05, \"center\": true, \"scale\": true, \"beta_initializer\": {\"class_name\": \"Zeros\", \"config\": {}}, \"gamma_initializer\": {\"class_name\": \"Ones\", \"config\": {}}, \"moving_mean_initializer\": {\"class_name\": \"Zeros\", \"config\": {}}, \"moving_variance_initializer\": {\"class_name\": \"Ones\", \"config\": {}}, \"beta_regularizer\": null, \"gamma_regularizer\": null, \"beta_constraint\": null, \"gamma_constraint\": null}, \"name\": \"conv2_block2_1_bn\", \"inbound_nodes\": [[[\"conv2_block2_1_conv\", 0, 0, {}]]]}, {\"class_name\": \"Activation\", \"config\": {\"name\": \"conv2_block2_1_relu\", \"trainable\": true, \"dtype\": \"float32\", \"activation\": \"relu\"}, \"name\": \"conv2_block2_1_relu\", \"inbound_nodes\": [[[\"conv2_block2_1_bn\", 0, 0, {}]]]}, {\"class_name\": \"Conv2D\", \"config\": {\"name\": \"conv2_block2_2_conv\", \"trainable\": true, \"dtype\": \"float32\", \"filters\": 64, \"kernel_size\": [3, 3], \"strides\": [1, 1], \"padding\": \"same\", \"data_format\": \"channels_last\", \"dilation_rate\": [1, 1], \"groups\": 1, \"activation\": \"linear\", \"use_bias\": true, \"kernel_initializer\": {\"class_name\": \"GlorotUniform\", \"config\": {\"seed\": null}}, \"bias_initializer\": {\"class_name\": \"Zeros\", \"config\": {}}, \"kernel_regularizer\": null, \"bias_regularizer\": null, \"activity_regularizer\": null, \"kernel_constraint\": null, \"bias_constraint\": null}, \"name\": \"conv2_block2_2_conv\", \"inbound_nodes\": [[[\"conv2_block2_1_relu\", 0, 0, {}]]]}, {\"class_name\": \"BatchNormalization\", \"config\": {\"name\": \"conv2_block2_2_bn\", \"trainable\": true, \"dtype\": \"float32\", \"axis\": [3], \"momentum\": 0.99, \"epsilon\": 1.001e-05, \"center\": true, \"scale\": true, \"beta_initializer\": {\"class_name\": \"Zeros\", \"config\": {}}, \"gamma_initializer\": {\"class_name\": \"Ones\", \"config\": {}}, \"moving_mean_initializer\": {\"class_name\": \"Zeros\", \"config\": {}}, \"moving_variance_initializer\": {\"class_name\": \"Ones\", \"config\": {}}, \"beta_regularizer\": null, \"gamma_regularizer\": null, \"beta_constraint\": null, \"gamma_constraint\": null}, \"name\": \"conv2_block2_2_bn\", \"inbound_nodes\": [[[\"conv2_block2_2_conv\", 0, 0, {}]]]}, {\"class_name\": \"Activation\", \"config\": {\"name\": \"conv2_block2_2_relu\", \"trainable\": true, \"dtype\": \"float32\", \"activation\": \"relu\"}, \"name\": \"conv2_block2_2_relu\", \"inbound_nodes\": [[[\"conv2_block2_2_bn\", 0, 0, {}]]]}, {\"class_name\": \"Conv2D\", \"config\": {\"name\": \"conv2_block2_3_conv\", \"trainable\": true, \"dtype\": \"float32\", \"filters\": 256, \"kernel_size\": [1, 1], \"strides\": [1, 1], \"padding\": \"valid\", \"data_format\": \"channels_last\", \"dilation_rate\": [1, 1], \"groups\": 1, \"activation\": \"linear\", \"use_bias\": true, \"kernel_initializer\": {\"class_name\": \"GlorotUniform\", \"config\": {\"seed\": null}}, \"bias_initializer\": {\"class_name\": \"Zeros\", \"config\": {}}, \"kernel_regularizer\": null, \"bias_regularizer\": null, \"activity_regularizer\": null, \"kernel_constraint\": null, \"bias_constraint\": null}, \"name\": \"conv2_block2_3_conv\", \"inbound_nodes\": [[[\"conv2_block2_2_relu\", 0, 0, {}]]]}, {\"class_name\": \"BatchNormalization\", \"config\": {\"name\": \"conv2_block2_3_bn\", \"trainable\": true, \"dtype\": \"float32\", \"axis\": [3], \"momentum\": 0.99, \"epsilon\": 1.001e-05, \"center\": true, \"scale\": true, \"beta_initializer\": {\"class_name\": \"Zeros\", \"config\": {}}, \"gamma_initializer\": {\"class_name\": \"Ones\", \"config\": {}}, \"moving_mean_initializer\": {\"class_name\": \"Zeros\", \"config\": {}}, \"moving_variance_initializer\": {\"class_name\": \"Ones\", \"config\": {}}, \"beta_regularizer\": null, \"gamma_regularizer\": null, \"beta_constraint\": null, \"gamma_constraint\": null}, \"name\": \"conv2_block2_3_bn\", \"inbound_nodes\": [[[\"conv2_block2_3_conv\", 0, 0, {}]]]}, {\"class_name\": \"Add\", \"config\": {\"name\": \"conv2_block2_add\", \"trainable\": true, \"dtype\": \"float32\"}, \"name\": \"conv2_block2_add\", \"inbound_nodes\": [[[\"conv2_block1_out\", 0, 0, {}], [\"conv2_block2_3_bn\", 0, 0, {}]]]}, {\"class_name\": \"Activation\", \"config\": {\"name\": \"conv2_block2_out\", \"trainable\": true, \"dtype\": \"float32\", \"activation\": \"relu\"}, \"name\": \"conv2_block2_out\", \"inbound_nodes\": [[[\"conv2_block2_add\", 0, 0, {}]]]}, {\"class_name\": \"Conv2D\", \"config\": {\"name\": \"conv2_block3_1_conv\", \"trainable\": true, \"dtype\": \"float32\", \"filters\": 64, \"kernel_size\": [1, 1], \"strides\": [1, 1], \"padding\": \"valid\", \"data_format\": \"channels_last\", \"dilation_rate\": [1, 1], \"groups\": 1, \"activation\": \"linear\", \"use_bias\": true, \"kernel_initializer\": {\"class_name\": \"GlorotUniform\", \"config\": {\"seed\": null}}, \"bias_initializer\": {\"class_name\": \"Zeros\", \"config\": {}}, \"kernel_regularizer\": null, \"bias_regularizer\": null, \"activity_regularizer\": null, \"kernel_constraint\": null, \"bias_constraint\": null}, \"name\": \"conv2_block3_1_conv\", \"inbound_nodes\": [[[\"conv2_block2_out\", 0, 0, {}]]]}, {\"class_name\": \"BatchNormalization\", \"config\": {\"name\": \"conv2_block3_1_bn\", \"trainable\": true, \"dtype\": \"float32\", \"axis\": [3], \"momentum\": 0.99, \"epsilon\": 1.001e-05, \"center\": true, \"scale\": true, \"beta_initializer\": {\"class_name\": \"Zeros\", \"config\": {}}, \"gamma_initializer\": {\"class_name\": \"Ones\", \"config\": {}}, \"moving_mean_initializer\": {\"class_name\": \"Zeros\", \"config\": {}}, \"moving_variance_initializer\": {\"class_name\": \"Ones\", \"config\": {}}, \"beta_regularizer\": null, \"gamma_regularizer\": null, \"beta_constraint\": null, \"gamma_constraint\": null}, \"name\": \"conv2_block3_1_bn\", \"inbound_nodes\": [[[\"conv2_block3_1_conv\", 0, 0, {}]]]}, {\"class_name\": \"Activation\", \"config\": {\"name\": \"conv2_block3_1_relu\", \"trainable\": true, \"dtype\": \"float32\", \"activation\": \"relu\"}, \"name\": \"conv2_block3_1_relu\", \"inbound_nodes\": [[[\"conv2_block3_1_bn\", 0, 0, {}]]]}, {\"class_name\": \"Conv2D\", \"config\": {\"name\": \"conv2_block3_2_conv\", \"trainable\": true, \"dtype\": \"float32\", \"filters\": 64, \"kernel_size\": [3, 3], \"strides\": [1, 1], \"padding\": \"same\", \"data_format\": \"channels_last\", \"dilation_rate\": [1, 1], \"groups\": 1, \"activation\": \"linear\", \"use_bias\": true, \"kernel_initializer\": {\"class_name\": \"GlorotUniform\", \"config\": {\"seed\": null}}, \"bias_initializer\": {\"class_name\": \"Zeros\", \"config\": {}}, \"kernel_regularizer\": null, \"bias_regularizer\": null, \"activity_regularizer\": null, \"kernel_constraint\": null, \"bias_constraint\": null}, \"name\": \"conv2_block3_2_conv\", \"inbound_nodes\": [[[\"conv2_block3_1_relu\", 0, 0, {}]]]}, {\"class_name\": \"BatchNormalization\", \"config\": {\"name\": \"conv2_block3_2_bn\", \"trainable\": true, \"dtype\": \"float32\", \"axis\": [3], \"momentum\": 0.99, \"epsilon\": 1.001e-05, \"center\": true, \"scale\": true, \"beta_initializer\": {\"class_name\": \"Zeros\", \"config\": {}}, \"gamma_initializer\": {\"class_name\": \"Ones\", \"config\": {}}, \"moving_mean_initializer\": {\"class_name\": \"Zeros\", \"config\": {}}, \"moving_variance_initializer\": {\"class_name\": \"Ones\", \"config\": {}}, \"beta_regularizer\": null, \"gamma_regularizer\": null, \"beta_constraint\": null, \"gamma_constraint\": null}, \"name\": \"conv2_block3_2_bn\", \"inbound_nodes\": [[[\"conv2_block3_2_conv\", 0, 0, {}]]]}, {\"class_name\": \"Activation\", \"config\": {\"name\": \"conv2_block3_2_relu\", \"trainable\": true, \"dtype\": \"float32\", \"activation\": \"relu\"}, \"name\": \"conv2_block3_2_relu\", \"inbound_nodes\": [[[\"conv2_block3_2_bn\", 0, 0, {}]]]}, {\"class_name\": \"Conv2D\", \"config\": {\"name\": \"conv2_block3_3_conv\", \"trainable\": true, \"dtype\": \"float32\", \"filters\": 256, \"kernel_size\": [1, 1], \"strides\": [1, 1], \"padding\": \"valid\", \"data_format\": \"channels_last\", \"dilation_rate\": [1, 1], \"groups\": 1, \"activation\": \"linear\", \"use_bias\": true, \"kernel_initializer\": {\"class_name\": \"GlorotUniform\", \"config\": {\"seed\": null}}, \"bias_initializer\": {\"class_name\": \"Zeros\", \"config\": {}}, \"kernel_regularizer\": null, \"bias_regularizer\": null, \"activity_regularizer\": null, \"kernel_constraint\": null, \"bias_constraint\": null}, \"name\": \"conv2_block3_3_conv\", \"inbound_nodes\": [[[\"conv2_block3_2_relu\", 0, 0, {}]]]}, {\"class_name\": \"BatchNormalization\", \"config\": {\"name\": \"conv2_block3_3_bn\", \"trainable\": true, \"dtype\": \"float32\", \"axis\": [3], \"momentum\": 0.99, \"epsilon\": 1.001e-05, \"center\": true, \"scale\": true, \"beta_initializer\": {\"class_name\": \"Zeros\", \"config\": {}}, \"gamma_initializer\": {\"class_name\": \"Ones\", \"config\": {}}, \"moving_mean_initializer\": {\"class_name\": \"Zeros\", \"config\": {}}, \"moving_variance_initializer\": {\"class_name\": \"Ones\", \"config\": {}}, \"beta_regularizer\": null, \"gamma_regularizer\": null, \"beta_constraint\": null, \"gamma_constraint\": null}, \"name\": \"conv2_block3_3_bn\", \"inbound_nodes\": [[[\"conv2_block3_3_conv\", 0, 0, {}]]]}, {\"class_name\": \"Add\", \"config\": {\"name\": \"conv2_block3_add\", \"trainable\": true, \"dtype\": \"float32\"}, \"name\": \"conv2_block3_add\", \"inbound_nodes\": [[[\"conv2_block2_out\", 0, 0, {}], [\"conv2_block3_3_bn\", 0, 0, {}]]]}, {\"class_name\": \"Activation\", \"config\": {\"name\": \"conv2_block3_out\", \"trainable\": true, \"dtype\": \"float32\", \"activation\": \"relu\"}, \"name\": \"conv2_block3_out\", \"inbound_nodes\": [[[\"conv2_block3_add\", 0, 0, {}]]]}, {\"class_name\": \"Conv2D\", \"config\": {\"name\": \"conv3_block1_1_conv\", \"trainable\": true, \"dtype\": \"float32\", \"filters\": 128, \"kernel_size\": [1, 1], \"strides\": [2, 2], \"padding\": \"valid\", \"data_format\": \"channels_last\", \"dilation_rate\": [1, 1], \"groups\": 1, \"activation\": \"linear\", \"use_bias\": true, \"kernel_initializer\": {\"class_name\": \"GlorotUniform\", \"config\": {\"seed\": null}}, \"bias_initializer\": {\"class_name\": \"Zeros\", \"config\": {}}, \"kernel_regularizer\": null, \"bias_regularizer\": null, \"activity_regularizer\": null, \"kernel_constraint\": null, \"bias_constraint\": null}, \"name\": \"conv3_block1_1_conv\", \"inbound_nodes\": [[[\"conv2_block3_out\", 0, 0, {}]]]}, {\"class_name\": \"BatchNormalization\", \"config\": {\"name\": \"conv3_block1_1_bn\", \"trainable\": true, \"dtype\": \"float32\", \"axis\": [3], \"momentum\": 0.99, \"epsilon\": 1.001e-05, \"center\": true, \"scale\": true, \"beta_initializer\": {\"class_name\": \"Zeros\", \"config\": {}}, \"gamma_initializer\": {\"class_name\": \"Ones\", \"config\": {}}, \"moving_mean_initializer\": {\"class_name\": \"Zeros\", \"config\": {}}, \"moving_variance_initializer\": {\"class_name\": \"Ones\", \"config\": {}}, \"beta_regularizer\": null, \"gamma_regularizer\": null, \"beta_constraint\": null, \"gamma_constraint\": null}, \"name\": \"conv3_block1_1_bn\", \"inbound_nodes\": [[[\"conv3_block1_1_conv\", 0, 0, {}]]]}, {\"class_name\": \"Activation\", \"config\": {\"name\": \"conv3_block1_1_relu\", \"trainable\": true, \"dtype\": \"float32\", \"activation\": \"relu\"}, \"name\": \"conv3_block1_1_relu\", \"inbound_nodes\": [[[\"conv3_block1_1_bn\", 0, 0, {}]]]}, {\"class_name\": \"Conv2D\", \"config\": {\"name\": \"conv3_block1_2_conv\", \"trainable\": true, \"dtype\": \"float32\", \"filters\": 128, \"kernel_size\": [3, 3], \"strides\": [1, 1], \"padding\": \"same\", \"data_format\": \"channels_last\", \"dilation_rate\": [1, 1], \"groups\": 1, \"activation\": \"linear\", \"use_bias\": true, \"kernel_initializer\": {\"class_name\": \"GlorotUniform\", \"config\": {\"seed\": null}}, \"bias_initializer\": {\"class_name\": \"Zeros\", \"config\": {}}, \"kernel_regularizer\": null, \"bias_regularizer\": null, \"activity_regularizer\": null, \"kernel_constraint\": null, \"bias_constraint\": null}, \"name\": \"conv3_block1_2_conv\", \"inbound_nodes\": [[[\"conv3_block1_1_relu\", 0, 0, {}]]]}, {\"class_name\": \"BatchNormalization\", \"config\": {\"name\": \"conv3_block1_2_bn\", \"trainable\": true, \"dtype\": \"float32\", \"axis\": [3], \"momentum\": 0.99, \"epsilon\": 1.001e-05, \"center\": true, \"scale\": true, \"beta_initializer\": {\"class_name\": \"Zeros\", \"config\": {}}, \"gamma_initializer\": {\"class_name\": \"Ones\", \"config\": {}}, \"moving_mean_initializer\": {\"class_name\": \"Zeros\", \"config\": {}}, \"moving_variance_initializer\": {\"class_name\": \"Ones\", \"config\": {}}, \"beta_regularizer\": null, \"gamma_regularizer\": null, \"beta_constraint\": null, \"gamma_constraint\": null}, \"name\": \"conv3_block1_2_bn\", \"inbound_nodes\": [[[\"conv3_block1_2_conv\", 0, 0, {}]]]}, {\"class_name\": \"Activation\", \"config\": {\"name\": \"conv3_block1_2_relu\", \"trainable\": true, \"dtype\": \"float32\", \"activation\": \"relu\"}, \"name\": \"conv3_block1_2_relu\", \"inbound_nodes\": [[[\"conv3_block1_2_bn\", 0, 0, {}]]]}, {\"class_name\": \"Conv2D\", \"config\": {\"name\": \"conv3_block1_0_conv\", \"trainable\": true, \"dtype\": \"float32\", \"filters\": 512, \"kernel_size\": [1, 1], \"strides\": [2, 2], \"padding\": \"valid\", \"data_format\": \"channels_last\", \"dilation_rate\": [1, 1], \"groups\": 1, \"activation\": \"linear\", \"use_bias\": true, \"kernel_initializer\": {\"class_name\": \"GlorotUniform\", \"config\": {\"seed\": null}}, \"bias_initializer\": {\"class_name\": \"Zeros\", \"config\": {}}, \"kernel_regularizer\": null, \"bias_regularizer\": null, \"activity_regularizer\": null, \"kernel_constraint\": null, \"bias_constraint\": null}, \"name\": \"conv3_block1_0_conv\", \"inbound_nodes\": [[[\"conv2_block3_out\", 0, 0, {}]]]}, {\"class_name\": \"Conv2D\", \"config\": {\"name\": \"conv3_block1_3_conv\", \"trainable\": true, \"dtype\": \"float32\", \"filters\": 512, \"kernel_size\": [1, 1], \"strides\": [1, 1], \"padding\": \"valid\", \"data_format\": \"channels_last\", \"dilation_rate\": [1, 1], \"groups\": 1, \"activation\": \"linear\", \"use_bias\": true, \"kernel_initializer\": {\"class_name\": \"GlorotUniform\", \"config\": {\"seed\": null}}, \"bias_initializer\": {\"class_name\": \"Zeros\", \"config\": {}}, \"kernel_regularizer\": null, \"bias_regularizer\": null, \"activity_regularizer\": null, \"kernel_constraint\": null, \"bias_constraint\": null}, \"name\": \"conv3_block1_3_conv\", \"inbound_nodes\": [[[\"conv3_block1_2_relu\", 0, 0, {}]]]}, {\"class_name\": \"BatchNormalization\", \"config\": {\"name\": \"conv3_block1_0_bn\", \"trainable\": true, \"dtype\": \"float32\", \"axis\": [3], \"momentum\": 0.99, \"epsilon\": 1.001e-05, \"center\": true, \"scale\": true, \"beta_initializer\": {\"class_name\": \"Zeros\", \"config\": {}}, \"gamma_initializer\": {\"class_name\": \"Ones\", \"config\": {}}, \"moving_mean_initializer\": {\"class_name\": \"Zeros\", \"config\": {}}, \"moving_variance_initializer\": {\"class_name\": \"Ones\", \"config\": {}}, \"beta_regularizer\": null, \"gamma_regularizer\": null, \"beta_constraint\": null, \"gamma_constraint\": null}, \"name\": \"conv3_block1_0_bn\", \"inbound_nodes\": [[[\"conv3_block1_0_conv\", 0, 0, {}]]]}, {\"class_name\": \"BatchNormalization\", \"config\": {\"name\": \"conv3_block1_3_bn\", \"trainable\": true, \"dtype\": \"float32\", \"axis\": [3], \"momentum\": 0.99, \"epsilon\": 1.001e-05, \"center\": true, \"scale\": true, \"beta_initializer\": {\"class_name\": \"Zeros\", \"config\": {}}, \"gamma_initializer\": {\"class_name\": \"Ones\", \"config\": {}}, \"moving_mean_initializer\": {\"class_name\": \"Zeros\", \"config\": {}}, \"moving_variance_initializer\": {\"class_name\": \"Ones\", \"config\": {}}, \"beta_regularizer\": null, \"gamma_regularizer\": null, \"beta_constraint\": null, \"gamma_constraint\": null}, \"name\": \"conv3_block1_3_bn\", \"inbound_nodes\": [[[\"conv3_block1_3_conv\", 0, 0, {}]]]}, {\"class_name\": \"Add\", \"config\": {\"name\": \"conv3_block1_add\", \"trainable\": true, \"dtype\": \"float32\"}, \"name\": \"conv3_block1_add\", \"inbound_nodes\": [[[\"conv3_block1_0_bn\", 0, 0, {}], [\"conv3_block1_3_bn\", 0, 0, {}]]]}, {\"class_name\": \"Activation\", \"config\": {\"name\": \"conv3_block1_out\", \"trainable\": true, \"dtype\": \"float32\", \"activation\": \"relu\"}, \"name\": \"conv3_block1_out\", \"inbound_nodes\": [[[\"conv3_block1_add\", 0, 0, {}]]]}, {\"class_name\": \"Conv2D\", \"config\": {\"name\": \"conv3_block2_1_conv\", \"trainable\": true, \"dtype\": \"float32\", \"filters\": 128, \"kernel_size\": [1, 1], \"strides\": [1, 1], \"padding\": \"valid\", \"data_format\": \"channels_last\", \"dilation_rate\": [1, 1], \"groups\": 1, \"activation\": \"linear\", \"use_bias\": true, \"kernel_initializer\": {\"class_name\": \"GlorotUniform\", \"config\": {\"seed\": null}}, \"bias_initializer\": {\"class_name\": \"Zeros\", \"config\": {}}, \"kernel_regularizer\": null, \"bias_regularizer\": null, \"activity_regularizer\": null, \"kernel_constraint\": null, \"bias_constraint\": null}, \"name\": \"conv3_block2_1_conv\", \"inbound_nodes\": [[[\"conv3_block1_out\", 0, 0, {}]]]}, {\"class_name\": \"BatchNormalization\", \"config\": {\"name\": \"conv3_block2_1_bn\", \"trainable\": true, \"dtype\": \"float32\", \"axis\": [3], \"momentum\": 0.99, \"epsilon\": 1.001e-05, \"center\": true, \"scale\": true, \"beta_initializer\": {\"class_name\": \"Zeros\", \"config\": {}}, \"gamma_initializer\": {\"class_name\": \"Ones\", \"config\": {}}, \"moving_mean_initializer\": {\"class_name\": \"Zeros\", \"config\": {}}, \"moving_variance_initializer\": {\"class_name\": \"Ones\", \"config\": {}}, \"beta_regularizer\": null, \"gamma_regularizer\": null, \"beta_constraint\": null, \"gamma_constraint\": null}, \"name\": \"conv3_block2_1_bn\", \"inbound_nodes\": [[[\"conv3_block2_1_conv\", 0, 0, {}]]]}, {\"class_name\": \"Activation\", \"config\": {\"name\": \"conv3_block2_1_relu\", \"trainable\": true, \"dtype\": \"float32\", \"activation\": \"relu\"}, \"name\": \"conv3_block2_1_relu\", \"inbound_nodes\": [[[\"conv3_block2_1_bn\", 0, 0, {}]]]}, {\"class_name\": \"Conv2D\", \"config\": {\"name\": \"conv3_block2_2_conv\", \"trainable\": true, \"dtype\": \"float32\", \"filters\": 128, \"kernel_size\": [3, 3], \"strides\": [1, 1], \"padding\": \"same\", \"data_format\": \"channels_last\", \"dilation_rate\": [1, 1], \"groups\": 1, \"activation\": \"linear\", \"use_bias\": true, \"kernel_initializer\": {\"class_name\": \"GlorotUniform\", \"config\": {\"seed\": null}}, \"bias_initializer\": {\"class_name\": \"Zeros\", \"config\": {}}, \"kernel_regularizer\": null, \"bias_regularizer\": null, \"activity_regularizer\": null, \"kernel_constraint\": null, \"bias_constraint\": null}, \"name\": \"conv3_block2_2_conv\", \"inbound_nodes\": [[[\"conv3_block2_1_relu\", 0, 0, {}]]]}, {\"class_name\": \"BatchNormalization\", \"config\": {\"name\": \"conv3_block2_2_bn\", \"trainable\": true, \"dtype\": \"float32\", \"axis\": [3], \"momentum\": 0.99, \"epsilon\": 1.001e-05, \"center\": true, \"scale\": true, \"beta_initializer\": {\"class_name\": \"Zeros\", \"config\": {}}, \"gamma_initializer\": {\"class_name\": \"Ones\", \"config\": {}}, \"moving_mean_initializer\": {\"class_name\": \"Zeros\", \"config\": {}}, \"moving_variance_initializer\": {\"class_name\": \"Ones\", \"config\": {}}, \"beta_regularizer\": null, \"gamma_regularizer\": null, \"beta_constraint\": null, \"gamma_constraint\": null}, \"name\": \"conv3_block2_2_bn\", \"inbound_nodes\": [[[\"conv3_block2_2_conv\", 0, 0, {}]]]}, {\"class_name\": \"Activation\", \"config\": {\"name\": \"conv3_block2_2_relu\", \"trainable\": true, \"dtype\": \"float32\", \"activation\": \"relu\"}, \"name\": \"conv3_block2_2_relu\", \"inbound_nodes\": [[[\"conv3_block2_2_bn\", 0, 0, {}]]]}, {\"class_name\": \"Conv2D\", \"config\": {\"name\": \"conv3_block2_3_conv\", \"trainable\": true, \"dtype\": \"float32\", \"filters\": 512, \"kernel_size\": [1, 1], \"strides\": [1, 1], \"padding\": \"valid\", \"data_format\": \"channels_last\", \"dilation_rate\": [1, 1], \"groups\": 1, \"activation\": \"linear\", \"use_bias\": true, \"kernel_initializer\": {\"class_name\": \"GlorotUniform\", \"config\": {\"seed\": null}}, \"bias_initializer\": {\"class_name\": \"Zeros\", \"config\": {}}, \"kernel_regularizer\": null, \"bias_regularizer\": null, \"activity_regularizer\": null, \"kernel_constraint\": null, \"bias_constraint\": null}, \"name\": \"conv3_block2_3_conv\", \"inbound_nodes\": [[[\"conv3_block2_2_relu\", 0, 0, {}]]]}, {\"class_name\": \"BatchNormalization\", \"config\": {\"name\": \"conv3_block2_3_bn\", \"trainable\": true, \"dtype\": \"float32\", \"axis\": [3], \"momentum\": 0.99, \"epsilon\": 1.001e-05, \"center\": true, \"scale\": true, \"beta_initializer\": {\"class_name\": \"Zeros\", \"config\": {}}, \"gamma_initializer\": {\"class_name\": \"Ones\", \"config\": {}}, \"moving_mean_initializer\": {\"class_name\": \"Zeros\", \"config\": {}}, \"moving_variance_initializer\": {\"class_name\": \"Ones\", \"config\": {}}, \"beta_regularizer\": null, \"gamma_regularizer\": null, \"beta_constraint\": null, \"gamma_constraint\": null}, \"name\": \"conv3_block2_3_bn\", \"inbound_nodes\": [[[\"conv3_block2_3_conv\", 0, 0, {}]]]}, {\"class_name\": \"Add\", \"config\": {\"name\": \"conv3_block2_add\", \"trainable\": true, \"dtype\": \"float32\"}, \"name\": \"conv3_block2_add\", \"inbound_nodes\": [[[\"conv3_block1_out\", 0, 0, {}], [\"conv3_block2_3_bn\", 0, 0, {}]]]}, {\"class_name\": \"Activation\", \"config\": {\"name\": \"conv3_block2_out\", \"trainable\": true, \"dtype\": \"float32\", \"activation\": \"relu\"}, \"name\": \"conv3_block2_out\", \"inbound_nodes\": [[[\"conv3_block2_add\", 0, 0, {}]]]}, {\"class_name\": \"Conv2D\", \"config\": {\"name\": \"conv3_block3_1_conv\", \"trainable\": true, \"dtype\": \"float32\", \"filters\": 128, \"kernel_size\": [1, 1], \"strides\": [1, 1], \"padding\": \"valid\", \"data_format\": \"channels_last\", \"dilation_rate\": [1, 1], \"groups\": 1, \"activation\": \"linear\", \"use_bias\": true, \"kernel_initializer\": {\"class_name\": \"GlorotUniform\", \"config\": {\"seed\": null}}, \"bias_initializer\": {\"class_name\": \"Zeros\", \"config\": {}}, \"kernel_regularizer\": null, \"bias_regularizer\": null, \"activity_regularizer\": null, \"kernel_constraint\": null, \"bias_constraint\": null}, \"name\": \"conv3_block3_1_conv\", \"inbound_nodes\": [[[\"conv3_block2_out\", 0, 0, {}]]]}, {\"class_name\": \"BatchNormalization\", \"config\": {\"name\": \"conv3_block3_1_bn\", \"trainable\": true, \"dtype\": \"float32\", \"axis\": [3], \"momentum\": 0.99, \"epsilon\": 1.001e-05, \"center\": true, \"scale\": true, \"beta_initializer\": {\"class_name\": \"Zeros\", \"config\": {}}, \"gamma_initializer\": {\"class_name\": \"Ones\", \"config\": {}}, \"moving_mean_initializer\": {\"class_name\": \"Zeros\", \"config\": {}}, \"moving_variance_initializer\": {\"class_name\": \"Ones\", \"config\": {}}, \"beta_regularizer\": null, \"gamma_regularizer\": null, \"beta_constraint\": null, \"gamma_constraint\": null}, \"name\": \"conv3_block3_1_bn\", \"inbound_nodes\": [[[\"conv3_block3_1_conv\", 0, 0, {}]]]}, {\"class_name\": \"Activation\", \"config\": {\"name\": \"conv3_block3_1_relu\", \"trainable\": true, \"dtype\": \"float32\", \"activation\": \"relu\"}, \"name\": \"conv3_block3_1_relu\", \"inbound_nodes\": [[[\"conv3_block3_1_bn\", 0, 0, {}]]]}, {\"class_name\": \"Conv2D\", \"config\": {\"name\": \"conv3_block3_2_conv\", \"trainable\": true, \"dtype\": \"float32\", \"filters\": 128, \"kernel_size\": [3, 3], \"strides\": [1, 1], \"padding\": \"same\", \"data_format\": \"channels_last\", \"dilation_rate\": [1, 1], \"groups\": 1, \"activation\": \"linear\", \"use_bias\": true, \"kernel_initializer\": {\"class_name\": \"GlorotUniform\", \"config\": {\"seed\": null}}, \"bias_initializer\": {\"class_name\": \"Zeros\", \"config\": {}}, \"kernel_regularizer\": null, \"bias_regularizer\": null, \"activity_regularizer\": null, \"kernel_constraint\": null, \"bias_constraint\": null}, \"name\": \"conv3_block3_2_conv\", \"inbound_nodes\": [[[\"conv3_block3_1_relu\", 0, 0, {}]]]}, {\"class_name\": \"BatchNormalization\", \"config\": {\"name\": \"conv3_block3_2_bn\", \"trainable\": true, \"dtype\": \"float32\", \"axis\": [3], \"momentum\": 0.99, \"epsilon\": 1.001e-05, \"center\": true, \"scale\": true, \"beta_initializer\": {\"class_name\": \"Zeros\", \"config\": {}}, \"gamma_initializer\": {\"class_name\": \"Ones\", \"config\": {}}, \"moving_mean_initializer\": {\"class_name\": \"Zeros\", \"config\": {}}, \"moving_variance_initializer\": {\"class_name\": \"Ones\", \"config\": {}}, \"beta_regularizer\": null, \"gamma_regularizer\": null, \"beta_constraint\": null, \"gamma_constraint\": null}, \"name\": \"conv3_block3_2_bn\", \"inbound_nodes\": [[[\"conv3_block3_2_conv\", 0, 0, {}]]]}, {\"class_name\": \"Activation\", \"config\": {\"name\": \"conv3_block3_2_relu\", \"trainable\": true, \"dtype\": \"float32\", \"activation\": \"relu\"}, \"name\": \"conv3_block3_2_relu\", \"inbound_nodes\": [[[\"conv3_block3_2_bn\", 0, 0, {}]]]}, {\"class_name\": \"Conv2D\", \"config\": {\"name\": \"conv3_block3_3_conv\", \"trainable\": true, \"dtype\": \"float32\", \"filters\": 512, \"kernel_size\": [1, 1], \"strides\": [1, 1], \"padding\": \"valid\", \"data_format\": \"channels_last\", \"dilation_rate\": [1, 1], \"groups\": 1, \"activation\": \"linear\", \"use_bias\": true, \"kernel_initializer\": {\"class_name\": \"GlorotUniform\", \"config\": {\"seed\": null}}, \"bias_initializer\": {\"class_name\": \"Zeros\", \"config\": {}}, \"kernel_regularizer\": null, \"bias_regularizer\": null, \"activity_regularizer\": null, \"kernel_constraint\": null, \"bias_constraint\": null}, \"name\": \"conv3_block3_3_conv\", \"inbound_nodes\": [[[\"conv3_block3_2_relu\", 0, 0, {}]]]}, {\"class_name\": \"BatchNormalization\", \"config\": {\"name\": \"conv3_block3_3_bn\", \"trainable\": true, \"dtype\": \"float32\", \"axis\": [3], \"momentum\": 0.99, \"epsilon\": 1.001e-05, \"center\": true, \"scale\": true, \"beta_initializer\": {\"class_name\": \"Zeros\", \"config\": {}}, \"gamma_initializer\": {\"class_name\": \"Ones\", \"config\": {}}, \"moving_mean_initializer\": {\"class_name\": \"Zeros\", \"config\": {}}, \"moving_variance_initializer\": {\"class_name\": \"Ones\", \"config\": {}}, \"beta_regularizer\": null, \"gamma_regularizer\": null, \"beta_constraint\": null, \"gamma_constraint\": null}, \"name\": \"conv3_block3_3_bn\", \"inbound_nodes\": [[[\"conv3_block3_3_conv\", 0, 0, {}]]]}, {\"class_name\": \"Add\", \"config\": {\"name\": \"conv3_block3_add\", \"trainable\": true, \"dtype\": \"float32\"}, \"name\": \"conv3_block3_add\", \"inbound_nodes\": [[[\"conv3_block2_out\", 0, 0, {}], [\"conv3_block3_3_bn\", 0, 0, {}]]]}, {\"class_name\": \"Activation\", \"config\": {\"name\": \"conv3_block3_out\", \"trainable\": true, \"dtype\": \"float32\", \"activation\": \"relu\"}, \"name\": \"conv3_block3_out\", \"inbound_nodes\": [[[\"conv3_block3_add\", 0, 0, {}]]]}, {\"class_name\": \"Conv2D\", \"config\": {\"name\": \"conv3_block4_1_conv\", \"trainable\": true, \"dtype\": \"float32\", \"filters\": 128, \"kernel_size\": [1, 1], \"strides\": [1, 1], \"padding\": \"valid\", \"data_format\": \"channels_last\", \"dilation_rate\": [1, 1], \"groups\": 1, \"activation\": \"linear\", \"use_bias\": true, \"kernel_initializer\": {\"class_name\": \"GlorotUniform\", \"config\": {\"seed\": null}}, \"bias_initializer\": {\"class_name\": \"Zeros\", \"config\": {}}, \"kernel_regularizer\": null, \"bias_regularizer\": null, \"activity_regularizer\": null, \"kernel_constraint\": null, \"bias_constraint\": null}, \"name\": \"conv3_block4_1_conv\", \"inbound_nodes\": [[[\"conv3_block3_out\", 0, 0, {}]]]}, {\"class_name\": \"BatchNormalization\", \"config\": {\"name\": \"conv3_block4_1_bn\", \"trainable\": true, \"dtype\": \"float32\", \"axis\": [3], \"momentum\": 0.99, \"epsilon\": 1.001e-05, \"center\": true, \"scale\": true, \"beta_initializer\": {\"class_name\": \"Zeros\", \"config\": {}}, \"gamma_initializer\": {\"class_name\": \"Ones\", \"config\": {}}, \"moving_mean_initializer\": {\"class_name\": \"Zeros\", \"config\": {}}, \"moving_variance_initializer\": {\"class_name\": \"Ones\", \"config\": {}}, \"beta_regularizer\": null, \"gamma_regularizer\": null, \"beta_constraint\": null, \"gamma_constraint\": null}, \"name\": \"conv3_block4_1_bn\", \"inbound_nodes\": [[[\"conv3_block4_1_conv\", 0, 0, {}]]]}, {\"class_name\": \"Activation\", \"config\": {\"name\": \"conv3_block4_1_relu\", \"trainable\": true, \"dtype\": \"float32\", \"activation\": \"relu\"}, \"name\": \"conv3_block4_1_relu\", \"inbound_nodes\": [[[\"conv3_block4_1_bn\", 0, 0, {}]]]}, {\"class_name\": \"Conv2D\", \"config\": {\"name\": \"conv3_block4_2_conv\", \"trainable\": true, \"dtype\": \"float32\", \"filters\": 128, \"kernel_size\": [3, 3], \"strides\": [1, 1], \"padding\": \"same\", \"data_format\": \"channels_last\", \"dilation_rate\": [1, 1], \"groups\": 1, \"activation\": \"linear\", \"use_bias\": true, \"kernel_initializer\": {\"class_name\": \"GlorotUniform\", \"config\": {\"seed\": null}}, \"bias_initializer\": {\"class_name\": \"Zeros\", \"config\": {}}, \"kernel_regularizer\": null, \"bias_regularizer\": null, \"activity_regularizer\": null, \"kernel_constraint\": null, \"bias_constraint\": null}, \"name\": \"conv3_block4_2_conv\", \"inbound_nodes\": [[[\"conv3_block4_1_relu\", 0, 0, {}]]]}, {\"class_name\": \"BatchNormalization\", \"config\": {\"name\": \"conv3_block4_2_bn\", \"trainable\": true, \"dtype\": \"float32\", \"axis\": [3], \"momentum\": 0.99, \"epsilon\": 1.001e-05, \"center\": true, \"scale\": true, \"beta_initializer\": {\"class_name\": \"Zeros\", \"config\": {}}, \"gamma_initializer\": {\"class_name\": \"Ones\", \"config\": {}}, \"moving_mean_initializer\": {\"class_name\": \"Zeros\", \"config\": {}}, \"moving_variance_initializer\": {\"class_name\": \"Ones\", \"config\": {}}, \"beta_regularizer\": null, \"gamma_regularizer\": null, \"beta_constraint\": null, \"gamma_constraint\": null}, \"name\": \"conv3_block4_2_bn\", \"inbound_nodes\": [[[\"conv3_block4_2_conv\", 0, 0, {}]]]}, {\"class_name\": \"Activation\", \"config\": {\"name\": \"conv3_block4_2_relu\", \"trainable\": true, \"dtype\": \"float32\", \"activation\": \"relu\"}, \"name\": \"conv3_block4_2_relu\", \"inbound_nodes\": [[[\"conv3_block4_2_bn\", 0, 0, {}]]]}, {\"class_name\": \"Conv2D\", \"config\": {\"name\": \"conv3_block4_3_conv\", \"trainable\": true, \"dtype\": \"float32\", \"filters\": 512, \"kernel_size\": [1, 1], \"strides\": [1, 1], \"padding\": \"valid\", \"data_format\": \"channels_last\", \"dilation_rate\": [1, 1], \"groups\": 1, \"activation\": \"linear\", \"use_bias\": true, \"kernel_initializer\": {\"class_name\": \"GlorotUniform\", \"config\": {\"seed\": null}}, \"bias_initializer\": {\"class_name\": \"Zeros\", \"config\": {}}, \"kernel_regularizer\": null, \"bias_regularizer\": null, \"activity_regularizer\": null, \"kernel_constraint\": null, \"bias_constraint\": null}, \"name\": \"conv3_block4_3_conv\", \"inbound_nodes\": [[[\"conv3_block4_2_relu\", 0, 0, {}]]]}, {\"class_name\": \"BatchNormalization\", \"config\": {\"name\": \"conv3_block4_3_bn\", \"trainable\": true, \"dtype\": \"float32\", \"axis\": [3], \"momentum\": 0.99, \"epsilon\": 1.001e-05, \"center\": true, \"scale\": true, \"beta_initializer\": {\"class_name\": \"Zeros\", \"config\": {}}, \"gamma_initializer\": {\"class_name\": \"Ones\", \"config\": {}}, \"moving_mean_initializer\": {\"class_name\": \"Zeros\", \"config\": {}}, \"moving_variance_initializer\": {\"class_name\": \"Ones\", \"config\": {}}, \"beta_regularizer\": null, \"gamma_regularizer\": null, \"beta_constraint\": null, \"gamma_constraint\": null}, \"name\": \"conv3_block4_3_bn\", \"inbound_nodes\": [[[\"conv3_block4_3_conv\", 0, 0, {}]]]}, {\"class_name\": \"Add\", \"config\": {\"name\": \"conv3_block4_add\", \"trainable\": true, \"dtype\": \"float32\"}, \"name\": \"conv3_block4_add\", \"inbound_nodes\": [[[\"conv3_block3_out\", 0, 0, {}], [\"conv3_block4_3_bn\", 0, 0, {}]]]}, {\"class_name\": \"Activation\", \"config\": {\"name\": \"conv3_block4_out\", \"trainable\": true, \"dtype\": \"float32\", \"activation\": \"relu\"}, \"name\": \"conv3_block4_out\", \"inbound_nodes\": [[[\"conv3_block4_add\", 0, 0, {}]]]}, {\"class_name\": \"Conv2D\", \"config\": {\"name\": \"conv4_block1_1_conv\", \"trainable\": true, \"dtype\": \"float32\", \"filters\": 256, \"kernel_size\": [1, 1], \"strides\": [2, 2], \"padding\": \"valid\", \"data_format\": \"channels_last\", \"dilation_rate\": [1, 1], \"groups\": 1, \"activation\": \"linear\", \"use_bias\": true, \"kernel_initializer\": {\"class_name\": \"GlorotUniform\", \"config\": {\"seed\": null}}, \"bias_initializer\": {\"class_name\": \"Zeros\", \"config\": {}}, \"kernel_regularizer\": null, \"bias_regularizer\": null, \"activity_regularizer\": null, \"kernel_constraint\": null, \"bias_constraint\": null}, \"name\": \"conv4_block1_1_conv\", \"inbound_nodes\": [[[\"conv3_block4_out\", 0, 0, {}]]]}, {\"class_name\": \"BatchNormalization\", \"config\": {\"name\": \"conv4_block1_1_bn\", \"trainable\": true, \"dtype\": \"float32\", \"axis\": [3], \"momentum\": 0.99, \"epsilon\": 1.001e-05, \"center\": true, \"scale\": true, \"beta_initializer\": {\"class_name\": \"Zeros\", \"config\": {}}, \"gamma_initializer\": {\"class_name\": \"Ones\", \"config\": {}}, \"moving_mean_initializer\": {\"class_name\": \"Zeros\", \"config\": {}}, \"moving_variance_initializer\": {\"class_name\": \"Ones\", \"config\": {}}, \"beta_regularizer\": null, \"gamma_regularizer\": null, \"beta_constraint\": null, \"gamma_constraint\": null}, \"name\": \"conv4_block1_1_bn\", \"inbound_nodes\": [[[\"conv4_block1_1_conv\", 0, 0, {}]]]}, {\"class_name\": \"Activation\", \"config\": {\"name\": \"conv4_block1_1_relu\", \"trainable\": true, \"dtype\": \"float32\", \"activation\": \"relu\"}, \"name\": \"conv4_block1_1_relu\", \"inbound_nodes\": [[[\"conv4_block1_1_bn\", 0, 0, {}]]]}, {\"class_name\": \"Conv2D\", \"config\": {\"name\": \"conv4_block1_2_conv\", \"trainable\": true, \"dtype\": \"float32\", \"filters\": 256, \"kernel_size\": [3, 3], \"strides\": [1, 1], \"padding\": \"same\", \"data_format\": \"channels_last\", \"dilation_rate\": [1, 1], \"groups\": 1, \"activation\": \"linear\", \"use_bias\": true, \"kernel_initializer\": {\"class_name\": \"GlorotUniform\", \"config\": {\"seed\": null}}, \"bias_initializer\": {\"class_name\": \"Zeros\", \"config\": {}}, \"kernel_regularizer\": null, \"bias_regularizer\": null, \"activity_regularizer\": null, \"kernel_constraint\": null, \"bias_constraint\": null}, \"name\": \"conv4_block1_2_conv\", \"inbound_nodes\": [[[\"conv4_block1_1_relu\", 0, 0, {}]]]}, {\"class_name\": \"BatchNormalization\", \"config\": {\"name\": \"conv4_block1_2_bn\", \"trainable\": true, \"dtype\": \"float32\", \"axis\": [3], \"momentum\": 0.99, \"epsilon\": 1.001e-05, \"center\": true, \"scale\": true, \"beta_initializer\": {\"class_name\": \"Zeros\", \"config\": {}}, \"gamma_initializer\": {\"class_name\": \"Ones\", \"config\": {}}, \"moving_mean_initializer\": {\"class_name\": \"Zeros\", \"config\": {}}, \"moving_variance_initializer\": {\"class_name\": \"Ones\", \"config\": {}}, \"beta_regularizer\": null, \"gamma_regularizer\": null, \"beta_constraint\": null, \"gamma_constraint\": null}, \"name\": \"conv4_block1_2_bn\", \"inbound_nodes\": [[[\"conv4_block1_2_conv\", 0, 0, {}]]]}, {\"class_name\": \"Activation\", \"config\": {\"name\": \"conv4_block1_2_relu\", \"trainable\": true, \"dtype\": \"float32\", \"activation\": \"relu\"}, \"name\": \"conv4_block1_2_relu\", \"inbound_nodes\": [[[\"conv4_block1_2_bn\", 0, 0, {}]]]}, {\"class_name\": \"Conv2D\", \"config\": {\"name\": \"conv4_block1_0_conv\", \"trainable\": true, \"dtype\": \"float32\", \"filters\": 1024, \"kernel_size\": [1, 1], \"strides\": [2, 2], \"padding\": \"valid\", \"data_format\": \"channels_last\", \"dilation_rate\": [1, 1], \"groups\": 1, \"activation\": \"linear\", \"use_bias\": true, \"kernel_initializer\": {\"class_name\": \"GlorotUniform\", \"config\": {\"seed\": null}}, \"bias_initializer\": {\"class_name\": \"Zeros\", \"config\": {}}, \"kernel_regularizer\": null, \"bias_regularizer\": null, \"activity_regularizer\": null, \"kernel_constraint\": null, \"bias_constraint\": null}, \"name\": \"conv4_block1_0_conv\", \"inbound_nodes\": [[[\"conv3_block4_out\", 0, 0, {}]]]}, {\"class_name\": \"Conv2D\", \"config\": {\"name\": \"conv4_block1_3_conv\", \"trainable\": true, \"dtype\": \"float32\", \"filters\": 1024, \"kernel_size\": [1, 1], \"strides\": [1, 1], \"padding\": \"valid\", \"data_format\": \"channels_last\", \"dilation_rate\": [1, 1], \"groups\": 1, \"activation\": \"linear\", \"use_bias\": true, \"kernel_initializer\": {\"class_name\": \"GlorotUniform\", \"config\": {\"seed\": null}}, \"bias_initializer\": {\"class_name\": \"Zeros\", \"config\": {}}, \"kernel_regularizer\": null, \"bias_regularizer\": null, \"activity_regularizer\": null, \"kernel_constraint\": null, \"bias_constraint\": null}, \"name\": \"conv4_block1_3_conv\", \"inbound_nodes\": [[[\"conv4_block1_2_relu\", 0, 0, {}]]]}, {\"class_name\": \"BatchNormalization\", \"config\": {\"name\": \"conv4_block1_0_bn\", \"trainable\": true, \"dtype\": \"float32\", \"axis\": [3], \"momentum\": 0.99, \"epsilon\": 1.001e-05, \"center\": true, \"scale\": true, \"beta_initializer\": {\"class_name\": \"Zeros\", \"config\": {}}, \"gamma_initializer\": {\"class_name\": \"Ones\", \"config\": {}}, \"moving_mean_initializer\": {\"class_name\": \"Zeros\", \"config\": {}}, \"moving_variance_initializer\": {\"class_name\": \"Ones\", \"config\": {}}, \"beta_regularizer\": null, \"gamma_regularizer\": null, \"beta_constraint\": null, \"gamma_constraint\": null}, \"name\": \"conv4_block1_0_bn\", \"inbound_nodes\": [[[\"conv4_block1_0_conv\", 0, 0, {}]]]}, {\"class_name\": \"BatchNormalization\", \"config\": {\"name\": \"conv4_block1_3_bn\", \"trainable\": true, \"dtype\": \"float32\", \"axis\": [3], \"momentum\": 0.99, \"epsilon\": 1.001e-05, \"center\": true, \"scale\": true, \"beta_initializer\": {\"class_name\": \"Zeros\", \"config\": {}}, \"gamma_initializer\": {\"class_name\": \"Ones\", \"config\": {}}, \"moving_mean_initializer\": {\"class_name\": \"Zeros\", \"config\": {}}, \"moving_variance_initializer\": {\"class_name\": \"Ones\", \"config\": {}}, \"beta_regularizer\": null, \"gamma_regularizer\": null, \"beta_constraint\": null, \"gamma_constraint\": null}, \"name\": \"conv4_block1_3_bn\", \"inbound_nodes\": [[[\"conv4_block1_3_conv\", 0, 0, {}]]]}, {\"class_name\": \"Add\", \"config\": {\"name\": \"conv4_block1_add\", \"trainable\": true, \"dtype\": \"float32\"}, \"name\": \"conv4_block1_add\", \"inbound_nodes\": [[[\"conv4_block1_0_bn\", 0, 0, {}], [\"conv4_block1_3_bn\", 0, 0, {}]]]}, {\"class_name\": \"Activation\", \"config\": {\"name\": \"conv4_block1_out\", \"trainable\": true, \"dtype\": \"float32\", \"activation\": \"relu\"}, \"name\": \"conv4_block1_out\", \"inbound_nodes\": [[[\"conv4_block1_add\", 0, 0, {}]]]}, {\"class_name\": \"Conv2D\", \"config\": {\"name\": \"conv4_block2_1_conv\", \"trainable\": true, \"dtype\": \"float32\", \"filters\": 256, \"kernel_size\": [1, 1], \"strides\": [1, 1], \"padding\": \"valid\", \"data_format\": \"channels_last\", \"dilation_rate\": [1, 1], \"groups\": 1, \"activation\": \"linear\", \"use_bias\": true, \"kernel_initializer\": {\"class_name\": \"GlorotUniform\", \"config\": {\"seed\": null}}, \"bias_initializer\": {\"class_name\": \"Zeros\", \"config\": {}}, \"kernel_regularizer\": null, \"bias_regularizer\": null, \"activity_regularizer\": null, \"kernel_constraint\": null, \"bias_constraint\": null}, \"name\": \"conv4_block2_1_conv\", \"inbound_nodes\": [[[\"conv4_block1_out\", 0, 0, {}]]]}, {\"class_name\": \"BatchNormalization\", \"config\": {\"name\": \"conv4_block2_1_bn\", \"trainable\": true, \"dtype\": \"float32\", \"axis\": [3], \"momentum\": 0.99, \"epsilon\": 1.001e-05, \"center\": true, \"scale\": true, \"beta_initializer\": {\"class_name\": \"Zeros\", \"config\": {}}, \"gamma_initializer\": {\"class_name\": \"Ones\", \"config\": {}}, \"moving_mean_initializer\": {\"class_name\": \"Zeros\", \"config\": {}}, \"moving_variance_initializer\": {\"class_name\": \"Ones\", \"config\": {}}, \"beta_regularizer\": null, \"gamma_regularizer\": null, \"beta_constraint\": null, \"gamma_constraint\": null}, \"name\": \"conv4_block2_1_bn\", \"inbound_nodes\": [[[\"conv4_block2_1_conv\", 0, 0, {}]]]}, {\"class_name\": \"Activation\", \"config\": {\"name\": \"conv4_block2_1_relu\", \"trainable\": true, \"dtype\": \"float32\", \"activation\": \"relu\"}, \"name\": \"conv4_block2_1_relu\", \"inbound_nodes\": [[[\"conv4_block2_1_bn\", 0, 0, {}]]]}, {\"class_name\": \"Conv2D\", \"config\": {\"name\": \"conv4_block2_2_conv\", \"trainable\": true, \"dtype\": \"float32\", \"filters\": 256, \"kernel_size\": [3, 3], \"strides\": [1, 1], \"padding\": \"same\", \"data_format\": \"channels_last\", \"dilation_rate\": [1, 1], \"groups\": 1, \"activation\": \"linear\", \"use_bias\": true, \"kernel_initializer\": {\"class_name\": \"GlorotUniform\", \"config\": {\"seed\": null}}, \"bias_initializer\": {\"class_name\": \"Zeros\", \"config\": {}}, \"kernel_regularizer\": null, \"bias_regularizer\": null, \"activity_regularizer\": null, \"kernel_constraint\": null, \"bias_constraint\": null}, \"name\": \"conv4_block2_2_conv\", \"inbound_nodes\": [[[\"conv4_block2_1_relu\", 0, 0, {}]]]}, {\"class_name\": \"BatchNormalization\", \"config\": {\"name\": \"conv4_block2_2_bn\", \"trainable\": true, \"dtype\": \"float32\", \"axis\": [3], \"momentum\": 0.99, \"epsilon\": 1.001e-05, \"center\": true, \"scale\": true, \"beta_initializer\": {\"class_name\": \"Zeros\", \"config\": {}}, \"gamma_initializer\": {\"class_name\": \"Ones\", \"config\": {}}, \"moving_mean_initializer\": {\"class_name\": \"Zeros\", \"config\": {}}, \"moving_variance_initializer\": {\"class_name\": \"Ones\", \"config\": {}}, \"beta_regularizer\": null, \"gamma_regularizer\": null, \"beta_constraint\": null, \"gamma_constraint\": null}, \"name\": \"conv4_block2_2_bn\", \"inbound_nodes\": [[[\"conv4_block2_2_conv\", 0, 0, {}]]]}, {\"class_name\": \"Activation\", \"config\": {\"name\": \"conv4_block2_2_relu\", \"trainable\": true, \"dtype\": \"float32\", \"activation\": \"relu\"}, \"name\": \"conv4_block2_2_relu\", \"inbound_nodes\": [[[\"conv4_block2_2_bn\", 0, 0, {}]]]}, {\"class_name\": \"Conv2D\", \"config\": {\"name\": \"conv4_block2_3_conv\", \"trainable\": true, \"dtype\": \"float32\", \"filters\": 1024, \"kernel_size\": [1, 1], \"strides\": [1, 1], \"padding\": \"valid\", \"data_format\": \"channels_last\", \"dilation_rate\": [1, 1], \"groups\": 1, \"activation\": \"linear\", \"use_bias\": true, \"kernel_initializer\": {\"class_name\": \"GlorotUniform\", \"config\": {\"seed\": null}}, \"bias_initializer\": {\"class_name\": \"Zeros\", \"config\": {}}, \"kernel_regularizer\": null, \"bias_regularizer\": null, \"activity_regularizer\": null, \"kernel_constraint\": null, \"bias_constraint\": null}, \"name\": \"conv4_block2_3_conv\", \"inbound_nodes\": [[[\"conv4_block2_2_relu\", 0, 0, {}]]]}, {\"class_name\": \"BatchNormalization\", \"config\": {\"name\": \"conv4_block2_3_bn\", \"trainable\": true, \"dtype\": \"float32\", \"axis\": [3], \"momentum\": 0.99, \"epsilon\": 1.001e-05, \"center\": true, \"scale\": true, \"beta_initializer\": {\"class_name\": \"Zeros\", \"config\": {}}, \"gamma_initializer\": {\"class_name\": \"Ones\", \"config\": {}}, \"moving_mean_initializer\": {\"class_name\": \"Zeros\", \"config\": {}}, \"moving_variance_initializer\": {\"class_name\": \"Ones\", \"config\": {}}, \"beta_regularizer\": null, \"gamma_regularizer\": null, \"beta_constraint\": null, \"gamma_constraint\": null}, \"name\": \"conv4_block2_3_bn\", \"inbound_nodes\": [[[\"conv4_block2_3_conv\", 0, 0, {}]]]}, {\"class_name\": \"Add\", \"config\": {\"name\": \"conv4_block2_add\", \"trainable\": true, \"dtype\": \"float32\"}, \"name\": \"conv4_block2_add\", \"inbound_nodes\": [[[\"conv4_block1_out\", 0, 0, {}], [\"conv4_block2_3_bn\", 0, 0, {}]]]}, {\"class_name\": \"Activation\", \"config\": {\"name\": \"conv4_block2_out\", \"trainable\": true, \"dtype\": \"float32\", \"activation\": \"relu\"}, \"name\": \"conv4_block2_out\", \"inbound_nodes\": [[[\"conv4_block2_add\", 0, 0, {}]]]}, {\"class_name\": \"Conv2D\", \"config\": {\"name\": \"conv4_block3_1_conv\", \"trainable\": true, \"dtype\": \"float32\", \"filters\": 256, \"kernel_size\": [1, 1], \"strides\": [1, 1], \"padding\": \"valid\", \"data_format\": \"channels_last\", \"dilation_rate\": [1, 1], \"groups\": 1, \"activation\": \"linear\", \"use_bias\": true, \"kernel_initializer\": {\"class_name\": \"GlorotUniform\", \"config\": {\"seed\": null}}, \"bias_initializer\": {\"class_name\": \"Zeros\", \"config\": {}}, \"kernel_regularizer\": null, \"bias_regularizer\": null, \"activity_regularizer\": null, \"kernel_constraint\": null, \"bias_constraint\": null}, \"name\": \"conv4_block3_1_conv\", \"inbound_nodes\": [[[\"conv4_block2_out\", 0, 0, {}]]]}, {\"class_name\": \"BatchNormalization\", \"config\": {\"name\": \"conv4_block3_1_bn\", \"trainable\": true, \"dtype\": \"float32\", \"axis\": [3], \"momentum\": 0.99, \"epsilon\": 1.001e-05, \"center\": true, \"scale\": true, \"beta_initializer\": {\"class_name\": \"Zeros\", \"config\": {}}, \"gamma_initializer\": {\"class_name\": \"Ones\", \"config\": {}}, \"moving_mean_initializer\": {\"class_name\": \"Zeros\", \"config\": {}}, \"moving_variance_initializer\": {\"class_name\": \"Ones\", \"config\": {}}, \"beta_regularizer\": null, \"gamma_regularizer\": null, \"beta_constraint\": null, \"gamma_constraint\": null}, \"name\": \"conv4_block3_1_bn\", \"inbound_nodes\": [[[\"conv4_block3_1_conv\", 0, 0, {}]]]}, {\"class_name\": \"Activation\", \"config\": {\"name\": \"conv4_block3_1_relu\", \"trainable\": true, \"dtype\": \"float32\", \"activation\": \"relu\"}, \"name\": \"conv4_block3_1_relu\", \"inbound_nodes\": [[[\"conv4_block3_1_bn\", 0, 0, {}]]]}, {\"class_name\": \"Conv2D\", \"config\": {\"name\": \"conv4_block3_2_conv\", \"trainable\": true, \"dtype\": \"float32\", \"filters\": 256, \"kernel_size\": [3, 3], \"strides\": [1, 1], \"padding\": \"same\", \"data_format\": \"channels_last\", \"dilation_rate\": [1, 1], \"groups\": 1, \"activation\": \"linear\", \"use_bias\": true, \"kernel_initializer\": {\"class_name\": \"GlorotUniform\", \"config\": {\"seed\": null}}, \"bias_initializer\": {\"class_name\": \"Zeros\", \"config\": {}}, \"kernel_regularizer\": null, \"bias_regularizer\": null, \"activity_regularizer\": null, \"kernel_constraint\": null, \"bias_constraint\": null}, \"name\": \"conv4_block3_2_conv\", \"inbound_nodes\": [[[\"conv4_block3_1_relu\", 0, 0, {}]]]}, {\"class_name\": \"BatchNormalization\", \"config\": {\"name\": \"conv4_block3_2_bn\", \"trainable\": true, \"dtype\": \"float32\", \"axis\": [3], \"momentum\": 0.99, \"epsilon\": 1.001e-05, \"center\": true, \"scale\": true, \"beta_initializer\": {\"class_name\": \"Zeros\", \"config\": {}}, \"gamma_initializer\": {\"class_name\": \"Ones\", \"config\": {}}, \"moving_mean_initializer\": {\"class_name\": \"Zeros\", \"config\": {}}, \"moving_variance_initializer\": {\"class_name\": \"Ones\", \"config\": {}}, \"beta_regularizer\": null, \"gamma_regularizer\": null, \"beta_constraint\": null, \"gamma_constraint\": null}, \"name\": \"conv4_block3_2_bn\", \"inbound_nodes\": [[[\"conv4_block3_2_conv\", 0, 0, {}]]]}, {\"class_name\": \"Activation\", \"config\": {\"name\": \"conv4_block3_2_relu\", \"trainable\": true, \"dtype\": \"float32\", \"activation\": \"relu\"}, \"name\": \"conv4_block3_2_relu\", \"inbound_nodes\": [[[\"conv4_block3_2_bn\", 0, 0, {}]]]}, {\"class_name\": \"Conv2D\", \"config\": {\"name\": \"conv4_block3_3_conv\", \"trainable\": true, \"dtype\": \"float32\", \"filters\": 1024, \"kernel_size\": [1, 1], \"strides\": [1, 1], \"padding\": \"valid\", \"data_format\": \"channels_last\", \"dilation_rate\": [1, 1], \"groups\": 1, \"activation\": \"linear\", \"use_bias\": true, \"kernel_initializer\": {\"class_name\": \"GlorotUniform\", \"config\": {\"seed\": null}}, \"bias_initializer\": {\"class_name\": \"Zeros\", \"config\": {}}, \"kernel_regularizer\": null, \"bias_regularizer\": null, \"activity_regularizer\": null, \"kernel_constraint\": null, \"bias_constraint\": null}, \"name\": \"conv4_block3_3_conv\", \"inbound_nodes\": [[[\"conv4_block3_2_relu\", 0, 0, {}]]]}, {\"class_name\": \"BatchNormalization\", \"config\": {\"name\": \"conv4_block3_3_bn\", \"trainable\": true, \"dtype\": \"float32\", \"axis\": [3], \"momentum\": 0.99, \"epsilon\": 1.001e-05, \"center\": true, \"scale\": true, \"beta_initializer\": {\"class_name\": \"Zeros\", \"config\": {}}, \"gamma_initializer\": {\"class_name\": \"Ones\", \"config\": {}}, \"moving_mean_initializer\": {\"class_name\": \"Zeros\", \"config\": {}}, \"moving_variance_initializer\": {\"class_name\": \"Ones\", \"config\": {}}, \"beta_regularizer\": null, \"gamma_regularizer\": null, \"beta_constraint\": null, \"gamma_constraint\": null}, \"name\": \"conv4_block3_3_bn\", \"inbound_nodes\": [[[\"conv4_block3_3_conv\", 0, 0, {}]]]}, {\"class_name\": \"Add\", \"config\": {\"name\": \"conv4_block3_add\", \"trainable\": true, \"dtype\": \"float32\"}, \"name\": \"conv4_block3_add\", \"inbound_nodes\": [[[\"conv4_block2_out\", 0, 0, {}], [\"conv4_block3_3_bn\", 0, 0, {}]]]}, {\"class_name\": \"Activation\", \"config\": {\"name\": \"conv4_block3_out\", \"trainable\": true, \"dtype\": \"float32\", \"activation\": \"relu\"}, \"name\": \"conv4_block3_out\", \"inbound_nodes\": [[[\"conv4_block3_add\", 0, 0, {}]]]}, {\"class_name\": \"Conv2D\", \"config\": {\"name\": \"conv4_block4_1_conv\", \"trainable\": true, \"dtype\": \"float32\", \"filters\": 256, \"kernel_size\": [1, 1], \"strides\": [1, 1], \"padding\": \"valid\", \"data_format\": \"channels_last\", \"dilation_rate\": [1, 1], \"groups\": 1, \"activation\": \"linear\", \"use_bias\": true, \"kernel_initializer\": {\"class_name\": \"GlorotUniform\", \"config\": {\"seed\": null}}, \"bias_initializer\": {\"class_name\": \"Zeros\", \"config\": {}}, \"kernel_regularizer\": null, \"bias_regularizer\": null, \"activity_regularizer\": null, \"kernel_constraint\": null, \"bias_constraint\": null}, \"name\": \"conv4_block4_1_conv\", \"inbound_nodes\": [[[\"conv4_block3_out\", 0, 0, {}]]]}, {\"class_name\": \"BatchNormalization\", \"config\": {\"name\": \"conv4_block4_1_bn\", \"trainable\": true, \"dtype\": \"float32\", \"axis\": [3], \"momentum\": 0.99, \"epsilon\": 1.001e-05, \"center\": true, \"scale\": true, \"beta_initializer\": {\"class_name\": \"Zeros\", \"config\": {}}, \"gamma_initializer\": {\"class_name\": \"Ones\", \"config\": {}}, \"moving_mean_initializer\": {\"class_name\": \"Zeros\", \"config\": {}}, \"moving_variance_initializer\": {\"class_name\": \"Ones\", \"config\": {}}, \"beta_regularizer\": null, \"gamma_regularizer\": null, \"beta_constraint\": null, \"gamma_constraint\": null}, \"name\": \"conv4_block4_1_bn\", \"inbound_nodes\": [[[\"conv4_block4_1_conv\", 0, 0, {}]]]}, {\"class_name\": \"Activation\", \"config\": {\"name\": \"conv4_block4_1_relu\", \"trainable\": true, \"dtype\": \"float32\", \"activation\": \"relu\"}, \"name\": \"conv4_block4_1_relu\", \"inbound_nodes\": [[[\"conv4_block4_1_bn\", 0, 0, {}]]]}, {\"class_name\": \"Conv2D\", \"config\": {\"name\": \"conv4_block4_2_conv\", \"trainable\": true, \"dtype\": \"float32\", \"filters\": 256, \"kernel_size\": [3, 3], \"strides\": [1, 1], \"padding\": \"same\", \"data_format\": \"channels_last\", \"dilation_rate\": [1, 1], \"groups\": 1, \"activation\": \"linear\", \"use_bias\": true, \"kernel_initializer\": {\"class_name\": \"GlorotUniform\", \"config\": {\"seed\": null}}, \"bias_initializer\": {\"class_name\": \"Zeros\", \"config\": {}}, \"kernel_regularizer\": null, \"bias_regularizer\": null, \"activity_regularizer\": null, \"kernel_constraint\": null, \"bias_constraint\": null}, \"name\": \"conv4_block4_2_conv\", \"inbound_nodes\": [[[\"conv4_block4_1_relu\", 0, 0, {}]]]}, {\"class_name\": \"BatchNormalization\", \"config\": {\"name\": \"conv4_block4_2_bn\", \"trainable\": true, \"dtype\": \"float32\", \"axis\": [3], \"momentum\": 0.99, \"epsilon\": 1.001e-05, \"center\": true, \"scale\": true, \"beta_initializer\": {\"class_name\": \"Zeros\", \"config\": {}}, \"gamma_initializer\": {\"class_name\": \"Ones\", \"config\": {}}, \"moving_mean_initializer\": {\"class_name\": \"Zeros\", \"config\": {}}, \"moving_variance_initializer\": {\"class_name\": \"Ones\", \"config\": {}}, \"beta_regularizer\": null, \"gamma_regularizer\": null, \"beta_constraint\": null, \"gamma_constraint\": null}, \"name\": \"conv4_block4_2_bn\", \"inbound_nodes\": [[[\"conv4_block4_2_conv\", 0, 0, {}]]]}, {\"class_name\": \"Activation\", \"config\": {\"name\": \"conv4_block4_2_relu\", \"trainable\": true, \"dtype\": \"float32\", \"activation\": \"relu\"}, \"name\": \"conv4_block4_2_relu\", \"inbound_nodes\": [[[\"conv4_block4_2_bn\", 0, 0, {}]]]}, {\"class_name\": \"Conv2D\", \"config\": {\"name\": \"conv4_block4_3_conv\", \"trainable\": true, \"dtype\": \"float32\", \"filters\": 1024, \"kernel_size\": [1, 1], \"strides\": [1, 1], \"padding\": \"valid\", \"data_format\": \"channels_last\", \"dilation_rate\": [1, 1], \"groups\": 1, \"activation\": \"linear\", \"use_bias\": true, \"kernel_initializer\": {\"class_name\": \"GlorotUniform\", \"config\": {\"seed\": null}}, \"bias_initializer\": {\"class_name\": \"Zeros\", \"config\": {}}, \"kernel_regularizer\": null, \"bias_regularizer\": null, \"activity_regularizer\": null, \"kernel_constraint\": null, \"bias_constraint\": null}, \"name\": \"conv4_block4_3_conv\", \"inbound_nodes\": [[[\"conv4_block4_2_relu\", 0, 0, {}]]]}, {\"class_name\": \"BatchNormalization\", \"config\": {\"name\": \"conv4_block4_3_bn\", \"trainable\": true, \"dtype\": \"float32\", \"axis\": [3], \"momentum\": 0.99, \"epsilon\": 1.001e-05, \"center\": true, \"scale\": true, \"beta_initializer\": {\"class_name\": \"Zeros\", \"config\": {}}, \"gamma_initializer\": {\"class_name\": \"Ones\", \"config\": {}}, \"moving_mean_initializer\": {\"class_name\": \"Zeros\", \"config\": {}}, \"moving_variance_initializer\": {\"class_name\": \"Ones\", \"config\": {}}, \"beta_regularizer\": null, \"gamma_regularizer\": null, \"beta_constraint\": null, \"gamma_constraint\": null}, \"name\": \"conv4_block4_3_bn\", \"inbound_nodes\": [[[\"conv4_block4_3_conv\", 0, 0, {}]]]}, {\"class_name\": \"Add\", \"config\": {\"name\": \"conv4_block4_add\", \"trainable\": true, \"dtype\": \"float32\"}, \"name\": \"conv4_block4_add\", \"inbound_nodes\": [[[\"conv4_block3_out\", 0, 0, {}], [\"conv4_block4_3_bn\", 0, 0, {}]]]}, {\"class_name\": \"Activation\", \"config\": {\"name\": \"conv4_block4_out\", \"trainable\": true, \"dtype\": \"float32\", \"activation\": \"relu\"}, \"name\": \"conv4_block4_out\", \"inbound_nodes\": [[[\"conv4_block4_add\", 0, 0, {}]]]}, {\"class_name\": \"Conv2D\", \"config\": {\"name\": \"conv4_block5_1_conv\", \"trainable\": true, \"dtype\": \"float32\", \"filters\": 256, \"kernel_size\": [1, 1], \"strides\": [1, 1], \"padding\": \"valid\", \"data_format\": \"channels_last\", \"dilation_rate\": [1, 1], \"groups\": 1, \"activation\": \"linear\", \"use_bias\": true, \"kernel_initializer\": {\"class_name\": \"GlorotUniform\", \"config\": {\"seed\": null}}, \"bias_initializer\": {\"class_name\": \"Zeros\", \"config\": {}}, \"kernel_regularizer\": null, \"bias_regularizer\": null, \"activity_regularizer\": null, \"kernel_constraint\": null, \"bias_constraint\": null}, \"name\": \"conv4_block5_1_conv\", \"inbound_nodes\": [[[\"conv4_block4_out\", 0, 0, {}]]]}, {\"class_name\": \"BatchNormalization\", \"config\": {\"name\": \"conv4_block5_1_bn\", \"trainable\": true, \"dtype\": \"float32\", \"axis\": [3], \"momentum\": 0.99, \"epsilon\": 1.001e-05, \"center\": true, \"scale\": true, \"beta_initializer\": {\"class_name\": \"Zeros\", \"config\": {}}, \"gamma_initializer\": {\"class_name\": \"Ones\", \"config\": {}}, \"moving_mean_initializer\": {\"class_name\": \"Zeros\", \"config\": {}}, \"moving_variance_initializer\": {\"class_name\": \"Ones\", \"config\": {}}, \"beta_regularizer\": null, \"gamma_regularizer\": null, \"beta_constraint\": null, \"gamma_constraint\": null}, \"name\": \"conv4_block5_1_bn\", \"inbound_nodes\": [[[\"conv4_block5_1_conv\", 0, 0, {}]]]}, {\"class_name\": \"Activation\", \"config\": {\"name\": \"conv4_block5_1_relu\", \"trainable\": true, \"dtype\": \"float32\", \"activation\": \"relu\"}, \"name\": \"conv4_block5_1_relu\", \"inbound_nodes\": [[[\"conv4_block5_1_bn\", 0, 0, {}]]]}, {\"class_name\": \"Conv2D\", \"config\": {\"name\": \"conv4_block5_2_conv\", \"trainable\": true, \"dtype\": \"float32\", \"filters\": 256, \"kernel_size\": [3, 3], \"strides\": [1, 1], \"padding\": \"same\", \"data_format\": \"channels_last\", \"dilation_rate\": [1, 1], \"groups\": 1, \"activation\": \"linear\", \"use_bias\": true, \"kernel_initializer\": {\"class_name\": \"GlorotUniform\", \"config\": {\"seed\": null}}, \"bias_initializer\": {\"class_name\": \"Zeros\", \"config\": {}}, \"kernel_regularizer\": null, \"bias_regularizer\": null, \"activity_regularizer\": null, \"kernel_constraint\": null, \"bias_constraint\": null}, \"name\": \"conv4_block5_2_conv\", \"inbound_nodes\": [[[\"conv4_block5_1_relu\", 0, 0, {}]]]}, {\"class_name\": \"BatchNormalization\", \"config\": {\"name\": \"conv4_block5_2_bn\", \"trainable\": true, \"dtype\": \"float32\", \"axis\": [3], \"momentum\": 0.99, \"epsilon\": 1.001e-05, \"center\": true, \"scale\": true, \"beta_initializer\": {\"class_name\": \"Zeros\", \"config\": {}}, \"gamma_initializer\": {\"class_name\": \"Ones\", \"config\": {}}, \"moving_mean_initializer\": {\"class_name\": \"Zeros\", \"config\": {}}, \"moving_variance_initializer\": {\"class_name\": \"Ones\", \"config\": {}}, \"beta_regularizer\": null, \"gamma_regularizer\": null, \"beta_constraint\": null, \"gamma_constraint\": null}, \"name\": \"conv4_block5_2_bn\", \"inbound_nodes\": [[[\"conv4_block5_2_conv\", 0, 0, {}]]]}, {\"class_name\": \"Activation\", \"config\": {\"name\": \"conv4_block5_2_relu\", \"trainable\": true, \"dtype\": \"float32\", \"activation\": \"relu\"}, \"name\": \"conv4_block5_2_relu\", \"inbound_nodes\": [[[\"conv4_block5_2_bn\", 0, 0, {}]]]}, {\"class_name\": \"Conv2D\", \"config\": {\"name\": \"conv4_block5_3_conv\", \"trainable\": true, \"dtype\": \"float32\", \"filters\": 1024, \"kernel_size\": [1, 1], \"strides\": [1, 1], \"padding\": \"valid\", \"data_format\": \"channels_last\", \"dilation_rate\": [1, 1], \"groups\": 1, \"activation\": \"linear\", \"use_bias\": true, \"kernel_initializer\": {\"class_name\": \"GlorotUniform\", \"config\": {\"seed\": null}}, \"bias_initializer\": {\"class_name\": \"Zeros\", \"config\": {}}, \"kernel_regularizer\": null, \"bias_regularizer\": null, \"activity_regularizer\": null, \"kernel_constraint\": null, \"bias_constraint\": null}, \"name\": \"conv4_block5_3_conv\", \"inbound_nodes\": [[[\"conv4_block5_2_relu\", 0, 0, {}]]]}, {\"class_name\": \"BatchNormalization\", \"config\": {\"name\": \"conv4_block5_3_bn\", \"trainable\": true, \"dtype\": \"float32\", \"axis\": [3], \"momentum\": 0.99, \"epsilon\": 1.001e-05, \"center\": true, \"scale\": true, \"beta_initializer\": {\"class_name\": \"Zeros\", \"config\": {}}, \"gamma_initializer\": {\"class_name\": \"Ones\", \"config\": {}}, \"moving_mean_initializer\": {\"class_name\": \"Zeros\", \"config\": {}}, \"moving_variance_initializer\": {\"class_name\": \"Ones\", \"config\": {}}, \"beta_regularizer\": null, \"gamma_regularizer\": null, \"beta_constraint\": null, \"gamma_constraint\": null}, \"name\": \"conv4_block5_3_bn\", \"inbound_nodes\": [[[\"conv4_block5_3_conv\", 0, 0, {}]]]}, {\"class_name\": \"Add\", \"config\": {\"name\": \"conv4_block5_add\", \"trainable\": true, \"dtype\": \"float32\"}, \"name\": \"conv4_block5_add\", \"inbound_nodes\": [[[\"conv4_block4_out\", 0, 0, {}], [\"conv4_block5_3_bn\", 0, 0, {}]]]}, {\"class_name\": \"Activation\", \"config\": {\"name\": \"conv4_block5_out\", \"trainable\": true, \"dtype\": \"float32\", \"activation\": \"relu\"}, \"name\": \"conv4_block5_out\", \"inbound_nodes\": [[[\"conv4_block5_add\", 0, 0, {}]]]}, {\"class_name\": \"Conv2D\", \"config\": {\"name\": \"conv4_block6_1_conv\", \"trainable\": true, \"dtype\": \"float32\", \"filters\": 256, \"kernel_size\": [1, 1], \"strides\": [1, 1], \"padding\": \"valid\", \"data_format\": \"channels_last\", \"dilation_rate\": [1, 1], \"groups\": 1, \"activation\": \"linear\", \"use_bias\": true, \"kernel_initializer\": {\"class_name\": \"GlorotUniform\", \"config\": {\"seed\": null}}, \"bias_initializer\": {\"class_name\": \"Zeros\", \"config\": {}}, \"kernel_regularizer\": null, \"bias_regularizer\": null, \"activity_regularizer\": null, \"kernel_constraint\": null, \"bias_constraint\": null}, \"name\": \"conv4_block6_1_conv\", \"inbound_nodes\": [[[\"conv4_block5_out\", 0, 0, {}]]]}, {\"class_name\": \"BatchNormalization\", \"config\": {\"name\": \"conv4_block6_1_bn\", \"trainable\": true, \"dtype\": \"float32\", \"axis\": [3], \"momentum\": 0.99, \"epsilon\": 1.001e-05, \"center\": true, \"scale\": true, \"beta_initializer\": {\"class_name\": \"Zeros\", \"config\": {}}, \"gamma_initializer\": {\"class_name\": \"Ones\", \"config\": {}}, \"moving_mean_initializer\": {\"class_name\": \"Zeros\", \"config\": {}}, \"moving_variance_initializer\": {\"class_name\": \"Ones\", \"config\": {}}, \"beta_regularizer\": null, \"gamma_regularizer\": null, \"beta_constraint\": null, \"gamma_constraint\": null}, \"name\": \"conv4_block6_1_bn\", \"inbound_nodes\": [[[\"conv4_block6_1_conv\", 0, 0, {}]]]}, {\"class_name\": \"Activation\", \"config\": {\"name\": \"conv4_block6_1_relu\", \"trainable\": true, \"dtype\": \"float32\", \"activation\": \"relu\"}, \"name\": \"conv4_block6_1_relu\", \"inbound_nodes\": [[[\"conv4_block6_1_bn\", 0, 0, {}]]]}, {\"class_name\": \"Conv2D\", \"config\": {\"name\": \"conv4_block6_2_conv\", \"trainable\": true, \"dtype\": \"float32\", \"filters\": 256, \"kernel_size\": [3, 3], \"strides\": [1, 1], \"padding\": \"same\", \"data_format\": \"channels_last\", \"dilation_rate\": [1, 1], \"groups\": 1, \"activation\": \"linear\", \"use_bias\": true, \"kernel_initializer\": {\"class_name\": \"GlorotUniform\", \"config\": {\"seed\": null}}, \"bias_initializer\": {\"class_name\": \"Zeros\", \"config\": {}}, \"kernel_regularizer\": null, \"bias_regularizer\": null, \"activity_regularizer\": null, \"kernel_constraint\": null, \"bias_constraint\": null}, \"name\": \"conv4_block6_2_conv\", \"inbound_nodes\": [[[\"conv4_block6_1_relu\", 0, 0, {}]]]}, {\"class_name\": \"BatchNormalization\", \"config\": {\"name\": \"conv4_block6_2_bn\", \"trainable\": true, \"dtype\": \"float32\", \"axis\": [3], \"momentum\": 0.99, \"epsilon\": 1.001e-05, \"center\": true, \"scale\": true, \"beta_initializer\": {\"class_name\": \"Zeros\", \"config\": {}}, \"gamma_initializer\": {\"class_name\": \"Ones\", \"config\": {}}, \"moving_mean_initializer\": {\"class_name\": \"Zeros\", \"config\": {}}, \"moving_variance_initializer\": {\"class_name\": \"Ones\", \"config\": {}}, \"beta_regularizer\": null, \"gamma_regularizer\": null, \"beta_constraint\": null, \"gamma_constraint\": null}, \"name\": \"conv4_block6_2_bn\", \"inbound_nodes\": [[[\"conv4_block6_2_conv\", 0, 0, {}]]]}, {\"class_name\": \"Activation\", \"config\": {\"name\": \"conv4_block6_2_relu\", \"trainable\": true, \"dtype\": \"float32\", \"activation\": \"relu\"}, \"name\": \"conv4_block6_2_relu\", \"inbound_nodes\": [[[\"conv4_block6_2_bn\", 0, 0, {}]]]}, {\"class_name\": \"Conv2D\", \"config\": {\"name\": \"conv4_block6_3_conv\", \"trainable\": true, \"dtype\": \"float32\", \"filters\": 1024, \"kernel_size\": [1, 1], \"strides\": [1, 1], \"padding\": \"valid\", \"data_format\": \"channels_last\", \"dilation_rate\": [1, 1], \"groups\": 1, \"activation\": \"linear\", \"use_bias\": true, \"kernel_initializer\": {\"class_name\": \"GlorotUniform\", \"config\": {\"seed\": null}}, \"bias_initializer\": {\"class_name\": \"Zeros\", \"config\": {}}, \"kernel_regularizer\": null, \"bias_regularizer\": null, \"activity_regularizer\": null, \"kernel_constraint\": null, \"bias_constraint\": null}, \"name\": \"conv4_block6_3_conv\", \"inbound_nodes\": [[[\"conv4_block6_2_relu\", 0, 0, {}]]]}, {\"class_name\": \"BatchNormalization\", \"config\": {\"name\": \"conv4_block6_3_bn\", \"trainable\": true, \"dtype\": \"float32\", \"axis\": [3], \"momentum\": 0.99, \"epsilon\": 1.001e-05, \"center\": true, \"scale\": true, \"beta_initializer\": {\"class_name\": \"Zeros\", \"config\": {}}, \"gamma_initializer\": {\"class_name\": \"Ones\", \"config\": {}}, \"moving_mean_initializer\": {\"class_name\": \"Zeros\", \"config\": {}}, \"moving_variance_initializer\": {\"class_name\": \"Ones\", \"config\": {}}, \"beta_regularizer\": null, \"gamma_regularizer\": null, \"beta_constraint\": null, \"gamma_constraint\": null}, \"name\": \"conv4_block6_3_bn\", \"inbound_nodes\": [[[\"conv4_block6_3_conv\", 0, 0, {}]]]}, {\"class_name\": \"Add\", \"config\": {\"name\": \"conv4_block6_add\", \"trainable\": true, \"dtype\": \"float32\"}, \"name\": \"conv4_block6_add\", \"inbound_nodes\": [[[\"conv4_block5_out\", 0, 0, {}], [\"conv4_block6_3_bn\", 0, 0, {}]]]}, {\"class_name\": \"Activation\", \"config\": {\"name\": \"conv4_block6_out\", \"trainable\": true, \"dtype\": \"float32\", \"activation\": \"relu\"}, \"name\": \"conv4_block6_out\", \"inbound_nodes\": [[[\"conv4_block6_add\", 0, 0, {}]]]}, {\"class_name\": \"Conv2D\", \"config\": {\"name\": \"conv5_block1_1_conv\", \"trainable\": true, \"dtype\": \"float32\", \"filters\": 512, \"kernel_size\": [1, 1], \"strides\": [2, 2], \"padding\": \"valid\", \"data_format\": \"channels_last\", \"dilation_rate\": [1, 1], \"groups\": 1, \"activation\": \"linear\", \"use_bias\": true, \"kernel_initializer\": {\"class_name\": \"GlorotUniform\", \"config\": {\"seed\": null}}, \"bias_initializer\": {\"class_name\": \"Zeros\", \"config\": {}}, \"kernel_regularizer\": null, \"bias_regularizer\": null, \"activity_regularizer\": null, \"kernel_constraint\": null, \"bias_constraint\": null}, \"name\": \"conv5_block1_1_conv\", \"inbound_nodes\": [[[\"conv4_block6_out\", 0, 0, {}]]]}, {\"class_name\": \"BatchNormalization\", \"config\": {\"name\": \"conv5_block1_1_bn\", \"trainable\": true, \"dtype\": \"float32\", \"axis\": [3], \"momentum\": 0.99, \"epsilon\": 1.001e-05, \"center\": true, \"scale\": true, \"beta_initializer\": {\"class_name\": \"Zeros\", \"config\": {}}, \"gamma_initializer\": {\"class_name\": \"Ones\", \"config\": {}}, \"moving_mean_initializer\": {\"class_name\": \"Zeros\", \"config\": {}}, \"moving_variance_initializer\": {\"class_name\": \"Ones\", \"config\": {}}, \"beta_regularizer\": null, \"gamma_regularizer\": null, \"beta_constraint\": null, \"gamma_constraint\": null}, \"name\": \"conv5_block1_1_bn\", \"inbound_nodes\": [[[\"conv5_block1_1_conv\", 0, 0, {}]]]}, {\"class_name\": \"Activation\", \"config\": {\"name\": \"conv5_block1_1_relu\", \"trainable\": true, \"dtype\": \"float32\", \"activation\": \"relu\"}, \"name\": \"conv5_block1_1_relu\", \"inbound_nodes\": [[[\"conv5_block1_1_bn\", 0, 0, {}]]]}, {\"class_name\": \"Conv2D\", \"config\": {\"name\": \"conv5_block1_2_conv\", \"trainable\": true, \"dtype\": \"float32\", \"filters\": 512, \"kernel_size\": [3, 3], \"strides\": [1, 1], \"padding\": \"same\", \"data_format\": \"channels_last\", \"dilation_rate\": [1, 1], \"groups\": 1, \"activation\": \"linear\", \"use_bias\": true, \"kernel_initializer\": {\"class_name\": \"GlorotUniform\", \"config\": {\"seed\": null}}, \"bias_initializer\": {\"class_name\": \"Zeros\", \"config\": {}}, \"kernel_regularizer\": null, \"bias_regularizer\": null, \"activity_regularizer\": null, \"kernel_constraint\": null, \"bias_constraint\": null}, \"name\": \"conv5_block1_2_conv\", \"inbound_nodes\": [[[\"conv5_block1_1_relu\", 0, 0, {}]]]}, {\"class_name\": \"BatchNormalization\", \"config\": {\"name\": \"conv5_block1_2_bn\", \"trainable\": true, \"dtype\": \"float32\", \"axis\": [3], \"momentum\": 0.99, \"epsilon\": 1.001e-05, \"center\": true, \"scale\": true, \"beta_initializer\": {\"class_name\": \"Zeros\", \"config\": {}}, \"gamma_initializer\": {\"class_name\": \"Ones\", \"config\": {}}, \"moving_mean_initializer\": {\"class_name\": \"Zeros\", \"config\": {}}, \"moving_variance_initializer\": {\"class_name\": \"Ones\", \"config\": {}}, \"beta_regularizer\": null, \"gamma_regularizer\": null, \"beta_constraint\": null, \"gamma_constraint\": null}, \"name\": \"conv5_block1_2_bn\", \"inbound_nodes\": [[[\"conv5_block1_2_conv\", 0, 0, {}]]]}, {\"class_name\": \"Activation\", \"config\": {\"name\": \"conv5_block1_2_relu\", \"trainable\": true, \"dtype\": \"float32\", \"activation\": \"relu\"}, \"name\": \"conv5_block1_2_relu\", \"inbound_nodes\": [[[\"conv5_block1_2_bn\", 0, 0, {}]]]}, {\"class_name\": \"Conv2D\", \"config\": {\"name\": \"conv5_block1_0_conv\", \"trainable\": true, \"dtype\": \"float32\", \"filters\": 2048, \"kernel_size\": [1, 1], \"strides\": [2, 2], \"padding\": \"valid\", \"data_format\": \"channels_last\", \"dilation_rate\": [1, 1], \"groups\": 1, \"activation\": \"linear\", \"use_bias\": true, \"kernel_initializer\": {\"class_name\": \"GlorotUniform\", \"config\": {\"seed\": null}}, \"bias_initializer\": {\"class_name\": \"Zeros\", \"config\": {}}, \"kernel_regularizer\": null, \"bias_regularizer\": null, \"activity_regularizer\": null, \"kernel_constraint\": null, \"bias_constraint\": null}, \"name\": \"conv5_block1_0_conv\", \"inbound_nodes\": [[[\"conv4_block6_out\", 0, 0, {}]]]}, {\"class_name\": \"Conv2D\", \"config\": {\"name\": \"conv5_block1_3_conv\", \"trainable\": true, \"dtype\": \"float32\", \"filters\": 2048, \"kernel_size\": [1, 1], \"strides\": [1, 1], \"padding\": \"valid\", \"data_format\": \"channels_last\", \"dilation_rate\": [1, 1], \"groups\": 1, \"activation\": \"linear\", \"use_bias\": true, \"kernel_initializer\": {\"class_name\": \"GlorotUniform\", \"config\": {\"seed\": null}}, \"bias_initializer\": {\"class_name\": \"Zeros\", \"config\": {}}, \"kernel_regularizer\": null, \"bias_regularizer\": null, \"activity_regularizer\": null, \"kernel_constraint\": null, \"bias_constraint\": null}, \"name\": \"conv5_block1_3_conv\", \"inbound_nodes\": [[[\"conv5_block1_2_relu\", 0, 0, {}]]]}, {\"class_name\": \"BatchNormalization\", \"config\": {\"name\": \"conv5_block1_0_bn\", \"trainable\": true, \"dtype\": \"float32\", \"axis\": [3], \"momentum\": 0.99, \"epsilon\": 1.001e-05, \"center\": true, \"scale\": true, \"beta_initializer\": {\"class_name\": \"Zeros\", \"config\": {}}, \"gamma_initializer\": {\"class_name\": \"Ones\", \"config\": {}}, \"moving_mean_initializer\": {\"class_name\": \"Zeros\", \"config\": {}}, \"moving_variance_initializer\": {\"class_name\": \"Ones\", \"config\": {}}, \"beta_regularizer\": null, \"gamma_regularizer\": null, \"beta_constraint\": null, \"gamma_constraint\": null}, \"name\": \"conv5_block1_0_bn\", \"inbound_nodes\": [[[\"conv5_block1_0_conv\", 0, 0, {}]]]}, {\"class_name\": \"BatchNormalization\", \"config\": {\"name\": \"conv5_block1_3_bn\", \"trainable\": true, \"dtype\": \"float32\", \"axis\": [3], \"momentum\": 0.99, \"epsilon\": 1.001e-05, \"center\": true, \"scale\": true, \"beta_initializer\": {\"class_name\": \"Zeros\", \"config\": {}}, \"gamma_initializer\": {\"class_name\": \"Ones\", \"config\": {}}, \"moving_mean_initializer\": {\"class_name\": \"Zeros\", \"config\": {}}, \"moving_variance_initializer\": {\"class_name\": \"Ones\", \"config\": {}}, \"beta_regularizer\": null, \"gamma_regularizer\": null, \"beta_constraint\": null, \"gamma_constraint\": null}, \"name\": \"conv5_block1_3_bn\", \"inbound_nodes\": [[[\"conv5_block1_3_conv\", 0, 0, {}]]]}, {\"class_name\": \"Add\", \"config\": {\"name\": \"conv5_block1_add\", \"trainable\": true, \"dtype\": \"float32\"}, \"name\": \"conv5_block1_add\", \"inbound_nodes\": [[[\"conv5_block1_0_bn\", 0, 0, {}], [\"conv5_block1_3_bn\", 0, 0, {}]]]}, {\"class_name\": \"Activation\", \"config\": {\"name\": \"conv5_block1_out\", \"trainable\": true, \"dtype\": \"float32\", \"activation\": \"relu\"}, \"name\": \"conv5_block1_out\", \"inbound_nodes\": [[[\"conv5_block1_add\", 0, 0, {}]]]}, {\"class_name\": \"Conv2D\", \"config\": {\"name\": \"conv5_block2_1_conv\", \"trainable\": true, \"dtype\": \"float32\", \"filters\": 512, \"kernel_size\": [1, 1], \"strides\": [1, 1], \"padding\": \"valid\", \"data_format\": \"channels_last\", \"dilation_rate\": [1, 1], \"groups\": 1, \"activation\": \"linear\", \"use_bias\": true, \"kernel_initializer\": {\"class_name\": \"GlorotUniform\", \"config\": {\"seed\": null}}, \"bias_initializer\": {\"class_name\": \"Zeros\", \"config\": {}}, \"kernel_regularizer\": null, \"bias_regularizer\": null, \"activity_regularizer\": null, \"kernel_constraint\": null, \"bias_constraint\": null}, \"name\": \"conv5_block2_1_conv\", \"inbound_nodes\": [[[\"conv5_block1_out\", 0, 0, {}]]]}, {\"class_name\": \"BatchNormalization\", \"config\": {\"name\": \"conv5_block2_1_bn\", \"trainable\": true, \"dtype\": \"float32\", \"axis\": [3], \"momentum\": 0.99, \"epsilon\": 1.001e-05, \"center\": true, \"scale\": true, \"beta_initializer\": {\"class_name\": \"Zeros\", \"config\": {}}, \"gamma_initializer\": {\"class_name\": \"Ones\", \"config\": {}}, \"moving_mean_initializer\": {\"class_name\": \"Zeros\", \"config\": {}}, \"moving_variance_initializer\": {\"class_name\": \"Ones\", \"config\": {}}, \"beta_regularizer\": null, \"gamma_regularizer\": null, \"beta_constraint\": null, \"gamma_constraint\": null}, \"name\": \"conv5_block2_1_bn\", \"inbound_nodes\": [[[\"conv5_block2_1_conv\", 0, 0, {}]]]}, {\"class_name\": \"Activation\", \"config\": {\"name\": \"conv5_block2_1_relu\", \"trainable\": true, \"dtype\": \"float32\", \"activation\": \"relu\"}, \"name\": \"conv5_block2_1_relu\", \"inbound_nodes\": [[[\"conv5_block2_1_bn\", 0, 0, {}]]]}, {\"class_name\": \"Conv2D\", \"config\": {\"name\": \"conv5_block2_2_conv\", \"trainable\": true, \"dtype\": \"float32\", \"filters\": 512, \"kernel_size\": [3, 3], \"strides\": [1, 1], \"padding\": \"same\", \"data_format\": \"channels_last\", \"dilation_rate\": [1, 1], \"groups\": 1, \"activation\": \"linear\", \"use_bias\": true, \"kernel_initializer\": {\"class_name\": \"GlorotUniform\", \"config\": {\"seed\": null}}, \"bias_initializer\": {\"class_name\": \"Zeros\", \"config\": {}}, \"kernel_regularizer\": null, \"bias_regularizer\": null, \"activity_regularizer\": null, \"kernel_constraint\": null, \"bias_constraint\": null}, \"name\": \"conv5_block2_2_conv\", \"inbound_nodes\": [[[\"conv5_block2_1_relu\", 0, 0, {}]]]}, {\"class_name\": \"BatchNormalization\", \"config\": {\"name\": \"conv5_block2_2_bn\", \"trainable\": true, \"dtype\": \"float32\", \"axis\": [3], \"momentum\": 0.99, \"epsilon\": 1.001e-05, \"center\": true, \"scale\": true, \"beta_initializer\": {\"class_name\": \"Zeros\", \"config\": {}}, \"gamma_initializer\": {\"class_name\": \"Ones\", \"config\": {}}, \"moving_mean_initializer\": {\"class_name\": \"Zeros\", \"config\": {}}, \"moving_variance_initializer\": {\"class_name\": \"Ones\", \"config\": {}}, \"beta_regularizer\": null, \"gamma_regularizer\": null, \"beta_constraint\": null, \"gamma_constraint\": null}, \"name\": \"conv5_block2_2_bn\", \"inbound_nodes\": [[[\"conv5_block2_2_conv\", 0, 0, {}]]]}, {\"class_name\": \"Activation\", \"config\": {\"name\": \"conv5_block2_2_relu\", \"trainable\": true, \"dtype\": \"float32\", \"activation\": \"relu\"}, \"name\": \"conv5_block2_2_relu\", \"inbound_nodes\": [[[\"conv5_block2_2_bn\", 0, 0, {}]]]}, {\"class_name\": \"Conv2D\", \"config\": {\"name\": \"conv5_block2_3_conv\", \"trainable\": true, \"dtype\": \"float32\", \"filters\": 2048, \"kernel_size\": [1, 1], \"strides\": [1, 1], \"padding\": \"valid\", \"data_format\": \"channels_last\", \"dilation_rate\": [1, 1], \"groups\": 1, \"activation\": \"linear\", \"use_bias\": true, \"kernel_initializer\": {\"class_name\": \"GlorotUniform\", \"config\": {\"seed\": null}}, \"bias_initializer\": {\"class_name\": \"Zeros\", \"config\": {}}, \"kernel_regularizer\": null, \"bias_regularizer\": null, \"activity_regularizer\": null, \"kernel_constraint\": null, \"bias_constraint\": null}, \"name\": \"conv5_block2_3_conv\", \"inbound_nodes\": [[[\"conv5_block2_2_relu\", 0, 0, {}]]]}, {\"class_name\": \"BatchNormalization\", \"config\": {\"name\": \"conv5_block2_3_bn\", \"trainable\": true, \"dtype\": \"float32\", \"axis\": [3], \"momentum\": 0.99, \"epsilon\": 1.001e-05, \"center\": true, \"scale\": true, \"beta_initializer\": {\"class_name\": \"Zeros\", \"config\": {}}, \"gamma_initializer\": {\"class_name\": \"Ones\", \"config\": {}}, \"moving_mean_initializer\": {\"class_name\": \"Zeros\", \"config\": {}}, \"moving_variance_initializer\": {\"class_name\": \"Ones\", \"config\": {}}, \"beta_regularizer\": null, \"gamma_regularizer\": null, \"beta_constraint\": null, \"gamma_constraint\": null}, \"name\": \"conv5_block2_3_bn\", \"inbound_nodes\": [[[\"conv5_block2_3_conv\", 0, 0, {}]]]}, {\"class_name\": \"Add\", \"config\": {\"name\": \"conv5_block2_add\", \"trainable\": true, \"dtype\": \"float32\"}, \"name\": \"conv5_block2_add\", \"inbound_nodes\": [[[\"conv5_block1_out\", 0, 0, {}], [\"conv5_block2_3_bn\", 0, 0, {}]]]}, {\"class_name\": \"Activation\", \"config\": {\"name\": \"conv5_block2_out\", \"trainable\": true, \"dtype\": \"float32\", \"activation\": \"relu\"}, \"name\": \"conv5_block2_out\", \"inbound_nodes\": [[[\"conv5_block2_add\", 0, 0, {}]]]}, {\"class_name\": \"Conv2D\", \"config\": {\"name\": \"conv5_block3_1_conv\", \"trainable\": true, \"dtype\": \"float32\", \"filters\": 512, \"kernel_size\": [1, 1], \"strides\": [1, 1], \"padding\": \"valid\", \"data_format\": \"channels_last\", \"dilation_rate\": [1, 1], \"groups\": 1, \"activation\": \"linear\", \"use_bias\": true, \"kernel_initializer\": {\"class_name\": \"GlorotUniform\", \"config\": {\"seed\": null}}, \"bias_initializer\": {\"class_name\": \"Zeros\", \"config\": {}}, \"kernel_regularizer\": null, \"bias_regularizer\": null, \"activity_regularizer\": null, \"kernel_constraint\": null, \"bias_constraint\": null}, \"name\": \"conv5_block3_1_conv\", \"inbound_nodes\": [[[\"conv5_block2_out\", 0, 0, {}]]]}, {\"class_name\": \"BatchNormalization\", \"config\": {\"name\": \"conv5_block3_1_bn\", \"trainable\": true, \"dtype\": \"float32\", \"axis\": [3], \"momentum\": 0.99, \"epsilon\": 1.001e-05, \"center\": true, \"scale\": true, \"beta_initializer\": {\"class_name\": \"Zeros\", \"config\": {}}, \"gamma_initializer\": {\"class_name\": \"Ones\", \"config\": {}}, \"moving_mean_initializer\": {\"class_name\": \"Zeros\", \"config\": {}}, \"moving_variance_initializer\": {\"class_name\": \"Ones\", \"config\": {}}, \"beta_regularizer\": null, \"gamma_regularizer\": null, \"beta_constraint\": null, \"gamma_constraint\": null}, \"name\": \"conv5_block3_1_bn\", \"inbound_nodes\": [[[\"conv5_block3_1_conv\", 0, 0, {}]]]}, {\"class_name\": \"Activation\", \"config\": {\"name\": \"conv5_block3_1_relu\", \"trainable\": true, \"dtype\": \"float32\", \"activation\": \"relu\"}, \"name\": \"conv5_block3_1_relu\", \"inbound_nodes\": [[[\"conv5_block3_1_bn\", 0, 0, {}]]]}, {\"class_name\": \"Conv2D\", \"config\": {\"name\": \"conv5_block3_2_conv\", \"trainable\": true, \"dtype\": \"float32\", \"filters\": 512, \"kernel_size\": [3, 3], \"strides\": [1, 1], \"padding\": \"same\", \"data_format\": \"channels_last\", \"dilation_rate\": [1, 1], \"groups\": 1, \"activation\": \"linear\", \"use_bias\": true, \"kernel_initializer\": {\"class_name\": \"GlorotUniform\", \"config\": {\"seed\": null}}, \"bias_initializer\": {\"class_name\": \"Zeros\", \"config\": {}}, \"kernel_regularizer\": null, \"bias_regularizer\": null, \"activity_regularizer\": null, \"kernel_constraint\": null, \"bias_constraint\": null}, \"name\": \"conv5_block3_2_conv\", \"inbound_nodes\": [[[\"conv5_block3_1_relu\", 0, 0, {}]]]}, {\"class_name\": \"BatchNormalization\", \"config\": {\"name\": \"conv5_block3_2_bn\", \"trainable\": true, \"dtype\": \"float32\", \"axis\": [3], \"momentum\": 0.99, \"epsilon\": 1.001e-05, \"center\": true, \"scale\": true, \"beta_initializer\": {\"class_name\": \"Zeros\", \"config\": {}}, \"gamma_initializer\": {\"class_name\": \"Ones\", \"config\": {}}, \"moving_mean_initializer\": {\"class_name\": \"Zeros\", \"config\": {}}, \"moving_variance_initializer\": {\"class_name\": \"Ones\", \"config\": {}}, \"beta_regularizer\": null, \"gamma_regularizer\": null, \"beta_constraint\": null, \"gamma_constraint\": null}, \"name\": \"conv5_block3_2_bn\", \"inbound_nodes\": [[[\"conv5_block3_2_conv\", 0, 0, {}]]]}, {\"class_name\": \"Activation\", \"config\": {\"name\": \"conv5_block3_2_relu\", \"trainable\": true, \"dtype\": \"float32\", \"activation\": \"relu\"}, \"name\": \"conv5_block3_2_relu\", \"inbound_nodes\": [[[\"conv5_block3_2_bn\", 0, 0, {}]]]}, {\"class_name\": \"Conv2D\", \"config\": {\"name\": \"conv5_block3_3_conv\", \"trainable\": true, \"dtype\": \"float32\", \"filters\": 2048, \"kernel_size\": [1, 1], \"strides\": [1, 1], \"padding\": \"valid\", \"data_format\": \"channels_last\", \"dilation_rate\": [1, 1], \"groups\": 1, \"activation\": \"linear\", \"use_bias\": true, \"kernel_initializer\": {\"class_name\": \"GlorotUniform\", \"config\": {\"seed\": null}}, \"bias_initializer\": {\"class_name\": \"Zeros\", \"config\": {}}, \"kernel_regularizer\": null, \"bias_regularizer\": null, \"activity_regularizer\": null, \"kernel_constraint\": null, \"bias_constraint\": null}, \"name\": \"conv5_block3_3_conv\", \"inbound_nodes\": [[[\"conv5_block3_2_relu\", 0, 0, {}]]]}, {\"class_name\": \"BatchNormalization\", \"config\": {\"name\": \"conv5_block3_3_bn\", \"trainable\": true, \"dtype\": \"float32\", \"axis\": [3], \"momentum\": 0.99, \"epsilon\": 1.001e-05, \"center\": true, \"scale\": true, \"beta_initializer\": {\"class_name\": \"Zeros\", \"config\": {}}, \"gamma_initializer\": {\"class_name\": \"Ones\", \"config\": {}}, \"moving_mean_initializer\": {\"class_name\": \"Zeros\", \"config\": {}}, \"moving_variance_initializer\": {\"class_name\": \"Ones\", \"config\": {}}, \"beta_regularizer\": null, \"gamma_regularizer\": null, \"beta_constraint\": null, \"gamma_constraint\": null}, \"name\": \"conv5_block3_3_bn\", \"inbound_nodes\": [[[\"conv5_block3_3_conv\", 0, 0, {}]]]}, {\"class_name\": \"Add\", \"config\": {\"name\": \"conv5_block3_add\", \"trainable\": true, \"dtype\": \"float32\"}, \"name\": \"conv5_block3_add\", \"inbound_nodes\": [[[\"conv5_block2_out\", 0, 0, {}], [\"conv5_block3_3_bn\", 0, 0, {}]]]}, {\"class_name\": \"Activation\", \"config\": {\"name\": \"conv5_block3_out\", \"trainable\": true, \"dtype\": \"float32\", \"activation\": \"relu\"}, \"name\": \"conv5_block3_out\", \"inbound_nodes\": [[[\"conv5_block3_add\", 0, 0, {}]]]}], \"input_layers\": [[\"input_2\", 0, 0]], \"output_layers\": [[\"conv5_block3_out\", 0, 0]]}, \"name\": \"resnet50\", \"inbound_nodes\": [[[\"random_flip\", 0, 0, {}]]]}, {\"class_name\": \"GlobalAveragePooling2D\", \"config\": {\"name\": \"global_average_pooling2d\", \"trainable\": true, \"dtype\": \"float32\", \"data_format\": \"channels_last\", \"keepdims\": false}, \"name\": \"global_average_pooling2d\", \"inbound_nodes\": [[[\"resnet50\", 1, 0, {}]]]}, {\"class_name\": \"Dense\", \"config\": {\"name\": \"dense\", \"trainable\": true, \"dtype\": \"float32\", \"units\": 46, \"activation\": \"linear\", \"use_bias\": true, \"kernel_initializer\": {\"class_name\": \"GlorotUniform\", \"config\": {\"seed\": null}}, \"bias_initializer\": {\"class_name\": \"Zeros\", \"config\": {}}, \"kernel_regularizer\": null, \"bias_regularizer\": null, \"activity_regularizer\": null, \"kernel_constraint\": null, \"bias_constraint\": null}, \"name\": \"dense\", \"inbound_nodes\": [[[\"global_average_pooling2d\", 0, 0, {}]]]}, {\"class_name\": \"Softmax\", \"config\": {\"name\": \"classification_head_1\", \"trainable\": true, \"dtype\": \"float32\", \"axis\": -1}, \"name\": \"classification_head_1\", \"inbound_nodes\": [[[\"dense\", 0, 0, {}]]]}], \"input_layers\": [[\"input_1\", 0, 0]], \"output_layers\": [[\"classification_head_1\", 0, 0]]}, \"keras_version\": \"2.10.0\", \"backend\": \"tensorflow\"}\n"
     ]
    }
   ],
   "source": [
    "best_model = clf.export_model()\n",
    "# Получите архитектуру модели в виде JSON строки\n",
    "model_json = best_model.to_json()\n",
    "\n",
    "print(\"Model architecture:\")\n",
    "print(model_json)"
   ]
  },
  {
   "cell_type": "code",
   "execution_count": 4,
   "metadata": {},
   "outputs": [
    {
     "ename": "NameError",
     "evalue": "name 'best_model' is not defined",
     "output_type": "error",
     "traceback": [
      "\u001b[1;31m---------------------------------------------------------------------------\u001b[0m",
      "\u001b[1;31mNameError\u001b[0m                                 Traceback (most recent call last)",
      "Cell \u001b[1;32mIn[4], line 1\u001b[0m\n\u001b[1;32m----> 1\u001b[0m \u001b[43mbest_model\u001b[49m\u001b[38;5;241m.\u001b[39msummary()\n",
      "\u001b[1;31mNameError\u001b[0m: name 'best_model' is not defined"
     ]
    }
   ],
   "source": [
    "best_model.summary()"
   ]
  },
  {
   "cell_type": "code",
   "execution_count": 11,
   "metadata": {},
   "outputs": [],
   "source": [
    "best_model.save('best_model.h5')"
   ]
  },
  {
   "cell_type": "code",
   "execution_count": 5,
   "metadata": {},
   "outputs": [
    {
     "name": "stdout",
     "output_type": "stream",
     "text": [
      "WARNING:tensorflow:SavedModel saved prior to TF 2.5 detected when loading Keras model. Please ensure that you are saving the model with model.save() or tf.keras.models.save_model(), *NOT* tf.saved_model.save(). To confirm, there should be a file named \"keras_metadata.pb\" in the SavedModel directory.\n"
     ]
    },
    {
     "name": "stderr",
     "output_type": "stream",
     "text": [
      "WARNING:tensorflow:SavedModel saved prior to TF 2.5 detected when loading Keras model. Please ensure that you are saving the model with model.save() or tf.keras.models.save_model(), *NOT* tf.saved_model.save(). To confirm, there should be a file named \"keras_metadata.pb\" in the SavedModel directory.\n"
     ]
    },
    {
     "ename": "ValueError",
     "evalue": "Unable to create a Keras model from SavedModel at berries2/image_classifier/best_model. This SavedModel was exported with `tf.saved_model.save`, and lacks the Keras metadata file. Please save your Keras model by calling `model.save` or `tf.keras.models.save_model`. Note that you can still load this SavedModel with `tf.saved_model.load`.",
     "output_type": "error",
     "traceback": [
      "\u001b[1;31m---------------------------------------------------------------------------\u001b[0m",
      "\u001b[1;31mValueError\u001b[0m                                Traceback (most recent call last)",
      "Cell \u001b[1;32mIn[5], line 8\u001b[0m\n\u001b[0;32m      6\u001b[0m \u001b[38;5;66;03m# Загрузка лучшей модели с использованием параметра load_best=True\u001b[39;00m\n\u001b[0;32m      7\u001b[0m best_model_path \u001b[38;5;241m=\u001b[39m \u001b[38;5;124m'\u001b[39m\u001b[38;5;124mberries2/image_classifier/best_model\u001b[39m\u001b[38;5;124m'\u001b[39m\n\u001b[1;32m----> 8\u001b[0m loaded_model \u001b[38;5;241m=\u001b[39m \u001b[43mload_model\u001b[49m\u001b[43m(\u001b[49m\u001b[43mbest_model_path\u001b[49m\u001b[43m)\u001b[49m\n\u001b[0;32m     10\u001b[0m \u001b[38;5;66;03m# Путь к новой фотографии\u001b[39;00m\n\u001b[0;32m     11\u001b[0m new_image_path \u001b[38;5;241m=\u001b[39m \u001b[38;5;124m'\u001b[39m\u001b[38;5;124m1.jfif\u001b[39m\u001b[38;5;124m'\u001b[39m\n",
      "File \u001b[1;32mc:\\Users\\Sorra\\anaconda3\\envs\\gpu\\lib\\site-packages\\keras\\utils\\traceback_utils.py:70\u001b[0m, in \u001b[0;36mfilter_traceback.<locals>.error_handler\u001b[1;34m(*args, **kwargs)\u001b[0m\n\u001b[0;32m     67\u001b[0m     filtered_tb \u001b[38;5;241m=\u001b[39m _process_traceback_frames(e\u001b[38;5;241m.\u001b[39m__traceback__)\n\u001b[0;32m     68\u001b[0m     \u001b[38;5;66;03m# To get the full stack trace, call:\u001b[39;00m\n\u001b[0;32m     69\u001b[0m     \u001b[38;5;66;03m# `tf.debugging.disable_traceback_filtering()`\u001b[39;00m\n\u001b[1;32m---> 70\u001b[0m     \u001b[38;5;28;01mraise\u001b[39;00m e\u001b[38;5;241m.\u001b[39mwith_traceback(filtered_tb) \u001b[38;5;28;01mfrom\u001b[39;00m \u001b[38;5;28;01mNone\u001b[39;00m\n\u001b[0;32m     71\u001b[0m \u001b[38;5;28;01mfinally\u001b[39;00m:\n\u001b[0;32m     72\u001b[0m     \u001b[38;5;28;01mdel\u001b[39;00m filtered_tb\n",
      "File \u001b[1;32mc:\\Users\\Sorra\\anaconda3\\envs\\gpu\\lib\\site-packages\\keras\\saving\\saved_model\\load.py:220\u001b[0m, in \u001b[0;36m_read_legacy_metadata\u001b[1;34m(object_graph_def, metadata, path)\u001b[0m\n\u001b[0;32m    214\u001b[0m \u001b[38;5;28;01mif\u001b[39;00m (\n\u001b[0;32m    215\u001b[0m     proto\u001b[38;5;241m.\u001b[39mWhichOneof(\u001b[38;5;124m\"\u001b[39m\u001b[38;5;124mkind\u001b[39m\u001b[38;5;124m\"\u001b[39m) \u001b[38;5;241m==\u001b[39m \u001b[38;5;124m\"\u001b[39m\u001b[38;5;124muser_object\u001b[39m\u001b[38;5;124m\"\u001b[39m\n\u001b[0;32m    216\u001b[0m     \u001b[38;5;129;01mand\u001b[39;00m proto\u001b[38;5;241m.\u001b[39muser_object\u001b[38;5;241m.\u001b[39midentifier\n\u001b[0;32m    217\u001b[0m     \u001b[38;5;129;01min\u001b[39;00m constants\u001b[38;5;241m.\u001b[39mKERAS_OBJECT_IDENTIFIERS\n\u001b[0;32m    218\u001b[0m ):\n\u001b[0;32m    219\u001b[0m     \u001b[38;5;28;01mif\u001b[39;00m \u001b[38;5;129;01mnot\u001b[39;00m proto\u001b[38;5;241m.\u001b[39muser_object\u001b[38;5;241m.\u001b[39mmetadata:\n\u001b[1;32m--> 220\u001b[0m         \u001b[38;5;28;01mraise\u001b[39;00m \u001b[38;5;167;01mValueError\u001b[39;00m(\n\u001b[0;32m    221\u001b[0m             \u001b[38;5;124m\"\u001b[39m\u001b[38;5;124mUnable to create a Keras model from SavedModel at \u001b[39m\u001b[38;5;124m\"\u001b[39m\n\u001b[0;32m    222\u001b[0m             \u001b[38;5;124mf\u001b[39m\u001b[38;5;124m\"\u001b[39m\u001b[38;5;132;01m{\u001b[39;00mpath\u001b[38;5;132;01m}\u001b[39;00m\u001b[38;5;124m. This SavedModel was exported with \u001b[39m\u001b[38;5;124m\"\u001b[39m\n\u001b[0;32m    223\u001b[0m             \u001b[38;5;124m\"\u001b[39m\u001b[38;5;124m`tf.saved_model.save`, and lacks the Keras metadata file. \u001b[39m\u001b[38;5;124m\"\u001b[39m\n\u001b[0;32m    224\u001b[0m             \u001b[38;5;124m\"\u001b[39m\u001b[38;5;124mPlease save your Keras model by calling `model.save` \u001b[39m\u001b[38;5;124m\"\u001b[39m\n\u001b[0;32m    225\u001b[0m             \u001b[38;5;124m\"\u001b[39m\u001b[38;5;124mor `tf.keras.models.save_model`. Note that \u001b[39m\u001b[38;5;124m\"\u001b[39m\n\u001b[0;32m    226\u001b[0m             \u001b[38;5;124m\"\u001b[39m\u001b[38;5;124myou can still load this SavedModel with \u001b[39m\u001b[38;5;124m\"\u001b[39m\n\u001b[0;32m    227\u001b[0m             \u001b[38;5;124m\"\u001b[39m\u001b[38;5;124m`tf.saved_model.load`.\u001b[39m\u001b[38;5;124m\"\u001b[39m\n\u001b[0;32m    228\u001b[0m         )\n\u001b[0;32m    229\u001b[0m     metadata\u001b[38;5;241m.\u001b[39mnodes\u001b[38;5;241m.\u001b[39madd(\n\u001b[0;32m    230\u001b[0m         node_id\u001b[38;5;241m=\u001b[39mnode_id,\n\u001b[0;32m    231\u001b[0m         node_path\u001b[38;5;241m=\u001b[39mnode_paths[node_id],\n\u001b[1;32m   (...)\u001b[0m\n\u001b[0;32m    236\u001b[0m         metadata\u001b[38;5;241m=\u001b[39mproto\u001b[38;5;241m.\u001b[39muser_object\u001b[38;5;241m.\u001b[39mmetadata,\n\u001b[0;32m    237\u001b[0m     )\n",
      "\u001b[1;31mValueError\u001b[0m: Unable to create a Keras model from SavedModel at berries2/image_classifier/best_model. This SavedModel was exported with `tf.saved_model.save`, and lacks the Keras metadata file. Please save your Keras model by calling `model.save` or `tf.keras.models.save_model`. Note that you can still load this SavedModel with `tf.saved_model.load`."
     ]
    }
   ],
   "source": [
    "import autokeras as ak\n",
    "from tensorflow.keras.models import load_model\n",
    "from tensorflow.keras.preprocessing import image\n",
    "import numpy as np\n",
    "\n",
    "# Загрузка лучшей модели с использованием параметра load_best=True\n",
    "best_model_path = 'berries2/image_classifier/best_model'\n",
    "loaded_model = load_model(best_model_path)\n",
    "\n",
    "# Путь к новой фотографии\n",
    "new_image_path = '1.jfif'\n",
    "\n",
    "# Загрузка и предобработка изображения\n",
    "img = image.load_img(new_image_path, target_size=(256, 256))\n",
    "img_array = image.img_to_array(img)\n",
    "img_array = np.expand_dims(img_array, axis=0)\n",
    "img_array /= 255.0  # Нормализация значений пикселей\n",
    "\n",
    "# Получение предсказания\n",
    "predictions = loaded_model.predict(img_array)\n",
    "\n",
    "# Название класса с наивысшей предсказанной вероятностью\n",
    "predicted_class_name = y[np.argmax(predictions)]\n",
    "\n",
    "# Вывод результата\n",
    "print(f\"Predicted Class Name: {predicted_class_name}\")\n"
   ]
  },
  {
   "cell_type": "code",
   "execution_count": 30,
   "metadata": {},
   "outputs": [],
   "source": [
    "import os\n",
    "\n",
    "def create_class_file(dataset_path, class_file_path):\n",
    "    class_names = sorted(os.listdir(dataset_path))\n",
    "\n",
    "    with open(class_file_path, 'w') as file:\n",
    "        for class_name in class_names:\n",
    "            file.write(class_name + '\\n')\n",
    "\n",
    "# Замените 'path/to/your/training/dataset' на путь к вашему обучающему набору\n",
    "dataset_path = 'D:\\diplom_baza\\\\baza_copy'\n",
    "\n",
    "# Замените 'path/to/your/class_file.txt' на путь, где вы хотите сохранить файл с классами\n",
    "class_file_path = 'keys.txt'\n",
    "\n",
    "create_class_file(dataset_path, class_file_path)\n"
   ]
  },
  {
   "cell_type": "code",
   "execution_count": 6,
   "metadata": {},
   "outputs": [
    {
     "name": "stdout",
     "output_type": "stream",
     "text": [
      "WARNING:tensorflow:SavedModel saved prior to TF 2.5 detected when loading Keras model. Please ensure that you are saving the model with model.save() or tf.keras.models.save_model(), *NOT* tf.saved_model.save(). To confirm, there should be a file named \"keras_metadata.pb\" in the SavedModel directory.\n"
     ]
    },
    {
     "name": "stderr",
     "output_type": "stream",
     "text": [
      "WARNING:tensorflow:SavedModel saved prior to TF 2.5 detected when loading Keras model. Please ensure that you are saving the model with model.save() or tf.keras.models.save_model(), *NOT* tf.saved_model.save(). To confirm, there should be a file named \"keras_metadata.pb\" in the SavedModel directory.\n"
     ]
    },
    {
     "ename": "ValueError",
     "evalue": "Unable to create a Keras model from SavedModel at pavement_crack/image_classifier/best_model. This SavedModel was exported with `tf.saved_model.save`, and lacks the Keras metadata file. Please save your Keras model by calling `model.save` or `tf.keras.models.save_model`. Note that you can still load this SavedModel with `tf.saved_model.load`.",
     "output_type": "error",
     "traceback": [
      "\u001b[1;31m---------------------------------------------------------------------------\u001b[0m",
      "\u001b[1;31mValueError\u001b[0m                                Traceback (most recent call last)",
      "Cell \u001b[1;32mIn[6], line 6\u001b[0m\n\u001b[0;32m      4\u001b[0m \u001b[38;5;66;03m# Загрузка лучшей модели с использованием параметра load_best=True\u001b[39;00m\n\u001b[0;32m      5\u001b[0m best_model_path \u001b[38;5;241m=\u001b[39m \u001b[38;5;124m'\u001b[39m\u001b[38;5;124mpavement_crack/image_classifier/best_model\u001b[39m\u001b[38;5;124m'\u001b[39m\n\u001b[1;32m----> 6\u001b[0m loaded_model \u001b[38;5;241m=\u001b[39m \u001b[43mload_model\u001b[49m\u001b[43m(\u001b[49m\u001b[43mbest_model_path\u001b[49m\u001b[43m)\u001b[49m\n\u001b[0;32m      8\u001b[0m \u001b[38;5;66;03m# Загрузка и предобработка нового изображения\u001b[39;00m\n\u001b[0;32m      9\u001b[0m new_image_path \u001b[38;5;241m=\u001b[39m \u001b[38;5;124m'\u001b[39m\u001b[38;5;124m3.jpg\u001b[39m\u001b[38;5;124m'\u001b[39m\n",
      "File \u001b[1;32mc:\\Users\\Sorra\\anaconda3\\envs\\gpu\\lib\\site-packages\\keras\\utils\\traceback_utils.py:70\u001b[0m, in \u001b[0;36mfilter_traceback.<locals>.error_handler\u001b[1;34m(*args, **kwargs)\u001b[0m\n\u001b[0;32m     67\u001b[0m     filtered_tb \u001b[38;5;241m=\u001b[39m _process_traceback_frames(e\u001b[38;5;241m.\u001b[39m__traceback__)\n\u001b[0;32m     68\u001b[0m     \u001b[38;5;66;03m# To get the full stack trace, call:\u001b[39;00m\n\u001b[0;32m     69\u001b[0m     \u001b[38;5;66;03m# `tf.debugging.disable_traceback_filtering()`\u001b[39;00m\n\u001b[1;32m---> 70\u001b[0m     \u001b[38;5;28;01mraise\u001b[39;00m e\u001b[38;5;241m.\u001b[39mwith_traceback(filtered_tb) \u001b[38;5;28;01mfrom\u001b[39;00m \u001b[38;5;28;01mNone\u001b[39;00m\n\u001b[0;32m     71\u001b[0m \u001b[38;5;28;01mfinally\u001b[39;00m:\n\u001b[0;32m     72\u001b[0m     \u001b[38;5;28;01mdel\u001b[39;00m filtered_tb\n",
      "File \u001b[1;32mc:\\Users\\Sorra\\anaconda3\\envs\\gpu\\lib\\site-packages\\keras\\saving\\saved_model\\load.py:220\u001b[0m, in \u001b[0;36m_read_legacy_metadata\u001b[1;34m(object_graph_def, metadata, path)\u001b[0m\n\u001b[0;32m    214\u001b[0m \u001b[38;5;28;01mif\u001b[39;00m (\n\u001b[0;32m    215\u001b[0m     proto\u001b[38;5;241m.\u001b[39mWhichOneof(\u001b[38;5;124m\"\u001b[39m\u001b[38;5;124mkind\u001b[39m\u001b[38;5;124m\"\u001b[39m) \u001b[38;5;241m==\u001b[39m \u001b[38;5;124m\"\u001b[39m\u001b[38;5;124muser_object\u001b[39m\u001b[38;5;124m\"\u001b[39m\n\u001b[0;32m    216\u001b[0m     \u001b[38;5;129;01mand\u001b[39;00m proto\u001b[38;5;241m.\u001b[39muser_object\u001b[38;5;241m.\u001b[39midentifier\n\u001b[0;32m    217\u001b[0m     \u001b[38;5;129;01min\u001b[39;00m constants\u001b[38;5;241m.\u001b[39mKERAS_OBJECT_IDENTIFIERS\n\u001b[0;32m    218\u001b[0m ):\n\u001b[0;32m    219\u001b[0m     \u001b[38;5;28;01mif\u001b[39;00m \u001b[38;5;129;01mnot\u001b[39;00m proto\u001b[38;5;241m.\u001b[39muser_object\u001b[38;5;241m.\u001b[39mmetadata:\n\u001b[1;32m--> 220\u001b[0m         \u001b[38;5;28;01mraise\u001b[39;00m \u001b[38;5;167;01mValueError\u001b[39;00m(\n\u001b[0;32m    221\u001b[0m             \u001b[38;5;124m\"\u001b[39m\u001b[38;5;124mUnable to create a Keras model from SavedModel at \u001b[39m\u001b[38;5;124m\"\u001b[39m\n\u001b[0;32m    222\u001b[0m             \u001b[38;5;124mf\u001b[39m\u001b[38;5;124m\"\u001b[39m\u001b[38;5;132;01m{\u001b[39;00mpath\u001b[38;5;132;01m}\u001b[39;00m\u001b[38;5;124m. This SavedModel was exported with \u001b[39m\u001b[38;5;124m\"\u001b[39m\n\u001b[0;32m    223\u001b[0m             \u001b[38;5;124m\"\u001b[39m\u001b[38;5;124m`tf.saved_model.save`, and lacks the Keras metadata file. \u001b[39m\u001b[38;5;124m\"\u001b[39m\n\u001b[0;32m    224\u001b[0m             \u001b[38;5;124m\"\u001b[39m\u001b[38;5;124mPlease save your Keras model by calling `model.save` \u001b[39m\u001b[38;5;124m\"\u001b[39m\n\u001b[0;32m    225\u001b[0m             \u001b[38;5;124m\"\u001b[39m\u001b[38;5;124mor `tf.keras.models.save_model`. Note that \u001b[39m\u001b[38;5;124m\"\u001b[39m\n\u001b[0;32m    226\u001b[0m             \u001b[38;5;124m\"\u001b[39m\u001b[38;5;124myou can still load this SavedModel with \u001b[39m\u001b[38;5;124m\"\u001b[39m\n\u001b[0;32m    227\u001b[0m             \u001b[38;5;124m\"\u001b[39m\u001b[38;5;124m`tf.saved_model.load`.\u001b[39m\u001b[38;5;124m\"\u001b[39m\n\u001b[0;32m    228\u001b[0m         )\n\u001b[0;32m    229\u001b[0m     metadata\u001b[38;5;241m.\u001b[39mnodes\u001b[38;5;241m.\u001b[39madd(\n\u001b[0;32m    230\u001b[0m         node_id\u001b[38;5;241m=\u001b[39mnode_id,\n\u001b[0;32m    231\u001b[0m         node_path\u001b[38;5;241m=\u001b[39mnode_paths[node_id],\n\u001b[1;32m   (...)\u001b[0m\n\u001b[0;32m    236\u001b[0m         metadata\u001b[38;5;241m=\u001b[39mproto\u001b[38;5;241m.\u001b[39muser_object\u001b[38;5;241m.\u001b[39mmetadata,\n\u001b[0;32m    237\u001b[0m     )\n",
      "\u001b[1;31mValueError\u001b[0m: Unable to create a Keras model from SavedModel at pavement_crack/image_classifier/best_model. This SavedModel was exported with `tf.saved_model.save`, and lacks the Keras metadata file. Please save your Keras model by calling `model.save` or `tf.keras.models.save_model`. Note that you can still load this SavedModel with `tf.saved_model.load`."
     ]
    }
   ],
   "source": [
    "from tensorflow.keras.preprocessing import image\n",
    "import numpy as np\n",
    "\n",
    "# Загрузка лучшей модели с использованием параметра load_best=True\n",
    "best_model_path = 'pavement_crack/image_classifier/best_model'\n",
    "loaded_model = load_model(best_model_path)\n",
    "\n",
    "# Загрузка и предобработка нового изображения\n",
    "new_image_path = '3.jpg'\n",
    "img = image.load_img(new_image_path, target_size=(256, 256))\n",
    "img_array = image.img_to_array(img)\n",
    "img_array = np.expand_dims(img_array, axis=0)\n",
    "img_array /= 255.0  # Нормализация значений пикселей\n",
    "\n",
    "# Загрузка лучшей модели\n",
    "loaded_model = load_model(best_model_path)\n",
    "\n",
    "# Предсказание класса для нового изображения\n",
    "predictions = loaded_model.predict(img_array)\n",
    "\n",
    "# Получение предсказанного класса\n",
    "predicted_class = np.argmax(predictions)\n",
    "\n",
    "# Вывод результата предсказания\n",
    "print(f\"Предсказанный класс: {predicted_class}\")\n"
   ]
  },
  {
   "cell_type": "code",
   "execution_count": 4,
   "metadata": {},
   "outputs": [
    {
     "name": "stdout",
     "output_type": "stream",
     "text": [
      "1/1 [==============================] - 1s 990ms/step\n",
      "1/1 [==============================] - 0s 18ms/step\n",
      "Предсказание: aronnik\n"
     ]
    }
   ],
   "source": [
    "import cv2\n",
    "import numpy as np\n",
    "\n",
    "# Путь к новому изображению\n",
    "new_image_path = '2.jpg'\n",
    "\n",
    "# Загрузка нового изображения\n",
    "new_img = cv2.imread(new_image_path)\n",
    "\n",
    "# Проверка на успешность загрузки\n",
    "if new_img is not None:\n",
    "    # Изменение размера изображения\n",
    "    new_img_resized = cv2.resize(new_img, (256, 256))\n",
    "\n",
    "    # Преобразование изображения в массив numpy\n",
    "    new_img_array = np.array([new_img_resized])\n",
    "\n",
    "    # Получение предсказания от модели AutoKeras\n",
    "    predictions = clf.predict(new_img_array)\n",
    "\n",
    "    # Получение индекса максимального значения в каждой строке предсказания\n",
    "    predicted_class_index = np.argmax(predictions, axis=1)\n",
    "\n",
    "    # Раскодирование предсказанного класса (если метки были закодированы)\n",
    "    decoded_prediction = label_encoder.inverse_transform(predicted_class_index)\n",
    "\n",
    "    print(f\"Предсказание: {decoded_prediction[0]}\")\n",
    "else:\n",
    "    print(\"Ошибка загрузки изображения.\")\n"
   ]
  },
  {
   "cell_type": "code",
   "execution_count": 9,
   "metadata": {},
   "outputs": [
    {
     "name": "stdout",
     "output_type": "stream",
     "text": [
      "1/1 [==============================] - 1s 680ms/step\n",
      "1/1 [==============================] - 0s 22ms/step\n",
      "Предсказание: aronnik\n",
      "Индекс класса: 0\n"
     ]
    }
   ],
   "source": [
    "import cv2\n",
    "import numpy as np\n",
    "\n",
    "# Путь к новому изображению\n",
    "new_image_path = '4.jpg'\n",
    "\n",
    "# Загрузка нового изображения\n",
    "new_img = cv2.imread(new_image_path)\n",
    "\n",
    "# Проверка на успешность загрузки\n",
    "if new_img is not None:\n",
    "    # Изменение размера изображения\n",
    "    new_img_resized = cv2.resize(new_img, (256, 256))\n",
    "\n",
    "    # Преобразование изображения в массив numpy\n",
    "    new_img_array = np.array([new_img_resized])\n",
    "\n",
    "    # Получение предсказания от модели AutoKeras\n",
    "    predictions = clf.predict(new_img_array)\n",
    "\n",
    "    # Получение индекса максимального значения в каждой строке предсказания\n",
    "    predicted_class_index = np.argmax(predictions, axis=1)\n",
    "\n",
    "    # Раскодирование предсказанного класса (если метки были закодированы)\n",
    "    decoded_prediction = label_encoder.inverse_transform(predicted_class_index)\n",
    "\n",
    "    print(f\"Предсказание: {decoded_prediction[0]}\")\n",
    "    print(f\"Индекс класса: {predicted_class_index[0]}\")\n",
    "else:\n",
    "    print(\"Ошибка загрузки изображения.\")\n"
   ]
  }
 ],
 "metadata": {
  "kernelspec": {
   "display_name": "gpu-3060",
   "language": "python",
   "name": "python3"
  },
  "language_info": {
   "codemirror_mode": {
    "name": "ipython",
    "version": 3
   },
   "file_extension": ".py",
   "mimetype": "text/x-python",
   "name": "python",
   "nbconvert_exporter": "python",
   "pygments_lexer": "ipython3",
   "version": "3.9.18"
  }
 },
 "nbformat": 4,
 "nbformat_minor": 2
}
