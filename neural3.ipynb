{
 "cells": [
  {
   "cell_type": "code",
   "execution_count": 1,
   "metadata": {},
   "outputs": [
    {
     "name": "stdout",
     "output_type": "stream",
     "text": [
      "Папка aronnik: 1 неправильных файлов\n",
      "Папка barbaris: 2 неправильных файлов\n",
      "Папка belladonna: 2 неправильных файлов\n",
      "Папка belokrilnik: 4 неправильных файлов\n",
      "Папка beresklet: 1 неправильных файлов\n",
      "Папка biryuchina: 4 неправильных файлов\n",
      "Папка boyaroshnik: 0 неправильных файлов\n",
      "Папка brusnika: 3 неправильных файлов\n",
      "Папка buzina: 4 неправильных файлов\n",
      "Папка buzina_yad: 1 неправильных файлов\n",
      "Папка cheremuha: 1 неправильных файлов\n",
      "Папка chernika: 7 неправильных файлов\n",
      "Папка ezevika: 0 неправильных файлов\n",
      "Папка fitolakka: 5 неправильных файлов\n",
      "Папка gimolost: 6 неправильных файлов\n",
      "Папка gimolost_les: 5 неправильных файлов\n",
      "Папка godgi: 2 неправильных файлов\n",
      "Папка golubika: 2 неправильных файлов\n",
      "Папка irga: 4 неправильных файлов\n",
      "Папка kalina: 1 неправильных файлов\n",
      "Папка klukva: 1 неправильных файлов\n",
      "Папка kostyanika: 3 неправильных файлов\n",
      "Папка krizovnik: 6 неправильных файлов\n",
      "Папка krushina: 3 неправильных файлов\n",
      "Папка kupena: 1 неправильных файлов\n",
      "Папка landish: 3 неправильных файлов\n",
      "Папка magonia: 5 неправильных файлов\n",
      "Папка malina: 2 неправильных файлов\n",
      "Папка mogevelnik: 3 неправильных файлов\n",
      "Папка moroshka: 1 неправильных файлов\n",
      "Папка oblepiha: 3 неправильных файлов\n",
      "Папка paslen_chern: 2 неправильных файлов\n",
      "Папка paslen_slad: 1 неправильных файлов\n",
      "Папка ryabina: 1 неправильных файлов\n",
      "Папка ryabina_cherno: 4 неправильных файлов\n",
      "Папка shelkovica: 3 неправильных файлов\n",
      "Папка shipovnik: 2 неправильных файлов\n",
      "Папка smorodina: 3 неправильных файлов\n",
      "Папка snegno: 2 неправильных файлов\n",
      "Папка tis: 2 неправильных файлов\n",
      "Папка vinograd_dev: 6 неправильных файлов\n",
      "Папка vishnya: 2 неправильных файлов\n",
      "Папка volche_liko: 0 неправильных файлов\n",
      "Папка voronec: 2 неправильных файлов\n",
      "Папка voroniy_glaz: 3 неправильных файлов\n",
      "Папка zemlenika: 3 неправильных файлов\n"
     ]
    }
   ],
   "source": [
    "import os\n",
    "import cv2\n",
    "import numpy as np\n",
    "from sklearn.model_selection import train_test_split\n",
    "from sklearn.preprocessing import LabelEncoder\n",
    "import pickle\n",
    "\n",
    "# Путь к вашей папке с данными\n",
    "data_path = r'D:\\diplom_baza\\baza_copy'\n",
    "\n",
    "# Инициализация списков для данных и меток\n",
    "X = []\n",
    "y = []\n",
    "\n",
    "# Целевое разрешение изображений\n",
    "target_resolution = (300, 300)\n",
    "\n",
    "# Словарь для хранения счетчика неправильных файлов для каждой папки\n",
    "invalid_file_counts = {}\n",
    "\n",
    "# Проход по всем классам в папке\n",
    "for class_folder in os.listdir(data_path):\n",
    "    class_path = os.path.join(data_path, class_folder)\n",
    "    \n",
    "    # Инициализация счетчика неправильных файлов для текущей папки\n",
    "    invalid_file_count = 0\n",
    "    \n",
    "    # Проход по изображениям в каждом классе\n",
    "    for image_file in os.listdir(class_path):\n",
    "        image_path = os.path.join(class_path, image_file)\n",
    "        \n",
    "        # Загрузка изображения с использованием opencv\n",
    "        img = cv2.imread(image_path)\n",
    "        \n",
    "        # Проверка на успешность загрузки\n",
    "        if img is not None:\n",
    "            # Изменение размера изображения\n",
    "            img = cv2.resize(img, target_resolution)\n",
    "            \n",
    "            # Преобразование изображения в массив и добавление в список X\n",
    "            X.append(img)\n",
    "            \n",
    "            # Добавление метки класса в список y\n",
    "            y.append(class_folder)\n",
    "        else:\n",
    "            # Увеличение счетчика неправильных файлов для текущей папки\n",
    "            invalid_file_count += 1\n",
    "    \n",
    "    # Сохранение счетчика неправильных файлов для текущей папки в словаре\n",
    "    invalid_file_counts[class_folder] = invalid_file_count\n",
    "\n",
    "# Преобразование списков в массивы numpy\n",
    "X = np.array(X)\n",
    "y = np.array(y)\n",
    "\n",
    "# Разделение данных на обучающий и тестовый наборы\n",
    "X_train, X_test, y_train, y_test = train_test_split(X, y, test_size=0.1, random_state=42)\n",
    "\n",
    "# Разделение обучающего набора на обучающий и валидационный\n",
    "X_train, X_val, y_train, y_val = train_test_split(X_train, y_train, test_size=0.1, random_state=42)\n",
    "\n",
    "# Инициализация и обучение label_encoder\n",
    "label_encoder = LabelEncoder()\n",
    "y_train_encoded = label_encoder.fit_transform(y_train)\n",
    "y_val_encoded = label_encoder.transform(y_val)\n",
    "# Вывод счетчика неправильных файлов для каждой папки\n",
    "for class_folder, count in invalid_file_counts.items():\n",
    "    print(f\"Папка {class_folder}: {count} неправильных файлов\")"
   ]
  },
  {
   "cell_type": "code",
   "execution_count": 2,
   "metadata": {},
   "outputs": [
    {
     "name": "stdout",
     "output_type": "stream",
     "text": [
      "Размерности массивов:\n",
      "X_train: (5360, 300, 300, 3)\n",
      "y_train: (5360,)\n",
      "X_val: (662, 300, 300, 3)\n",
      "y_val: (662,)\n"
     ]
    }
   ],
   "source": [
    "# Проверка размерностей массивов\n",
    "print(\"Размерности массивов:\")\n",
    "print(\"X_train:\", X_train.shape)\n",
    "print(\"y_train:\", y_train.shape)\n",
    "print(\"X_val:\", X_test.shape)\n",
    "print(\"y_val:\", y_test.shape)"
   ]
  },
  {
   "cell_type": "code",
   "execution_count": 4,
   "metadata": {},
   "outputs": [
    {
     "name": "stdout",
     "output_type": "stream",
     "text": [
      "Trial 5 Complete [01h 58m 12s]\n",
      "val_accuracy: 0.899328887462616\n",
      "\n",
      "Best val_accuracy So Far: 0.9244966506958008\n",
      "Total elapsed time: 04h 55m 44s\n",
      "WARNING:tensorflow:Using a while_loop for converting RngReadAndSkip\n",
      "WARNING:tensorflow:Using a while_loop for converting Bitcast\n",
      "WARNING:tensorflow:Using a while_loop for converting Bitcast\n",
      "WARNING:tensorflow:Using a while_loop for converting StatelessRandomUniformV2\n",
      "WARNING:tensorflow:Using a while_loop for converting RngReadAndSkip\n",
      "WARNING:tensorflow:Using a while_loop for converting Bitcast\n",
      "WARNING:tensorflow:Using a while_loop for converting Bitcast\n",
      "WARNING:tensorflow:Using a while_loop for converting StatelessRandomUniformV2\n",
      "WARNING:tensorflow:Using a while_loop for converting ImageProjectiveTransformV3\n",
      "Epoch 1/10\n",
      "WARNING:tensorflow:Using a while_loop for converting RngReadAndSkip\n",
      "WARNING:tensorflow:Using a while_loop for converting Bitcast\n",
      "WARNING:tensorflow:Using a while_loop for converting Bitcast\n",
      "WARNING:tensorflow:Using a while_loop for converting StatelessRandomUniformV2\n",
      "WARNING:tensorflow:Using a while_loop for converting RngReadAndSkip\n",
      "WARNING:tensorflow:Using a while_loop for converting Bitcast\n",
      "WARNING:tensorflow:Using a while_loop for converting Bitcast\n",
      "WARNING:tensorflow:Using a while_loop for converting StatelessRandomUniformV2\n",
      "WARNING:tensorflow:Using a while_loop for converting ImageProjectiveTransformV3\n",
      "WARNING:tensorflow:Using a while_loop for converting RngReadAndSkip\n",
      "WARNING:tensorflow:Using a while_loop for converting Bitcast\n",
      "WARNING:tensorflow:Using a while_loop for converting Bitcast\n",
      "WARNING:tensorflow:Using a while_loop for converting StatelessRandomUniformV2\n",
      "WARNING:tensorflow:Using a while_loop for converting RngReadAndSkip\n",
      "WARNING:tensorflow:Using a while_loop for converting Bitcast\n",
      "WARNING:tensorflow:Using a while_loop for converting Bitcast\n",
      "WARNING:tensorflow:Using a while_loop for converting StatelessRandomUniformV2\n",
      "WARNING:tensorflow:Using a while_loop for converting ImageProjectiveTransformV3\n",
      "Not enough memory, reduce batch size to 16.\n",
      "Epoch 1/10\n",
      "Not enough memory, reduce batch size to 8.\n",
      "Epoch 1/10\n",
      "Not enough memory, reduce batch size to 4.\n",
      "Epoch 1/10\n",
      "1340/1340 [==============================] - 684s 510ms/step - loss: 3.1661 - accuracy: 0.2731 - val_loss: 2.0668 - val_accuracy: 0.6393\n",
      "Epoch 2/10\n",
      "1340/1340 [==============================] - 703s 525ms/step - loss: 1.5671 - accuracy: 0.6603 - val_loss: 0.9108 - val_accuracy: 0.8205\n",
      "Epoch 3/10\n",
      "1340/1340 [==============================] - 704s 526ms/step - loss: 0.8044 - accuracy: 0.8390 - val_loss: 0.5605 - val_accuracy: 0.8674\n",
      "Epoch 4/10\n",
      "1340/1340 [==============================] - 723s 540ms/step - loss: 0.4036 - accuracy: 0.9341 - val_loss: 0.4552 - val_accuracy: 0.8775\n",
      "Epoch 5/10\n",
      "1340/1340 [==============================] - 721s 538ms/step - loss: 0.1910 - accuracy: 0.9800 - val_loss: 0.4193 - val_accuracy: 0.8758\n",
      "Epoch 6/10\n",
      "1340/1340 [==============================] - 720s 538ms/step - loss: 0.1005 - accuracy: 0.9914 - val_loss: 0.3747 - val_accuracy: 0.8943\n",
      "Epoch 7/10\n",
      "1340/1340 [==============================] - 720s 537ms/step - loss: 0.0594 - accuracy: 0.9961 - val_loss: 0.3751 - val_accuracy: 0.8876\n",
      "Epoch 8/10\n",
      "1340/1340 [==============================] - 721s 538ms/step - loss: 0.0434 - accuracy: 0.9970 - val_loss: 0.3875 - val_accuracy: 0.8977\n",
      "Epoch 9/10\n",
      "1340/1340 [==============================] - 725s 541ms/step - loss: 0.0287 - accuracy: 0.9983 - val_loss: 0.4053 - val_accuracy: 0.8893\n",
      "Epoch 10/10\n",
      "1340/1340 [==============================] - 727s 543ms/step - loss: 0.0189 - accuracy: 0.9993 - val_loss: 0.4082 - val_accuracy: 0.8859\n",
      "WARNING:tensorflow:Using a while_loop for converting RngReadAndSkip\n",
      "WARNING:tensorflow:Using a while_loop for converting Bitcast\n",
      "WARNING:tensorflow:Using a while_loop for converting Bitcast\n",
      "WARNING:tensorflow:Using a while_loop for converting StatelessRandomUniformV2\n",
      "WARNING:tensorflow:Using a while_loop for converting RngReadAndSkip\n",
      "WARNING:tensorflow:Using a while_loop for converting Bitcast\n",
      "WARNING:tensorflow:Using a while_loop for converting Bitcast\n",
      "WARNING:tensorflow:Using a while_loop for converting StatelessRandomUniformV2\n",
      "WARNING:tensorflow:Using a while_loop for converting ImageProjectiveTransformV3\n",
      "WARNING:tensorflow:Using a while_loop for converting RngReadAndSkip\n",
      "WARNING:tensorflow:Using a while_loop for converting Bitcast\n",
      "WARNING:tensorflow:Using a while_loop for converting Bitcast\n",
      "WARNING:tensorflow:Using a while_loop for converting StatelessRandomUniformV2\n",
      "WARNING:tensorflow:Using a while_loop for converting RngReadAndSkip\n",
      "WARNING:tensorflow:Using a while_loop for converting Bitcast\n",
      "WARNING:tensorflow:Using a while_loop for converting Bitcast\n",
      "WARNING:tensorflow:Using a while_loop for converting StatelessRandomUniformV2\n",
      "WARNING:tensorflow:Using a while_loop for converting ImageProjectiveTransformV3\n",
      "WARNING:tensorflow:Using a while_loop for converting RngReadAndSkip\n",
      "WARNING:tensorflow:Using a while_loop for converting Bitcast\n",
      "WARNING:tensorflow:Using a while_loop for converting Bitcast\n",
      "WARNING:tensorflow:Using a while_loop for converting StatelessRandomUniformV2\n",
      "WARNING:tensorflow:Using a while_loop for converting RngReadAndSkip\n",
      "WARNING:tensorflow:Using a while_loop for converting Bitcast\n",
      "WARNING:tensorflow:Using a while_loop for converting Bitcast\n",
      "WARNING:tensorflow:Using a while_loop for converting StatelessRandomUniformV2\n",
      "WARNING:tensorflow:Using a while_loop for converting ImageProjectiveTransformV3\n"
     ]
    },
    {
     "name": "stderr",
     "output_type": "stream",
     "text": [
      "WARNING:absl:Found untraced functions such as _jit_compiled_convolution_op, _jit_compiled_convolution_op, _jit_compiled_convolution_op, _jit_compiled_convolution_op, _jit_compiled_convolution_op while saving (showing 5 of 273). These functions will not be directly callable after loading.\n"
     ]
    },
    {
     "name": "stdout",
     "output_type": "stream",
     "text": [
      "INFO:tensorflow:Assets written to: berries\\image_classifier\\best_model\\assets\n"
     ]
    },
    {
     "name": "stderr",
     "output_type": "stream",
     "text": [
      "INFO:tensorflow:Assets written to: berries\\image_classifier\\best_model\\assets\n"
     ]
    },
    {
     "name": "stdout",
     "output_type": "stream",
     "text": [
      "WARNING:tensorflow:Using a while_loop for converting RngReadAndSkip\n"
     ]
    },
    {
     "name": "stderr",
     "output_type": "stream",
     "text": [
      "WARNING:tensorflow:Using a while_loop for converting RngReadAndSkip\n"
     ]
    },
    {
     "name": "stdout",
     "output_type": "stream",
     "text": [
      "WARNING:tensorflow:Using a while_loop for converting Bitcast\n"
     ]
    },
    {
     "name": "stderr",
     "output_type": "stream",
     "text": [
      "WARNING:tensorflow:Using a while_loop for converting Bitcast\n"
     ]
    },
    {
     "name": "stdout",
     "output_type": "stream",
     "text": [
      "WARNING:tensorflow:Using a while_loop for converting Bitcast\n"
     ]
    },
    {
     "name": "stderr",
     "output_type": "stream",
     "text": [
      "WARNING:tensorflow:Using a while_loop for converting Bitcast\n"
     ]
    },
    {
     "name": "stdout",
     "output_type": "stream",
     "text": [
      "WARNING:tensorflow:Using a while_loop for converting StatelessRandomUniformV2\n"
     ]
    },
    {
     "name": "stderr",
     "output_type": "stream",
     "text": [
      "WARNING:tensorflow:Using a while_loop for converting StatelessRandomUniformV2\n"
     ]
    },
    {
     "name": "stdout",
     "output_type": "stream",
     "text": [
      "WARNING:tensorflow:Using a while_loop for converting RngReadAndSkip\n"
     ]
    },
    {
     "name": "stderr",
     "output_type": "stream",
     "text": [
      "WARNING:tensorflow:Using a while_loop for converting RngReadAndSkip\n"
     ]
    },
    {
     "name": "stdout",
     "output_type": "stream",
     "text": [
      "WARNING:tensorflow:Using a while_loop for converting Bitcast\n"
     ]
    },
    {
     "name": "stderr",
     "output_type": "stream",
     "text": [
      "WARNING:tensorflow:Using a while_loop for converting Bitcast\n"
     ]
    },
    {
     "name": "stdout",
     "output_type": "stream",
     "text": [
      "WARNING:tensorflow:Using a while_loop for converting Bitcast\n"
     ]
    },
    {
     "name": "stderr",
     "output_type": "stream",
     "text": [
      "WARNING:tensorflow:Using a while_loop for converting Bitcast\n"
     ]
    },
    {
     "name": "stdout",
     "output_type": "stream",
     "text": [
      "WARNING:tensorflow:Using a while_loop for converting StatelessRandomUniformV2\n"
     ]
    },
    {
     "name": "stderr",
     "output_type": "stream",
     "text": [
      "WARNING:tensorflow:Using a while_loop for converting StatelessRandomUniformV2\n"
     ]
    },
    {
     "name": "stdout",
     "output_type": "stream",
     "text": [
      "WARNING:tensorflow:Using a while_loop for converting ImageProjectiveTransformV3\n"
     ]
    },
    {
     "name": "stderr",
     "output_type": "stream",
     "text": [
      "WARNING:tensorflow:Using a while_loop for converting ImageProjectiveTransformV3\n"
     ]
    },
    {
     "name": "stdout",
     "output_type": "stream",
     "text": [
      "WARNING:tensorflow:Using a while_loop for converting RngReadAndSkip\n"
     ]
    },
    {
     "name": "stderr",
     "output_type": "stream",
     "text": [
      "WARNING:tensorflow:Using a while_loop for converting RngReadAndSkip\n"
     ]
    },
    {
     "name": "stdout",
     "output_type": "stream",
     "text": [
      "WARNING:tensorflow:Using a while_loop for converting Bitcast\n"
     ]
    },
    {
     "name": "stderr",
     "output_type": "stream",
     "text": [
      "WARNING:tensorflow:Using a while_loop for converting Bitcast\n"
     ]
    },
    {
     "name": "stdout",
     "output_type": "stream",
     "text": [
      "WARNING:tensorflow:Using a while_loop for converting Bitcast\n"
     ]
    },
    {
     "name": "stderr",
     "output_type": "stream",
     "text": [
      "WARNING:tensorflow:Using a while_loop for converting Bitcast\n"
     ]
    },
    {
     "name": "stdout",
     "output_type": "stream",
     "text": [
      "WARNING:tensorflow:Using a while_loop for converting StatelessRandomUniformV2\n"
     ]
    },
    {
     "name": "stderr",
     "output_type": "stream",
     "text": [
      "WARNING:tensorflow:Using a while_loop for converting StatelessRandomUniformV2\n"
     ]
    },
    {
     "name": "stdout",
     "output_type": "stream",
     "text": [
      "WARNING:tensorflow:Using a while_loop for converting RngReadAndSkip\n"
     ]
    },
    {
     "name": "stderr",
     "output_type": "stream",
     "text": [
      "WARNING:tensorflow:Using a while_loop for converting RngReadAndSkip\n"
     ]
    },
    {
     "name": "stdout",
     "output_type": "stream",
     "text": [
      "WARNING:tensorflow:Using a while_loop for converting Bitcast\n"
     ]
    },
    {
     "name": "stderr",
     "output_type": "stream",
     "text": [
      "WARNING:tensorflow:Using a while_loop for converting Bitcast\n"
     ]
    },
    {
     "name": "stdout",
     "output_type": "stream",
     "text": [
      "WARNING:tensorflow:Using a while_loop for converting Bitcast\n"
     ]
    },
    {
     "name": "stderr",
     "output_type": "stream",
     "text": [
      "WARNING:tensorflow:Using a while_loop for converting Bitcast\n"
     ]
    },
    {
     "name": "stdout",
     "output_type": "stream",
     "text": [
      "WARNING:tensorflow:Using a while_loop for converting StatelessRandomUniformV2\n"
     ]
    },
    {
     "name": "stderr",
     "output_type": "stream",
     "text": [
      "WARNING:tensorflow:Using a while_loop for converting StatelessRandomUniformV2\n"
     ]
    },
    {
     "name": "stdout",
     "output_type": "stream",
     "text": [
      "WARNING:tensorflow:Using a while_loop for converting ImageProjectiveTransformV3\n"
     ]
    },
    {
     "name": "stderr",
     "output_type": "stream",
     "text": [
      "WARNING:tensorflow:Using a while_loop for converting ImageProjectiveTransformV3\n"
     ]
    },
    {
     "name": "stdout",
     "output_type": "stream",
     "text": [
      "WARNING:tensorflow:Using a while_loop for converting RngReadAndSkip\n"
     ]
    },
    {
     "name": "stderr",
     "output_type": "stream",
     "text": [
      "WARNING:tensorflow:Using a while_loop for converting RngReadAndSkip\n"
     ]
    },
    {
     "name": "stdout",
     "output_type": "stream",
     "text": [
      "WARNING:tensorflow:Using a while_loop for converting Bitcast\n"
     ]
    },
    {
     "name": "stderr",
     "output_type": "stream",
     "text": [
      "WARNING:tensorflow:Using a while_loop for converting Bitcast\n"
     ]
    },
    {
     "name": "stdout",
     "output_type": "stream",
     "text": [
      "WARNING:tensorflow:Using a while_loop for converting Bitcast\n"
     ]
    },
    {
     "name": "stderr",
     "output_type": "stream",
     "text": [
      "WARNING:tensorflow:Using a while_loop for converting Bitcast\n"
     ]
    },
    {
     "name": "stdout",
     "output_type": "stream",
     "text": [
      "WARNING:tensorflow:Using a while_loop for converting StatelessRandomUniformV2\n"
     ]
    },
    {
     "name": "stderr",
     "output_type": "stream",
     "text": [
      "WARNING:tensorflow:Using a while_loop for converting StatelessRandomUniformV2\n"
     ]
    },
    {
     "name": "stdout",
     "output_type": "stream",
     "text": [
      "WARNING:tensorflow:Using a while_loop for converting RngReadAndSkip\n"
     ]
    },
    {
     "name": "stderr",
     "output_type": "stream",
     "text": [
      "WARNING:tensorflow:Using a while_loop for converting RngReadAndSkip\n"
     ]
    },
    {
     "name": "stdout",
     "output_type": "stream",
     "text": [
      "WARNING:tensorflow:Using a while_loop for converting Bitcast\n"
     ]
    },
    {
     "name": "stderr",
     "output_type": "stream",
     "text": [
      "WARNING:tensorflow:Using a while_loop for converting Bitcast\n"
     ]
    },
    {
     "name": "stdout",
     "output_type": "stream",
     "text": [
      "WARNING:tensorflow:Using a while_loop for converting Bitcast\n"
     ]
    },
    {
     "name": "stderr",
     "output_type": "stream",
     "text": [
      "WARNING:tensorflow:Using a while_loop for converting Bitcast\n"
     ]
    },
    {
     "name": "stdout",
     "output_type": "stream",
     "text": [
      "WARNING:tensorflow:Using a while_loop for converting StatelessRandomUniformV2\n"
     ]
    },
    {
     "name": "stderr",
     "output_type": "stream",
     "text": [
      "WARNING:tensorflow:Using a while_loop for converting StatelessRandomUniformV2\n"
     ]
    },
    {
     "name": "stdout",
     "output_type": "stream",
     "text": [
      "WARNING:tensorflow:Using a while_loop for converting ImageProjectiveTransformV3\n"
     ]
    },
    {
     "name": "stderr",
     "output_type": "stream",
     "text": [
      "WARNING:tensorflow:Using a while_loop for converting ImageProjectiveTransformV3\n",
      "WARNING:absl:Found untraced functions such as _jit_compiled_convolution_op, _jit_compiled_convolution_op, _jit_compiled_convolution_op, _jit_compiled_convolution_op, _jit_compiled_convolution_op while saving (showing 5 of 273). These functions will not be directly callable after loading.\n"
     ]
    },
    {
     "name": "stdout",
     "output_type": "stream",
     "text": [
      "INFO:tensorflow:Assets written to: best_autokeras_model\\assets\n"
     ]
    },
    {
     "name": "stderr",
     "output_type": "stream",
     "text": [
      "INFO:tensorflow:Assets written to: best_autokeras_model\\assets\n"
     ]
    }
   ],
   "source": [
    "import autokeras as ak\n",
    "import pickle\n",
    "\n",
    "clf = ak.ImageClassifier(\n",
    "    max_trials=5,\n",
    "    objective='val_accuracy',\n",
    "    directory='berries',\n",
    "    overwrite=True)\n",
    "\n",
    "# Обучение с использованием валидационного набора\n",
    "clf.fit(X_train, y_train_encoded, epochs=10, validation_data=(X_val, y_val_encoded), verbose=1)\n",
    "\n",
    "# Сохранение label_encoder в файл\n",
    "with open('label_encoder.pkl', 'wb') as le_file:\n",
    "    pickle.dump(label_encoder, le_file)\n",
    "\n",
    "# Сохранение словаря invalid_file_counts в файл\n",
    "with open('invalid_file_counts.pkl', 'wb') as ifc_file:\n",
    "    pickle.dump(invalid_file_counts, ifc_file)\n",
    "\n",
    "# Сохранение лучшей модели\n",
    "best_model = clf.export_model()\n",
    "best_model.save('best_autokeras_model')\n",
    "best_model.save('best_model3.h5')"
   ]
  },
  {
   "cell_type": "code",
   "execution_count": 5,
   "metadata": {},
   "outputs": [
    {
     "name": "stdout",
     "output_type": "stream",
     "text": [
      "Model: \"model\"\n",
      "_________________________________________________________________\n",
      " Layer (type)                Output Shape              Param #   \n",
      "=================================================================\n",
      " input_1 (InputLayer)        [(None, 300, 300, 3)]     0         \n",
      "                                                                 \n",
      " cast_to_float32 (CastToFloa  (None, 300, 300, 3)      0         \n",
      " t32)                                                            \n",
      "                                                                 \n",
      " normalization (Normalizatio  (None, 300, 300, 3)      7         \n",
      " n)                                                              \n",
      "                                                                 \n",
      " random_translation (RandomT  (None, 300, 300, 3)      0         \n",
      " ranslation)                                                     \n",
      "                                                                 \n",
      " random_flip (RandomFlip)    (None, 300, 300, 3)       0         \n",
      "                                                                 \n",
      " efficientnetb7 (Functional)  (None, None, None, 2560)  64097687 \n",
      "                                                                 \n",
      " global_average_pooling2d (G  (None, 2560)             0         \n",
      " lobalAveragePooling2D)                                          \n",
      "                                                                 \n",
      " dense (Dense)               (None, 46)                117806    \n",
      "                                                                 \n",
      " classification_head_1 (Soft  (None, 46)               0         \n",
      " max)                                                            \n",
      "                                                                 \n",
      "=================================================================\n",
      "Total params: 64,215,500\n",
      "Trainable params: 63,904,766\n",
      "Non-trainable params: 310,734\n",
      "_________________________________________________________________\n"
     ]
    }
   ],
   "source": [
    "import pickle\n",
    "from tensorflow.keras.models import load_model\n",
    "import cv2\n",
    "import numpy as np\n",
    "import autokeras as ak\n",
    "\n",
    "with open('label_encoder.pkl', 'rb') as le_file:\n",
    "    label_encoder = pickle.load(le_file)\n",
    "\n",
    "with open('invalid_file_counts.pkl', 'rb') as ifc_file:\n",
    "    invalid_file_counts = pickle.load(ifc_file)\n",
    "\n",
    "loaded_model = load_model('best_autokeras_model', custom_objects=ak.CUSTOM_OBJECTS)\n",
    "loaded_model.summary()"
   ]
  },
  {
   "cell_type": "code",
   "execution_count": 6,
   "metadata": {},
   "outputs": [
    {
     "name": "stdout",
     "output_type": "stream",
     "text": [
      "21/21 [==============================] - 17s 579ms/step - loss: 0.3914 - accuracy: 0.8882\n",
      "Test Accuracy: 0.8882175087928772\n"
     ]
    }
   ],
   "source": [
    "# Преобразование строковых меток тестового набора в числовые\n",
    "y_test_encoded = label_encoder.transform(y_test)\n",
    "\n",
    "# Оценка производительности на тестовых данных\n",
    "evaluation = clf.evaluate(X_test, y_test_encoded)\n",
    "print(\"Test Accuracy:\", evaluation[1])\n"
   ]
  }
 ],
 "metadata": {
  "kernelspec": {
   "display_name": "gpu",
   "language": "python",
   "name": "python3"
  },
  "language_info": {
   "codemirror_mode": {
    "name": "ipython",
    "version": 3
   },
   "file_extension": ".py",
   "mimetype": "text/x-python",
   "name": "python",
   "nbconvert_exporter": "python",
   "pygments_lexer": "ipython3",
   "version": "3.9.18"
  }
 },
 "nbformat": 4,
 "nbformat_minor": 2
}
