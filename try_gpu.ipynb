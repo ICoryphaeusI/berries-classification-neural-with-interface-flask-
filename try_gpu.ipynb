{
 "cells": [
  {
   "cell_type": "code",
   "execution_count": 2,
   "metadata": {},
   "outputs": [
    {
     "data": {
      "text/plain": [
       "[PhysicalDevice(name='/physical_device:GPU:0', device_type='GPU')]"
      ]
     },
     "execution_count": 2,
     "metadata": {},
     "output_type": "execute_result"
    }
   ],
   "source": [
    "import tensorflow as tf\n",
    "gpus = tf.config.experimental.list_physical_devices('GPU')\n",
    "gpus"
   ]
  },
  {
   "cell_type": "code",
   "execution_count": 2,
   "metadata": {},
   "outputs": [
    {
     "name": "stdout",
     "output_type": "stream",
     "text": [
      "Name: /physical_device:GPU:0, Type: GPU\n"
     ]
    }
   ],
   "source": [
    "import tensorflow as tf\n",
    "\n",
    "# Получаем список доступных устройств (CPU и GPU)\n",
    "devices = tf.config.experimental.list_physical_devices('GPU')\n",
    "\n",
    "if devices:\n",
    "    # Если есть GPU, выводим информацию о нем\n",
    "    for device in devices:\n",
    "        print(f\"Name: {device.name}, Type: {device.device_type}\")\n",
    "else:\n",
    "    print(\"No GPU devices found.\")\n"
   ]
  },
  {
   "cell_type": "code",
   "execution_count": 3,
   "metadata": {},
   "outputs": [
    {
     "name": "stdout",
     "output_type": "stream",
     "text": [
      "Device Name: /physical_device:GPU:0\n",
      "Device Type: GPU\n",
      "\n"
     ]
    }
   ],
   "source": [
    "import tensorflow as tf\n",
    "\n",
    "# Получаем список доступных устройств (CPU и GPU)\n",
    "devices = tf.config.list_physical_devices('GPU')\n",
    "\n",
    "if devices:\n",
    "    for device in devices:\n",
    "        # Получаем детальную информацию о каждом устройстве\n",
    "        print(\"Device Name:\", device.name)\n",
    "        print(\"Device Type:\", device.device_type)\n",
    "\n",
    "        # Воспользуемся библиотекой CUDA для получения дополнительных сведений о GPU\n",
    "        cuda_device = tf.test.gpu_device_name()\n",
    "        if cuda_device != '/device:GPU:0':\n",
    "            print(\"CUDA Device:\", cuda_device)\n",
    "        \n",
    "        print()\n",
    "else:\n",
    "    print(\"No GPU devices found.\")\n"
   ]
  },
  {
   "cell_type": "code",
   "execution_count": 1,
   "metadata": {},
   "outputs": [
    {
     "name": "stdout",
     "output_type": "stream",
     "text": [
      "Доступные устройства:\n",
      "Устройство: /physical_device:GPU:0, Тип: GPU\n",
      "\n",
      "Подробная информация о GPU:\n",
      "Устройство: /physical_device:GPU:0\n",
      "\tМодель: /device:GPU:0\n",
      "\tЛогические устройства: [LogicalDevice(name='/device:GPU:0', device_type='GPU')]\n",
      "\tВычислительные ресурсы: {'device_name': 'NVIDIA GeForce RTX 3060', 'compute_capability': (8, 6)}\n",
      "\n",
      "\n"
     ]
    }
   ],
   "source": [
    "import tensorflow as tf\n",
    "\n",
    "# Проверка доступности GPU\n",
    "print(\"Доступные устройства:\")\n",
    "physical_devices = tf.config.list_physical_devices('GPU')\n",
    "if len(physical_devices) == 0:\n",
    "    print(\"Графические процессоры не обнаружены. Убедитесь, что TensorFlow установлен с поддержкой GPU.\")\n",
    "else:\n",
    "    for device in physical_devices:\n",
    "        print(f\"Устройство: {device.name}, Тип: {device.device_type}\")\n",
    "\n",
    "# Вывод подробной информации о GPU\n",
    "if len(physical_devices) > 0:\n",
    "    print(\"\\nПодробная информация о GPU:\")\n",
    "    for device in physical_devices:\n",
    "        print(f\"Устройство: {device.name}\")\n",
    "        print(f\"\\tМодель: {tf.test.gpu_device_name()}\")\n",
    "        print(f\"\\tЛогические устройства: {tf.config.experimental.list_logical_devices('GPU')}\")\n",
    "        print(f\"\\tВычислительные ресурсы: {tf.config.experimental.get_device_details(device)}\")\n",
    "        print(\"\\n\")\n"
   ]
  },
  {
   "cell_type": "code",
   "execution_count": 5,
   "metadata": {},
   "outputs": [
    {
     "name": "stdout",
     "output_type": "stream",
     "text": [
      "GPU доступен и готов к использованию.\n"
     ]
    }
   ],
   "source": [
    "import tensorflow as tf\n",
    "\n",
    "# Проверка доступности GPU\n",
    "physical_devices = tf.config.list_physical_devices('GPU')\n",
    "if physical_devices:\n",
    "    print(\"GPU доступен и готов к использованию.\")\n",
    "else:\n",
    "    print(\"GPU не обнаружен или не готов к использованию.\")\n"
   ]
  },
  {
   "cell_type": "code",
   "execution_count": 1,
   "metadata": {},
   "outputs": [
    {
     "name": "stdout",
     "output_type": "stream",
     "text": [
      "Downloading data from https://storage.googleapis.com/tensorflow/tf-keras-datasets/train-labels-idx1-ubyte.gz\n",
      "32768/29515 [=================================] - 0s 1us/step\n",
      "40960/29515 [=========================================] - 0s 1us/step\n",
      "Downloading data from https://storage.googleapis.com/tensorflow/tf-keras-datasets/train-images-idx3-ubyte.gz\n",
      "26427392/26421880 [==============================] - 1s 0us/step\n",
      "26435584/26421880 [==============================] - 1s 0us/step\n",
      "Downloading data from https://storage.googleapis.com/tensorflow/tf-keras-datasets/t10k-labels-idx1-ubyte.gz\n",
      "16384/5148 [===============================================================================================] - 0s 0s/step\n",
      "Downloading data from https://storage.googleapis.com/tensorflow/tf-keras-datasets/t10k-images-idx3-ubyte.gz\n",
      "4423680/4422102 [==============================] - 0s 0us/step\n",
      "4431872/4422102 [==============================] - 0s 0us/step\n",
      "Epoch 1/5\n",
      "1875/1875 [==============================] - 6s 3ms/step - loss: 0.5306 - accuracy: 0.8128 - val_loss: 0.4378 - val_accuracy: 0.8431\n",
      "Epoch 2/5\n",
      "1875/1875 [==============================] - 5s 3ms/step - loss: 0.3993 - accuracy: 0.8548 - val_loss: 0.3931 - val_accuracy: 0.8589\n",
      "Epoch 3/5\n",
      "1875/1875 [==============================] - 6s 3ms/step - loss: 0.3651 - accuracy: 0.8680 - val_loss: 0.3727 - val_accuracy: 0.8668\n",
      "Epoch 4/5\n",
      "1875/1875 [==============================] - 6s 3ms/step - loss: 0.3438 - accuracy: 0.8734 - val_loss: 0.3536 - val_accuracy: 0.8735\n",
      "Epoch 5/5\n",
      "1875/1875 [==============================] - 6s 3ms/step - loss: 0.3305 - accuracy: 0.8789 - val_loss: 0.3577 - val_accuracy: 0.8703\n"
     ]
    },
    {
     "data": {
      "text/plain": [
       "<keras.callbacks.History at 0x18f6a5afd00>"
      ]
     },
     "execution_count": 1,
     "metadata": {},
     "output_type": "execute_result"
    }
   ],
   "source": [
    "import tensorflow as tf\n",
    "from tensorflow.keras import layers, models\n",
    "from tensorflow.keras.datasets import fashion_mnist\n",
    "from tensorflow.keras.utils import to_categorical\n",
    "\n",
    "# Загрузка и предобработка данных\n",
    "(train_images, train_labels), (test_images, test_labels) = fashion_mnist.load_data()\n",
    "\n",
    "# Масштабирование значений пикселей к диапазону [0, 1]\n",
    "train_images, test_images = train_images / 255.0, test_images / 255.0\n",
    "\n",
    "# Преобразование меток в формат one-hot\n",
    "train_labels = to_categorical(train_labels)\n",
    "test_labels = to_categorical(test_labels)\n",
    "\n",
    "# Создание простой нейронной сети\n",
    "model = models.Sequential([\n",
    "    layers.Flatten(input_shape=(28, 28)),  # Преобразование 28x28 изображения в одномерный массив\n",
    "    layers.Dense(128, activation='relu'),\n",
    "    layers.Dropout(0.2),  # Добавление dropout для уменьшения переобучения\n",
    "    layers.Dense(10, activation='softmax')  # 10 классов для Fashion MNIST\n",
    "])\n",
    "\n",
    "# Компиляция модели\n",
    "model.compile(optimizer='adam',\n",
    "              loss='categorical_crossentropy',\n",
    "              metrics=['accuracy'])\n",
    "\n",
    "# Обучение модели\n",
    "model.fit(train_images, train_labels, epochs=5, validation_data=(test_images, test_labels))\n"
   ]
  },
  {
   "cell_type": "code",
   "execution_count": 3,
   "metadata": {},
   "outputs": [
    {
     "name": "stdout",
     "output_type": "stream",
     "text": [
      "Доступные устройства: [PhysicalDevice(name='/physical_device:GPU:0', device_type='GPU')]\n",
      "Epoch 1/5\n",
      "1875/1875 [==============================] - 8s 4ms/step - loss: 0.5334 - accuracy: 0.8115 - val_loss: 0.4466 - val_accuracy: 0.8435\n",
      "Epoch 2/5\n",
      "1875/1875 [==============================] - 7s 4ms/step - loss: 0.3994 - accuracy: 0.8551 - val_loss: 0.3901 - val_accuracy: 0.8609\n",
      "Epoch 3/5\n",
      "1875/1875 [==============================] - 6s 3ms/step - loss: 0.3641 - accuracy: 0.8670 - val_loss: 0.3730 - val_accuracy: 0.8638\n",
      "Epoch 4/5\n",
      "1875/1875 [==============================] - 6s 3ms/step - loss: 0.3442 - accuracy: 0.8740 - val_loss: 0.3624 - val_accuracy: 0.8676\n",
      "Epoch 5/5\n",
      "1875/1875 [==============================] - 6s 3ms/step - loss: 0.3287 - accuracy: 0.8798 - val_loss: 0.3566 - val_accuracy: 0.8708\n"
     ]
    }
   ],
   "source": [
    "import tensorflow as tf\n",
    "\n",
    "# Проверка доступности GPU\n",
    "physical_devices = tf.config.list_physical_devices('GPU')\n",
    "if not physical_devices:\n",
    "    raise RuntimeError(\"Графические процессоры не обнаружены. Убедитесь, что TensorFlow установлен с поддержкой GPU.\")\n",
    "\n",
    "# Загрузка и предобработка данных (используем Fashion MNIST как пример)\n",
    "(train_images, train_labels), (test_images, test_labels) = tf.keras.datasets.fashion_mnist.load_data()\n",
    "train_images, test_images = train_images / 255.0, test_images / 255.0\n",
    "\n",
    "# Преобразование меток в формат one-hot\n",
    "train_labels = tf.keras.utils.to_categorical(train_labels)\n",
    "test_labels = tf.keras.utils.to_categorical(test_labels)\n",
    "\n",
    "# Создание и компиляция простой нейронной сети\n",
    "model = tf.keras.models.Sequential([\n",
    "    tf.keras.layers.Flatten(input_shape=(28, 28)),\n",
    "    tf.keras.layers.Dense(128, activation='relu'),\n",
    "    tf.keras.layers.Dropout(0.2),\n",
    "    tf.keras.layers.Dense(10, activation='softmax')\n",
    "])\n",
    "\n",
    "# Вывод информации о доступных устройствах (GPU или CPU)\n",
    "print(\"Доступные устройства:\", physical_devices)\n",
    "\n",
    "# Компиляция модели\n",
    "model.compile(optimizer='adam', loss='categorical_crossentropy', metrics=['accuracy'])\n",
    "\n",
    "# Обучение модели\n",
    "history = model.fit(train_images, train_labels, epochs=5, validation_data=(test_images, test_labels))\n"
   ]
  },
  {
   "cell_type": "code",
   "execution_count": 1,
   "metadata": {},
   "outputs": [
    {
     "name": "stdout",
     "output_type": "stream",
     "text": [
      "Доступные устройства: [PhysicalDevice(name='/physical_device:CPU:0', device_type='CPU'), PhysicalDevice(name='/physical_device:GPU:0', device_type='GPU')]\n",
      "Epoch 1/10\n",
      "1563/1563 [==============================] - 22s 14ms/step - loss: 1.5181 - accuracy: 0.4505 - val_loss: 1.2267 - val_accuracy: 0.5609\n",
      "Epoch 2/10\n",
      "1563/1563 [==============================] - 21s 13ms/step - loss: 1.1526 - accuracy: 0.5918 - val_loss: 1.0773 - val_accuracy: 0.6185\n",
      "Epoch 3/10\n",
      "1563/1563 [==============================] - 21s 13ms/step - loss: 0.9942 - accuracy: 0.6524 - val_loss: 0.9730 - val_accuracy: 0.6590\n",
      "Epoch 4/10\n",
      "1563/1563 [==============================] - 21s 13ms/step - loss: 0.8933 - accuracy: 0.6871 - val_loss: 0.9142 - val_accuracy: 0.6784\n",
      "Epoch 5/10\n",
      "1563/1563 [==============================] - 21s 14ms/step - loss: 0.8198 - accuracy: 0.7127 - val_loss: 0.8764 - val_accuracy: 0.6980\n",
      "Epoch 6/10\n",
      "1563/1563 [==============================] - 21s 13ms/step - loss: 0.7590 - accuracy: 0.7355 - val_loss: 0.8670 - val_accuracy: 0.7018\n",
      "Epoch 7/10\n",
      "1563/1563 [==============================] - 21s 14ms/step - loss: 0.7016 - accuracy: 0.7542 - val_loss: 0.8789 - val_accuracy: 0.6987\n",
      "Epoch 8/10\n",
      "1563/1563 [==============================] - 21s 14ms/step - loss: 0.6601 - accuracy: 0.7685 - val_loss: 0.8859 - val_accuracy: 0.6992\n",
      "Epoch 9/10\n",
      "1563/1563 [==============================] - 21s 13ms/step - loss: 0.6180 - accuracy: 0.7822 - val_loss: 0.8499 - val_accuracy: 0.7119\n",
      "Epoch 10/10\n",
      " 402/1563 [======>.......................] - ETA: 14s - loss: 0.5587 - accuracy: 0.8005"
     ]
    }
   ],
   "source": [
    "import tensorflow as tf\n",
    "from tensorflow.keras import layers, models\n",
    "from tensorflow.keras.datasets import cifar10\n",
    "from tensorflow.keras.utils import to_categorical\n",
    "\n",
    "# Убеждаемся, что GPU не доступен\n",
    "physical_devices = tf.config.list_physical_devices('GPU')\n",
    "if physical_devices:\n",
    "    tf.config.set_visible_devices([], 'GPU')  # Скрываем GPU\n",
    "\n",
    "# Загрузка и предобработка данных\n",
    "(train_images, train_labels), (test_images, test_labels) = cifar10.load_data()\n",
    "train_images, test_images = train_images / 255.0, test_images / 255.0\n",
    "train_labels = to_categorical(train_labels)\n",
    "test_labels = to_categorical(test_labels)\n",
    "\n",
    "# Создание нейронной сети\n",
    "model = models.Sequential([\n",
    "    layers.Conv2D(32, (3, 3), activation='relu', input_shape=(32, 32, 3)),\n",
    "    layers.MaxPooling2D((2, 2)),\n",
    "    layers.Conv2D(64, (3, 3), activation='relu'),\n",
    "    layers.MaxPooling2D((2, 2)),\n",
    "    layers.Conv2D(64, (3, 3), activation='relu'),\n",
    "    layers.Flatten(),\n",
    "    layers.Dense(64, activation='relu'),\n",
    "    layers.Dense(10, activation='softmax')\n",
    "])\n",
    "\n",
    "# Компиляция модели\n",
    "model.compile(optimizer='adam',\n",
    "              loss='categorical_crossentropy',\n",
    "              metrics=['accuracy'])\n",
    "\n",
    "# Вывод информации о доступных устройствах (должно быть только CPU)\n",
    "print(\"Доступные устройства:\", tf.config.list_physical_devices())\n",
    "\n",
    "# Обучение модели\n",
    "history = model.fit(train_images, train_labels, epochs=10, validation_data=(test_images, test_labels))\n"
   ]
  }
 ],
 "metadata": {
  "kernelspec": {
   "display_name": "base",
   "language": "python",
   "name": "python3"
  },
  "language_info": {
   "codemirror_mode": {
    "name": "ipython",
    "version": 3
   },
   "file_extension": ".py",
   "mimetype": "text/x-python",
   "name": "python",
   "nbconvert_exporter": "python",
   "pygments_lexer": "ipython3",
   "version": "3.9.18"
  }
 },
 "nbformat": 4,
 "nbformat_minor": 2
}
