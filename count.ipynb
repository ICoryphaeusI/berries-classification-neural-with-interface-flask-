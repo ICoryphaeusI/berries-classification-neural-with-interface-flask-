{
 "cells": [
  {
   "cell_type": "code",
   "execution_count": 9,
   "metadata": {},
   "outputs": [
    {
     "name": "stdout",
     "output_type": "stream",
     "text": [
      "Количество файлов в папке 'D:\\diplom_baza\\klukva': 150\n"
     ]
    }
   ],
   "source": [
    "import os\n",
    "\n",
    "def count_files_in_folder(folder_path):\n",
    "    try:\n",
    "        # Получаем список файлов в указанной папке\n",
    "        files = os.listdir(folder_path)\n",
    "        \n",
    "        # Считаем количество файлов\n",
    "        file_count = len(files)\n",
    "        \n",
    "        print(f\"Количество файлов в папке '{folder_path}': {file_count}\")\n",
    "        \n",
    "    except FileNotFoundError:\n",
    "        print(f\"Папка '{folder_path}' не найдена.\")\n",
    "    except Exception as e:\n",
    "        print(f\"Произошла ошибка: {e}\")\n",
    "\n",
    "# Укажите путь к папке, для которой вы хотите подсчитать количество файлов\n",
    "folder_path = \"D:\\diplom_baza\\klukva\"\n",
    "\n",
    "count_files_in_folder(folder_path)\n"
   ]
  },
  {
   "cell_type": "code",
   "execution_count": 91,
   "metadata": {},
   "outputs": [
    {
     "name": "stdout",
     "output_type": "stream",
     "text": [
      "Количество файлов в папке 'D:\\diplom_baza\\aug_baza\\zemlenika': 150\n",
      "Уникальные расширения файлов в папке 'D:\\diplom_baza\\aug_baza\\zemlenika': .jpg, .png, .jpeg\n"
     ]
    }
   ],
   "source": [
    "import os\n",
    "\n",
    "def count_files_and_extensions(folder_path):\n",
    "    try:\n",
    "        # Получаем список файлов в указанной папке\n",
    "        files = os.listdir(folder_path)\n",
    "\n",
    "        # Считаем количество файлов\n",
    "        file_count = len(files)\n",
    "        print(f\"Количество файлов в папке '{folder_path}': {file_count}\")\n",
    "\n",
    "        # Получаем расширения файлов\n",
    "        extensions = set(os.path.splitext(file)[1] for file in files)\n",
    "\n",
    "        # Выводим список уникальных расширений\n",
    "        print(f\"Уникальные расширения файлов в папке '{folder_path}': {', '.join(extensions)}\")\n",
    "\n",
    "    except FileNotFoundError:\n",
    "        print(f\"Папка '{folder_path}' не найдена.\")\n",
    "    except Exception as e:\n",
    "        print(f\"Произошла ошибка: {e}\")\n",
    "\n",
    "# Укажите путь к папке, для которой вы хотите подсчитать количество файлов и расширений\n",
    "folder_path = r\"D:\\diplom_baza\\aug_baza\\zemlenika\"\n",
    "\n",
    "count_files_and_extensions(folder_path)\n"
   ]
  },
  {
   "cell_type": "code",
   "execution_count": 93,
   "metadata": {},
   "outputs": [
    {
     "name": "stdout",
     "output_type": "stream",
     "text": [
      "Общее количество изображений в папке D:\\diplom_baza\\aug_baza: 39739\n"
     ]
    }
   ],
   "source": [
    "import os\n",
    "\n",
    "def count_images_in_folder(main_folder_path):\n",
    "    total_images = 0\n",
    "\n",
    "    # Проход по каждой дочерней папке в главной папке\n",
    "    for folder_name in os.listdir(main_folder_path):\n",
    "        folder_path = os.path.join(main_folder_path, folder_name)\n",
    "\n",
    "        # Проверка, является ли путь поддиректорией и существует ли\n",
    "        if os.path.isdir(folder_path):\n",
    "            # Проход по каждому файлу в текущей дочерней папке\n",
    "            for file_name in os.listdir(folder_path):\n",
    "                file_path = os.path.join(folder_path, file_name)\n",
    "\n",
    "                # Проверка, является ли файл изображением\n",
    "                if file_name.lower().endswith(('.png', '.jpg', '.jpeg', '.jfif', '.webp')):\n",
    "                    total_images += 1\n",
    "\n",
    "    return total_images\n",
    "\n",
    "# Пример использования\n",
    "main_folder_path = \"D:\\diplom_baza\\\\aug_baza\"\n",
    "total_images_count = count_images_in_folder(main_folder_path)\n",
    "\n",
    "print(f\"Общее количество изображений в папке {main_folder_path}: {total_images_count}\")\n"
   ]
  },
  {
   "cell_type": "code",
   "execution_count": null,
   "metadata": {},
   "outputs": [],
   "source": [
    "from tensorflow.python.client import device_lib\n",
    "\n",
    "print(device_lib.list_local_devices())"
   ]
  },
  {
   "cell_type": "code",
   "execution_count": 1,
   "metadata": {},
   "outputs": [
    {
     "name": "stdout",
     "output_type": "stream",
     "text": [
      "Доступные устройства GPU:\n",
      "PhysicalDevice(name='/physical_device:GPU:0', device_type='GPU')\n"
     ]
    }
   ],
   "source": [
    "import tensorflow as tf\n",
    "\n",
    "# Выведем информацию о доступных устройствах\n",
    "physical_devices = tf.config.list_physical_devices('GPU')\n",
    "if len(physical_devices) == 0:\n",
    "    print(\"Графический процессор не обнаружен.\")\n",
    "else:\n",
    "    print(\"Доступные устройства GPU:\")\n",
    "    for device in physical_devices:\n",
    "        print(device)\n"
   ]
  },
  {
   "cell_type": "code",
   "execution_count": 1,
   "metadata": {},
   "outputs": [
    {
     "name": "stdout",
     "output_type": "stream",
     "text": [
      "1 Physical GPUs, 1 Logical GPUs\n",
      "Epoch 1/5\n"
     ]
    },
    {
     "ename": "",
     "evalue": "",
     "output_type": "error",
     "traceback": [
      "\u001b[1;31mThe Kernel crashed while executing code in the the current cell or a previous cell. Please review the code in the cell(s) to identify a possible cause of the failure. Click <a href='https://aka.ms/vscodeJupyterKernelCrash'>here</a> for more info. View Jupyter <a href='command:jupyter.viewOutput'>log</a> for further details."
     ]
    }
   ],
   "source": [
    "import tensorflow as tf\n",
    "from tensorflow.keras import layers, models\n",
    "from tensorflow.keras.datasets import mnist\n",
    "\n",
    "# Добавляем проверку доступных GPU и устанавливаем видимость GPU\n",
    "gpus = tf.config.experimental.list_physical_devices('GPU')\n",
    "if gpus:\n",
    "    try:\n",
    "        tf.config.experimental.set_visible_devices(gpus[0], 'GPU')\n",
    "        logical_gpus = tf.config.experimental.list_logical_devices('GPU')\n",
    "        print(len(gpus), \"Physical GPUs,\", len(logical_gpus), \"Logical GPUs\")\n",
    "    except RuntimeError as e:\n",
    "        print(e)\n",
    "\n",
    "# Загрузка данных MNIST\n",
    "(train_images, train_labels), (test_images, test_labels) = mnist.load_data()\n",
    "\n",
    "# Предобработка данных\n",
    "train_images = train_images.reshape((60000, 28, 28, 1)).astype('float32') / 255\n",
    "test_images = test_images.reshape((10000, 28, 28, 1)).astype('float32') / 255\n",
    "\n",
    "train_labels = tf.keras.utils.to_categorical(train_labels)\n",
    "test_labels = tf.keras.utils.to_categorical(test_labels)\n",
    "\n",
    "# Создание простой сверточной нейронной сети\n",
    "model = models.Sequential()\n",
    "model.add(layers.Conv2D(32, (3, 3), activation='relu', input_shape=(28, 28, 1)))\n",
    "model.add(layers.MaxPooling2D((2, 2)))\n",
    "model.add(layers.Conv2D(64, (3, 3), activation='relu'))\n",
    "model.add(layers.MaxPooling2D((2, 2)))\n",
    "model.add(layers.Conv2D(64, (3, 3), activation='relu'))\n",
    "model.add(layers.Flatten())\n",
    "model.add(layers.Dense(64, activation='relu'))\n",
    "model.add(layers.Dense(10, activation='softmax'))\n",
    "\n",
    "# Компиляция модели\n",
    "model.compile(optimizer='adam',\n",
    "              loss='categorical_crossentropy',\n",
    "              metrics=['accuracy'])\n",
    "\n",
    "# Используем tf.data.Dataset\n",
    "train_dataset = tf.data.Dataset.from_tensor_slices((train_images, train_labels))\n",
    "train_dataset = train_dataset.shuffle(buffer_size=10000).batch(32)\n",
    "\n",
    "test_dataset = tf.data.Dataset.from_tensor_slices((test_images, test_labels))\n",
    "test_dataset = test_dataset.batch(32)\n",
    "\n",
    "# Обучение модели\n",
    "model.fit(train_dataset, epochs=5, validation_data=test_dataset)\n"
   ]
  },
  {
   "cell_type": "code",
   "execution_count": 6,
   "metadata": {},
   "outputs": [
    {
     "name": "stdout",
     "output_type": "stream",
     "text": [
      "Изображение успешно изменено. Новый путь: измененное_2000x2000_1.jpg\n"
     ]
    }
   ],
   "source": [
    "from PIL import Image\n",
    "\n",
    "def изменить_разрешение(путь_к_изображению, новое_разрешение):\n",
    "    \"\"\"\n",
    "    Изменяет разрешение изображения и сохраняет его.\n",
    "\n",
    "    Параметры:\n",
    "    - путь_к_изображению (str): Путь к изображению.\n",
    "    - новое_разрешение (tuple): Кортеж (ширина, высота) нового разрешения.\n",
    "\n",
    "    Возвращает:\n",
    "    - str: Путь к измененному изображению.\n",
    "    \"\"\"\n",
    "    try:\n",
    "        # Открываем изображение\n",
    "        изображение = Image.open(путь_к_изображению)\n",
    "\n",
    "        # Изменяем разрешение\n",
    "        новое_изображение = изображение.resize(новое_разрешение)\n",
    "\n",
    "        # Получаем путь для сохранения измененного изображения\n",
    "        новый_путь = f\"измененное_{новое_разрешение[0]}x{новое_разрешение[1]}_{путь_к_изображению}\"\n",
    "\n",
    "        # Сохраняем измененное изображение\n",
    "        новое_изображение.save(новый_путь)\n",
    "\n",
    "        return новый_путь\n",
    "    except Exception as e:\n",
    "        return f\"Произошла ошибка: {str(e)}\"\n",
    "\n",
    "\n",
    "# Пример использования\n",
    "путь_к_изображению = \"1.jpg\"  # Укажите свой путь к изображению\n",
    "новое_разрешение = (2000, 2000)  # Укажите новое разрешение (ширина, высота)\n",
    "\n",
    "новый_путь = изменить_разрешение(путь_к_изображению, новое_разрешение)\n",
    "print(f\"Изображение успешно изменено. Новый путь: {новый_путь}\")\n"
   ]
  },
  {
   "cell_type": "code",
   "execution_count": null,
   "metadata": {},
   "outputs": [],
   "source": []
  }
 ],
 "metadata": {
  "kernelspec": {
   "display_name": "base",
   "language": "python",
   "name": "python3"
  },
  "language_info": {
   "codemirror_mode": {
    "name": "ipython",
    "version": 3
   },
   "file_extension": ".py",
   "mimetype": "text/x-python",
   "name": "python",
   "nbconvert_exporter": "python",
   "pygments_lexer": "ipython3",
   "version": "3.11.5"
  }
 },
 "nbformat": 4,
 "nbformat_minor": 2
}
